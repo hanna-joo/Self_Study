{
 "cells": [
  {
   "cell_type": "markdown",
   "id": "5f8fe83f",
   "metadata": {
    "papermill": {
     "duration": 0.023041,
     "end_time": "2022-04-20T05:35:26.204446",
     "exception": false,
     "start_time": "2022-04-20T05:35:26.181405",
     "status": "completed"
    },
    "tags": []
   },
   "source": [
    "# Bike Sharing Demand Step 4"
   ]
  },
  {
   "cell_type": "markdown",
   "id": "bbaed955",
   "metadata": {
    "papermill": {
     "duration": 0.021801,
     "end_time": "2022-04-20T05:35:26.248275",
     "exception": false,
     "start_time": "2022-04-20T05:35:26.226474",
     "status": "completed"
    },
    "tags": []
   },
   "source": [
    "---\n",
    "### Analysis summary and modeling strategy\n",
    "#### 1) Analysis summary\n",
    "1. Transform target values\n",
    "- before training : 'count' > log(count)\n",
    "- after training : log(count) > 'count'\n",
    "2. Add derived features\n",
    "- 'year', 'month', 'day', 'hour', 'minute', 'second'\n",
    "- 'weekday'\n",
    "3. Remove features\n",
    "- 'casual', 'registered'\n",
    "- 'datetime'\n",
    "- 'date', 'month'\n",
    "- 'day', 'minute', 'second'\n",
    "- 'windspeed'\n",
    "4. Delete outliers\n",
    "- Data whose 'weather' value is 4\n",
    "\n",
    "#### 2) Modeling strategy\n",
    "- Baseline model : LinearRegression\n",
    "- Performance improvement : Ridge, Lasso, RandomForest\n",
    "    + Feature engineering : Same apply for each model\n",
    "    + Hyperparameter optimization : GridSearch\n",
    "- Etc\n",
    "    + Target value is log(count) not count\n",
    "--- "
   ]
  },
  {
   "cell_type": "markdown",
   "id": "63a0d903",
   "metadata": {
    "papermill": {
     "duration": 0.021118,
     "end_time": "2022-04-20T05:35:26.290778",
     "exception": false,
     "start_time": "2022-04-20T05:35:26.269660",
     "status": "completed"
    },
    "tags": []
   },
   "source": [
    "## 4. Performance improvement\n",
    "- Process\n",
    "    1. Import data\n",
    "    2. Feature engineering\n",
    "    3. Make evaluation metrics calculation function\n",
    "    4. Hyperparameter optimization (Train model)\n",
    "        + **Generate model**\n",
    "        + **Generate GridSearch object**\n",
    "        + **Train GridSearch**\n",
    "    5. Validate performance\n",
    "        + If performance is not good, go back to **Feature Engineering** or **Hyperparameter Optimization**\n",
    "    6. Submit"
   ]
  },
  {
   "cell_type": "markdown",
   "id": "164347c9",
   "metadata": {
    "papermill": {
     "duration": 0.021118,
     "end_time": "2022-04-20T05:35:26.333542",
     "exception": false,
     "start_time": "2022-04-20T05:35:26.312424",
     "status": "completed"
    },
    "tags": []
   },
   "source": [
    "### 4.1. Ridge Regression Model\n",
    "- Regularization : The way to ensure that a model does not overfit the training data\n",
    "- Ridge regression model : Linear regression model which apply L2 regularization\n",
    "    + alpha : Parameter that adjust the degree of regularization"
   ]
  },
  {
   "cell_type": "markdown",
   "id": "4cba6a97",
   "metadata": {
    "papermill": {
     "duration": 0.022505,
     "end_time": "2022-04-20T05:35:26.377474",
     "exception": false,
     "start_time": "2022-04-20T05:35:26.354969",
     "status": "completed"
    },
    "tags": []
   },
   "source": [
    "#### 1) Import data"
   ]
  },
  {
   "cell_type": "code",
   "execution_count": 1,
   "id": "b0059737",
   "metadata": {
    "execution": {
     "iopub.execute_input": "2022-04-20T05:35:26.432988Z",
     "iopub.status.busy": "2022-04-20T05:35:26.432321Z",
     "iopub.status.idle": "2022-04-20T05:35:26.512178Z",
     "shell.execute_reply": "2022-04-20T05:35:26.511473Z",
     "shell.execute_reply.started": "2022-04-20T05:35:05.231577Z"
    },
    "papermill": {
     "duration": 0.112554,
     "end_time": "2022-04-20T05:35:26.512370",
     "exception": false,
     "start_time": "2022-04-20T05:35:26.399816",
     "status": "completed"
    },
    "tags": []
   },
   "outputs": [],
   "source": [
    "# Import data\n",
    "import pandas as pd\n",
    "\n",
    "data_path = '../../Datasets/bike_sharing_demand/'\n",
    "\n",
    "train = pd.read_csv(data_path + 'train.csv')\n",
    "test = pd.read_csv(data_path + 'test.csv')\n",
    "submission = pd.read_csv(data_path + 'sampleSubmission.csv')"
   ]
  },
  {
   "cell_type": "markdown",
   "id": "05ab8ee7",
   "metadata": {
    "papermill": {
     "duration": 0.021275,
     "end_time": "2022-04-20T05:35:26.555703",
     "exception": false,
     "start_time": "2022-04-20T05:35:26.534428",
     "status": "completed"
    },
    "tags": []
   },
   "source": [
    "#### 2) Feature engineering"
   ]
  },
  {
   "cell_type": "code",
   "execution_count": 2,
   "id": "90b8f558",
   "metadata": {
    "execution": {
     "iopub.execute_input": "2022-04-20T05:35:26.616098Z",
     "iopub.status.busy": "2022-04-20T05:35:26.615408Z",
     "iopub.status.idle": "2022-04-20T05:35:26.918939Z",
     "shell.execute_reply": "2022-04-20T05:35:26.918314Z",
     "shell.execute_reply.started": "2022-04-20T05:35:05.287598Z"
    },
    "papermill": {
     "duration": 0.341022,
     "end_time": "2022-04-20T05:35:26.919083",
     "exception": false,
     "start_time": "2022-04-20T05:35:26.578061",
     "status": "completed"
    },
    "tags": []
   },
   "outputs": [],
   "source": [
    "# Delete outliers of train data\n",
    "train = train[train['weather'] != 4]\n",
    "\n",
    "# Merge train data and test data\n",
    "all_data = pd.concat([train, test], ignore_index=True)\n",
    "\n",
    "# Add derived features\n",
    "from datetime import datetime\n",
    "all_data['date'] = all_data['datetime'].apply(lambda x: x.split()[0])\n",
    "all_data['year'] = all_data['datetime'].apply(lambda x: x.split()[0].split('-')[0])\n",
    "all_data['month'] = all_data['datetime'].apply(lambda x: x.split()[0].split('-')[1])\n",
    "all_data['hour'] = all_data['datetime'].apply(lambda x: x.split()[1].split(':')[0])\n",
    "all_data['weekday'] = all_data['date'].apply(lambda dateStr: datetime.strptime(dateStr, \"%Y-%m-%d\").weekday())\n",
    "\n",
    "# Remove unnecessary features\n",
    "drop_features = ['casual', 'registered', 'datetime', 'date', 'month', 'windspeed']\n",
    "all_data = all_data.drop(drop_features, axis=1)\n",
    "\n",
    "# Split data into train data and test data\n",
    "X_train = all_data[~pd.isnull(all_data['count'])]\n",
    "X_test = all_data[pd.isnull(all_data['count'])]\n",
    "\n",
    "# Remove target values from train and test data\n",
    "X_train = X_train.drop(['count'], axis=1)\n",
    "X_test = X_test.drop(['count'], axis=1)\n",
    "\n",
    "# Target values\n",
    "y = train['count']"
   ]
  },
  {
   "cell_type": "markdown",
   "id": "9ca6aff9",
   "metadata": {
    "papermill": {
     "duration": 0.021399,
     "end_time": "2022-04-20T05:35:26.964694",
     "exception": false,
     "start_time": "2022-04-20T05:35:26.943295",
     "status": "completed"
    },
    "tags": []
   },
   "source": [
    "#### 3) Make evaluation index calculation function"
   ]
  },
  {
   "cell_type": "code",
   "execution_count": 3,
   "id": "bed55e45",
   "metadata": {
    "execution": {
     "iopub.execute_input": "2022-04-20T05:35:27.017035Z",
     "iopub.status.busy": "2022-04-20T05:35:27.016078Z",
     "iopub.status.idle": "2022-04-20T05:35:27.019287Z",
     "shell.execute_reply": "2022-04-20T05:35:27.018630Z",
     "shell.execute_reply.started": "2022-04-20T05:35:05.627361Z"
    },
    "papermill": {
     "duration": 0.033085,
     "end_time": "2022-04-20T05:35:27.019455",
     "exception": false,
     "start_time": "2022-04-20T05:35:26.986370",
     "status": "completed"
    },
    "tags": []
   },
   "outputs": [],
   "source": [
    "import numpy as np\n",
    "\n",
    "def rmsle(y_true, y_pred, convertExp=True):\n",
    "    # Exponential transformation\n",
    "    if convertExp:\n",
    "        y_true = np.exp(y_true)\n",
    "        y_pred = np.exp(y_pred)\n",
    "        \n",
    "    # Log transformation and convert missing values to zero    \n",
    "    log_true = np.nan_to_num(np.log(y_true+1))\n",
    "    log_pred = np.nan_to_num(np.log(y_pred+1))\n",
    "    \n",
    "    # Calculate RMSLE\n",
    "    output = np.sqrt(np.mean((log_true - log_pred)**2))\n",
    "    return output"
   ]
  },
  {
   "cell_type": "markdown",
   "id": "1e824cb4",
   "metadata": {
    "papermill": {
     "duration": 0.022059,
     "end_time": "2022-04-20T05:35:27.064114",
     "exception": false,
     "start_time": "2022-04-20T05:35:27.042055",
     "status": "completed"
    },
    "tags": []
   },
   "source": [
    "#### 4) Hyperparameter optimization (Train model)\n",
    "- GridSearch finds **optimal hyperparameter values** by changing hyperparameter values and evaluating model performance through cross-validation\n",
    "\n",
    "\n",
    "- Process\n",
    "    1. Generate model\n",
    "    2. Generate GridSearch object\n",
    "        + Target model\n",
    "        + List of hyperparameter values (Dictionary type)\n",
    "        + Evaluation function for cross-validation\n",
    "    3. Train model (GridSearch)"
   ]
  },
  {
   "cell_type": "markdown",
   "id": "f90b299f",
   "metadata": {
    "papermill": {
     "duration": 0.022593,
     "end_time": "2022-04-20T05:35:27.109309",
     "exception": false,
     "start_time": "2022-04-20T05:35:27.086716",
     "status": "completed"
    },
    "tags": []
   },
   "source": [
    "##### (1) Generate model"
   ]
  },
  {
   "cell_type": "code",
   "execution_count": 4,
   "id": "085e42ae",
   "metadata": {
    "execution": {
     "iopub.execute_input": "2022-04-20T05:35:27.159066Z",
     "iopub.status.busy": "2022-04-20T05:35:27.158304Z",
     "iopub.status.idle": "2022-04-20T05:35:28.294365Z",
     "shell.execute_reply": "2022-04-20T05:35:28.293799Z",
     "shell.execute_reply.started": "2022-04-20T05:35:05.637559Z"
    },
    "papermill": {
     "duration": 1.163264,
     "end_time": "2022-04-20T05:35:28.294531",
     "exception": false,
     "start_time": "2022-04-20T05:35:27.131267",
     "status": "completed"
    },
    "tags": []
   },
   "outputs": [],
   "source": [
    "# Generate model\n",
    "from sklearn.linear_model import Ridge\n",
    "from sklearn.model_selection import GridSearchCV\n",
    "from sklearn import metrics\n",
    "\n",
    "ridge_model = Ridge()"
   ]
  },
  {
   "cell_type": "markdown",
   "id": "3069fb92",
   "metadata": {
    "papermill": {
     "duration": 0.021501,
     "end_time": "2022-04-20T05:35:28.337681",
     "exception": false,
     "start_time": "2022-04-20T05:35:28.316180",
     "status": "completed"
    },
    "tags": []
   },
   "source": [
    "##### (2) Generate GridSearch object\n",
    "- Preparations\n",
    "    + Target model\n",
    "    + List of hyperparameter values (Dictionary type)\n",
    "    + Evaluation function for cross-validation\n",
    "- GridSearchCV() parameters\n",
    "    + **estimator** : Classification/regression model\n",
    "    + **param_grid** : Dictionary of hyperparameter name and hyperparameter values\n",
    "    + **scoring** : Evaluation metrics\n",
    "        - accracy, f1, roc_auc, recall are basically provided\n",
    "        - metrics.make_scorer : The function used when creating a separate evaluation metrics\n",
    "    + **cv** : Number of cross-validation splits"
   ]
  },
  {
   "cell_type": "code",
   "execution_count": 5,
   "id": "9fbe563c",
   "metadata": {
    "execution": {
     "iopub.execute_input": "2022-04-20T05:35:28.387443Z",
     "iopub.status.busy": "2022-04-20T05:35:28.386618Z",
     "iopub.status.idle": "2022-04-20T05:35:28.390059Z",
     "shell.execute_reply": "2022-04-20T05:35:28.389389Z",
     "shell.execute_reply.started": "2022-04-20T05:35:05.648862Z"
    },
    "papermill": {
     "duration": 0.030984,
     "end_time": "2022-04-20T05:35:28.390205",
     "exception": false,
     "start_time": "2022-04-20T05:35:28.359221",
     "status": "completed"
    },
    "tags": []
   },
   "outputs": [],
   "source": [
    "# List of hyperparameter values (Dictionary type)\n",
    "ridge_params = {'max_iter':[3000], 'alpha':[0.1, 1, 2, 3, 4, 10, 30, 100, 200, 300, 400, 800, 900, 1000]}\n",
    "\n",
    "# Evaluation function for cross-validation (RMSLE score)\n",
    "rmsle_scorer = metrics.make_scorer(rmsle, greater_is_better=False)"
   ]
  },
  {
   "cell_type": "code",
   "execution_count": 6,
   "id": "1fce0a11",
   "metadata": {
    "execution": {
     "iopub.execute_input": "2022-04-20T05:35:28.441378Z",
     "iopub.status.busy": "2022-04-20T05:35:28.440208Z",
     "iopub.status.idle": "2022-04-20T05:35:28.443302Z",
     "shell.execute_reply": "2022-04-20T05:35:28.442726Z",
     "shell.execute_reply.started": "2022-04-20T05:35:05.662722Z"
    },
    "papermill": {
     "duration": 0.030701,
     "end_time": "2022-04-20T05:35:28.443478",
     "exception": false,
     "start_time": "2022-04-20T05:35:28.412777",
     "status": "completed"
    },
    "tags": []
   },
   "outputs": [],
   "source": [
    "# Generate GridSearch object (with Ridge)\n",
    "gridsearch_ridge_model = GridSearchCV(estimator=ridge_model,\n",
    "                                     param_grid=ridge_params,\n",
    "                                     scoring=rmsle_scorer,\n",
    "                                     cv=5)"
   ]
  },
  {
   "cell_type": "markdown",
   "id": "e0f45108",
   "metadata": {
    "papermill": {
     "duration": 0.02236,
     "end_time": "2022-04-20T05:35:28.488277",
     "exception": false,
     "start_time": "2022-04-20T05:35:28.465917",
     "status": "completed"
    },
    "tags": []
   },
   "source": [
    "##### (3) Train model (GridSearch)\n",
    "- Store the best performing value in **best_params_** attribute\n",
    "- Store the best model trained with the optimal values in **best_estimator_** attribute"
   ]
  },
  {
   "cell_type": "code",
   "execution_count": 7,
   "id": "b9cfa8f8",
   "metadata": {
    "execution": {
     "iopub.execute_input": "2022-04-20T05:35:28.539525Z",
     "iopub.status.busy": "2022-04-20T05:35:28.538394Z",
     "iopub.status.idle": "2022-04-20T05:35:31.098093Z",
     "shell.execute_reply": "2022-04-20T05:35:31.099017Z",
     "shell.execute_reply.started": "2022-04-20T05:35:05.677265Z"
    },
    "papermill": {
     "duration": 2.58843,
     "end_time": "2022-04-20T05:35:31.099306",
     "exception": false,
     "start_time": "2022-04-20T05:35:28.510876",
     "status": "completed"
    },
    "tags": []
   },
   "outputs": [
    {
     "data": {
      "text/plain": [
       "GridSearchCV(cv=5, estimator=Ridge(),\n",
       "             param_grid={'alpha': [0.1, 1, 2, 3, 4, 10, 30, 100, 200, 300, 400,\n",
       "                                   800, 900, 1000],\n",
       "                         'max_iter': [3000]},\n",
       "             scoring=make_scorer(rmsle, greater_is_better=False))"
      ]
     },
     "execution_count": 7,
     "metadata": {},
     "output_type": "execute_result"
    }
   ],
   "source": [
    "# Log transformation of target values\n",
    "log_y = np.log(y)\n",
    "\n",
    "# Train model and GridSearch\n",
    "gridsearch_ridge_model.fit(X_train, log_y)"
   ]
  },
  {
   "cell_type": "code",
   "execution_count": 8,
   "id": "a8e235d8",
   "metadata": {
    "execution": {
     "iopub.execute_input": "2022-04-20T05:35:31.190902Z",
     "iopub.status.busy": "2022-04-20T05:35:31.189623Z",
     "iopub.status.idle": "2022-04-20T05:35:31.195638Z",
     "shell.execute_reply": "2022-04-20T05:35:31.196596Z",
     "shell.execute_reply.started": "2022-04-20T05:35:06.825177Z"
    },
    "papermill": {
     "duration": 0.055998,
     "end_time": "2022-04-20T05:35:31.196889",
     "exception": false,
     "start_time": "2022-04-20T05:35:31.140891",
     "status": "completed"
    },
    "tags": []
   },
   "outputs": [
    {
     "name": "stdout",
     "output_type": "stream",
     "text": [
      "best hyperparameter : {'alpha': 0.1, 'max_iter': 3000}\n"
     ]
    }
   ],
   "source": [
    "print('best hyperparameter :', gridsearch_ridge_model.best_params_)"
   ]
  },
  {
   "cell_type": "markdown",
   "id": "36524d14",
   "metadata": {
    "papermill": {
     "duration": 0.022913,
     "end_time": "2022-04-20T05:35:31.245616",
     "exception": false,
     "start_time": "2022-04-20T05:35:31.222703",
     "status": "completed"
    },
    "tags": []
   },
   "source": [
    "#### 5) Validate performance"
   ]
  },
  {
   "cell_type": "code",
   "execution_count": 9,
   "id": "0a4a1d0d",
   "metadata": {
    "execution": {
     "iopub.execute_input": "2022-04-20T05:35:31.293712Z",
     "iopub.status.busy": "2022-04-20T05:35:31.293064Z",
     "iopub.status.idle": "2022-04-20T05:35:31.322839Z",
     "shell.execute_reply": "2022-04-20T05:35:31.323702Z",
     "shell.execute_reply.started": "2022-04-20T05:35:06.835185Z"
    },
    "papermill": {
     "duration": 0.056278,
     "end_time": "2022-04-20T05:35:31.324025",
     "exception": false,
     "start_time": "2022-04-20T05:35:31.267747",
     "status": "completed"
    },
    "tags": []
   },
   "outputs": [
    {
     "name": "stdout",
     "output_type": "stream",
     "text": [
      "RMSLE value of Ridge model : 1.0205\n"
     ]
    }
   ],
   "source": [
    "# Predict with train data\n",
    "preds = gridsearch_ridge_model.best_estimator_.predict(X_train)\n",
    "\n",
    "# Evaluate Lasso model\n",
    "print(f'RMSLE value of Ridge model : {rmsle(log_y, preds, True):.4f}')"
   ]
  },
  {
   "cell_type": "markdown",
   "id": "eab393e5",
   "metadata": {
    "papermill": {
     "duration": 0.041357,
     "end_time": "2022-04-20T05:35:31.406991",
     "exception": false,
     "start_time": "2022-04-20T05:35:31.365634",
     "status": "completed"
    },
    "tags": []
   },
   "source": [
    "### 4.2. Lasso Regression Model\n",
    "- Lasso regression model : Linear regression model which apply L1 regularization\n",
    "    + alpha : Parameter that adjust the degree of regularization"
   ]
  },
  {
   "cell_type": "markdown",
   "id": "e6d27c63",
   "metadata": {
    "papermill": {
     "duration": 0.022308,
     "end_time": "2022-04-20T05:35:31.463074",
     "exception": false,
     "start_time": "2022-04-20T05:35:31.440766",
     "status": "completed"
    },
    "tags": []
   },
   "source": [
    "#### 4) Hyperparameter optimization (Train model)\n",
    "- Process\n",
    "    1. Generate model\n",
    "    2. Generate GridSearch object\n",
    "        + Target model\n",
    "        + List of hyperparameter values (Dictionary type)\n",
    "        + Evaluation function for cross-validation\n",
    "    3. Train model (GridSearch)"
   ]
  },
  {
   "cell_type": "code",
   "execution_count": 10,
   "id": "6b1c8f9d",
   "metadata": {
    "execution": {
     "iopub.execute_input": "2022-04-20T05:35:31.516675Z",
     "iopub.status.busy": "2022-04-20T05:35:31.515869Z",
     "iopub.status.idle": "2022-04-20T05:35:35.373064Z",
     "shell.execute_reply": "2022-04-20T05:35:35.373933Z"
    },
    "papermill": {
     "duration": 3.888264,
     "end_time": "2022-04-20T05:35:35.374216",
     "exception": false,
     "start_time": "2022-04-20T05:35:31.485952",
     "status": "completed"
    },
    "tags": []
   },
   "outputs": [
    {
     "name": "stdout",
     "output_type": "stream",
     "text": [
      "best hyperparameter : {'alpha': 0.00125, 'max_iter': 3000}\n"
     ]
    }
   ],
   "source": [
    "# Generate model\n",
    "from sklearn.linear_model import Lasso\n",
    "lasso_model = Lasso()\n",
    "\n",
    "# List of hyperparameter values (Dictionary type)\n",
    "lasso_alpha = 1/np.array([0.1, 1, 2, 3, 4, 10, 30, 100, 200, 300, 400, 800, 900, 1000])\n",
    "lasso_params = {'max_iter':[3000], 'alpha':lasso_alpha}\n",
    "\n",
    "# Generate GridSearch object (with Lasso)\n",
    "gridsearch_lasso_model = GridSearchCV(estimator=lasso_model,\n",
    "                                     param_grid=lasso_params,\n",
    "                                     scoring=rmsle_scorer,\n",
    "                                     cv=5)\n",
    "\n",
    "# Train model (GridSearch)\n",
    "log_y = np.log(y)\n",
    "gridsearch_lasso_model.fit(X_train, log_y)\n",
    "\n",
    "print('best hyperparameter :', gridsearch_lasso_model.best_params_)"
   ]
  },
  {
   "cell_type": "markdown",
   "id": "d2147102",
   "metadata": {
    "papermill": {
     "duration": 0.041837,
     "end_time": "2022-04-20T05:35:35.458288",
     "exception": false,
     "start_time": "2022-04-20T05:35:35.416451",
     "status": "completed"
    },
    "tags": []
   },
   "source": [
    "#### 5) Validate performance"
   ]
  },
  {
   "cell_type": "code",
   "execution_count": 11,
   "id": "6a6082da",
   "metadata": {
    "execution": {
     "iopub.execute_input": "2022-04-20T05:35:35.528067Z",
     "iopub.status.busy": "2022-04-20T05:35:35.527126Z",
     "iopub.status.idle": "2022-04-20T05:35:35.550258Z",
     "shell.execute_reply": "2022-04-20T05:35:35.551149Z"
    },
    "papermill": {
     "duration": 0.054883,
     "end_time": "2022-04-20T05:35:35.551461",
     "exception": false,
     "start_time": "2022-04-20T05:35:35.496578",
     "status": "completed"
    },
    "tags": []
   },
   "outputs": [
    {
     "name": "stdout",
     "output_type": "stream",
     "text": [
      "RMSLE value of Lasso model : 1.0205\n"
     ]
    }
   ],
   "source": [
    "# Predict with train data\n",
    "preds = gridsearch_lasso_model.best_estimator_.predict(X_train)\n",
    "\n",
    "# Evaluate Lasso model\n",
    "print(f'RMSLE value of Lasso model : {rmsle(log_y, preds, True):.4f}')"
   ]
  },
  {
   "cell_type": "markdown",
   "id": "1241ee9e",
   "metadata": {
    "papermill": {
     "duration": 0.04295,
     "end_time": "2022-04-20T05:35:35.638038",
     "exception": false,
     "start_time": "2022-04-20T05:35:35.595088",
     "status": "completed"
    },
    "tags": []
   },
   "source": [
    "### 4.3. Random Forest Regression Model\n",
    "- Random Forest regression model : A regression model combining decision trees by bagging\n",
    "    + n_estimators : The number of decision trees to compose a random forest"
   ]
  },
  {
   "cell_type": "markdown",
   "id": "7d9fef05",
   "metadata": {
    "papermill": {
     "duration": 0.023215,
     "end_time": "2022-04-20T05:35:35.695928",
     "exception": false,
     "start_time": "2022-04-20T05:35:35.672713",
     "status": "completed"
    },
    "tags": []
   },
   "source": [
    "#### 4) Hyperparameter optimization (Train model)\n",
    "- Process\n",
    "    1. Generate model\n",
    "    2. Generate GridSearch object\n",
    "        + Target model\n",
    "        + List of [hyperparameter](https://scikit-learn.org/stable/modules/generated/sklearn.ensemble.RandomForestRegressor.html?highlight=randomforestregressor#sklearn.ensemble.RandomForestRegressor) values (Dictionary type)\n",
    "        + Evaluation function for cross-validation\n",
    "    3. Train model (GridSearch)"
   ]
  },
  {
   "cell_type": "code",
   "execution_count": 12,
   "id": "ff54c661",
   "metadata": {
    "execution": {
     "iopub.execute_input": "2022-04-20T05:35:35.750094Z",
     "iopub.status.busy": "2022-04-20T05:35:35.749184Z",
     "iopub.status.idle": "2022-04-20T05:36:31.883027Z",
     "shell.execute_reply": "2022-04-20T05:36:31.883749Z"
    },
    "papermill": {
     "duration": 56.164731,
     "end_time": "2022-04-20T05:36:31.883957",
     "exception": false,
     "start_time": "2022-04-20T05:35:35.719226",
     "status": "completed"
    },
    "tags": []
   },
   "outputs": [
    {
     "name": "stdout",
     "output_type": "stream",
     "text": [
      "best parameter : {'n_estimators': 140, 'random_state': 42}\n"
     ]
    }
   ],
   "source": [
    "# Generate model\n",
    "from sklearn.ensemble import RandomForestRegressor\n",
    "randomforest_model = RandomForestRegressor()\n",
    "\n",
    "# List of hyperparameter values (Dictionary type)\n",
    "rf_params = {'random_state':[42], 'n_estimators':[100, 120, 140]}\n",
    "\n",
    "# Generate GridSearch object (with RandomForest)\n",
    "gridsearch_random_forest_model = GridSearchCV(estimator=randomforest_model,\n",
    "                                              param_grid=rf_params,\n",
    "                                              scoring=rmsle_scorer,\n",
    "                                              cv=5)\n",
    "\n",
    "# Train model (GridSearch)\n",
    "log_y = np.log(y)\n",
    "gridsearch_random_forest_model.fit(X_train, log_y)\n",
    "print('best parameter :', gridsearch_random_forest_model.best_params_)"
   ]
  },
  {
   "cell_type": "markdown",
   "id": "598486e1",
   "metadata": {
    "papermill": {
     "duration": 0.032536,
     "end_time": "2022-04-20T05:36:31.948321",
     "exception": false,
     "start_time": "2022-04-20T05:36:31.915785",
     "status": "completed"
    },
    "tags": []
   },
   "source": [
    "#### 5) Validate performance"
   ]
  },
  {
   "cell_type": "code",
   "execution_count": 13,
   "id": "ac56b5a7",
   "metadata": {
    "execution": {
     "iopub.execute_input": "2022-04-20T05:36:32.008091Z",
     "iopub.status.busy": "2022-04-20T05:36:32.007425Z",
     "iopub.status.idle": "2022-04-20T05:36:32.305020Z",
     "shell.execute_reply": "2022-04-20T05:36:32.304347Z"
    },
    "papermill": {
     "duration": 0.32942,
     "end_time": "2022-04-20T05:36:32.305165",
     "exception": false,
     "start_time": "2022-04-20T05:36:31.975745",
     "status": "completed"
    },
    "tags": []
   },
   "outputs": [
    {
     "name": "stdout",
     "output_type": "stream",
     "text": [
      "RMLSE value of Random Forest regression model : 0.1127\n"
     ]
    }
   ],
   "source": [
    "# Predict with train data\n",
    "preds = gridsearch_random_forest_model.predict(X_train)\n",
    "\n",
    "# Evaluate Lasso model\n",
    "print(f'RMLSE value of Random Forest regression model : {rmsle(log_y, preds, True):.4f}')"
   ]
  },
  {
   "cell_type": "markdown",
   "id": "1ef498c3",
   "metadata": {
    "papermill": {
     "duration": 0.023959,
     "end_time": "2022-04-20T05:36:32.354248",
     "exception": false,
     "start_time": "2022-04-20T05:36:32.330289",
     "status": "completed"
    },
    "tags": []
   },
   "source": [
    "#### 6) Submit\n",
    "- If the distributions of the training and test data are similar, the overfitting problem is relatively small\n",
    "- So if the model performance is good on the training data, it is likely to be good on the test data as well"
   ]
  },
  {
   "cell_type": "code",
   "execution_count": 14,
   "id": "c4b27d9c",
   "metadata": {
    "execution": {
     "iopub.execute_input": "2022-04-20T05:36:32.409821Z",
     "iopub.status.busy": "2022-04-20T05:36:32.405881Z",
     "iopub.status.idle": "2022-04-20T05:36:33.506584Z",
     "shell.execute_reply": "2022-04-20T05:36:33.506027Z"
    },
    "papermill": {
     "duration": 1.127973,
     "end_time": "2022-04-20T05:36:33.506742",
     "exception": false,
     "start_time": "2022-04-20T05:36:32.378769",
     "status": "completed"
    },
    "tags": []
   },
   "outputs": [
    {
     "data": {
      "image/png": "[encoded data removed]",
      "text/plain": [
       "<Figure size 720x288 with 2 Axes>"
      ]
     },
     "metadata": {
      "needs_background": "light"
     },
     "output_type": "display_data"
    }
   ],
   "source": [
    "# Distributions of target values of train data and test data\n",
    "import seaborn as sns\n",
    "import matplotlib.pyplot as plt\n",
    "\n",
    "randomforest_preds = gridsearch_random_forest_model.best_estimator_.predict(X_test)\n",
    "\n",
    "figure, axes = plt.subplots(ncols=2)\n",
    "figure.set_size_inches(10, 4)\n",
    "\n",
    "sns.histplot(y, bins=50, ax=axes[0])\n",
    "axes[0].set_title('Train Data Distribution')\n",
    "sns.histplot(np.exp(randomforest_preds), bins=50, ax=axes[1])\n",
    "axes[1].set_title('Predicted Test Data Distribution');"
   ]
  },
  {
   "cell_type": "code",
   "execution_count": 15,
   "id": "2adcd760",
   "metadata": {
    "execution": {
     "iopub.execute_input": "2022-04-20T05:36:33.562193Z",
     "iopub.status.busy": "2022-04-20T05:36:33.561503Z",
     "iopub.status.idle": "2022-04-20T05:36:33.597462Z",
     "shell.execute_reply": "2022-04-20T05:36:33.598017Z"
    },
    "papermill": {
     "duration": 0.065525,
     "end_time": "2022-04-20T05:36:33.598219",
     "exception": false,
     "start_time": "2022-04-20T05:36:33.532694",
     "status": "completed"
    },
    "tags": []
   },
   "outputs": [],
   "source": [
    "# Exponential transformation\n",
    "submission['count'] = np.exp(randomforest_preds)\n",
    "\n",
    "# Save submission file\n",
    "submission.to_csv('submission.csv', index=False)"
   ]
  },
  {
   "cell_type": "markdown",
   "id": "5b1d78bb",
   "metadata": {
    "papermill": {
     "duration": 0.025513,
     "end_time": "2022-04-20T05:36:33.649838",
     "exception": false,
     "start_time": "2022-04-20T05:36:33.624325",
     "status": "completed"
    },
    "tags": []
   },
   "source": [
    "References\n",
    "===\n",
    "- [EDA reference](https://www.kaggle.com/viveksrinivasan/eda-ensemble-model-top-10-percentile)\n",
    "- [Modeling reference](https://www.kaggle.com/viveksrinivasan/eda-ensemble-model-top-10-percentile)\n",
    "- 머신러닝.딥러닝 문제해결 전략(신백균)"
   ]
  }
 ],
 "metadata": {
  "kernelspec": {
   "display_name": "Python 3 (ipykernel)",
   "language": "python",
   "name": "python3"
  },
  "language_info": {
   "codemirror_mode": {
    "name": "ipython",
    "version": 3
   },
   "file_extension": ".py",
   "mimetype": "text/x-python",
   "name": "python",
   "nbconvert_exporter": "python",
   "pygments_lexer": "ipython3",
   "version": "3.8.12"
  },
  "papermill": {
   "default_parameters": {},
   "duration": 77.91017,
   "end_time": "2022-04-20T05:36:35.031107",
   "environment_variables": {},
   "exception": null,
   "input_path": "__notebook__.ipynb",
   "output_path": "__notebook__.ipynb",
   "parameters": {},
   "start_time": "2022-04-20T05:35:17.120937",
   "version": "2.3.3"
  }
 },
 "nbformat": 4,
 "nbformat_minor": 5
}
