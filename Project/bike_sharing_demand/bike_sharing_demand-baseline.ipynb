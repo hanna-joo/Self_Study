{
 "cells": [
  {
   "cell_type": "markdown",
   "id": "60abdb08",
   "metadata": {
    "papermill": {
     "duration": 0.017747,
     "end_time": "2022-04-20T05:50:57.156296",
     "exception": false,
     "start_time": "2022-04-20T05:50:57.138549",
     "status": "completed"
    },
    "tags": []
   },
   "source": [
    "# Bike Sharing Demand Step 3"
   ]
  },
  {
   "cell_type": "markdown",
   "id": "1e788851",
   "metadata": {
    "papermill": {
     "duration": 0.014004,
     "end_time": "2022-04-20T05:50:57.190215",
     "exception": false,
     "start_time": "2022-04-20T05:50:57.176211",
     "status": "completed"
    },
    "tags": []
   },
   "source": [
    "---\n",
    "### Analysis summary and modeling strategy\n",
    "#### 1) Analysis summary\n",
    "1. Transform target values\n",
    "- before training : 'count' > log(count)\n",
    "- after training : log(count) > 'count'\n",
    "2. Add derived features\n",
    "- 'year', 'month', 'day', 'hour', 'minute', 'second'\n",
    "- 'weekday'\n",
    "3. Remove features\n",
    "- 'casual', 'registered'\n",
    "- 'datetime'\n",
    "- 'date', 'month'\n",
    "- 'day', 'minute', 'second'\n",
    "- 'windspeed'\n",
    "4. Delete outliers\n",
    "- Data whose 'weather' value is 4\n",
    "\n",
    "#### 2) Modeling strategy\n",
    "- Baseline model : LinearRegression\n",
    "- Performance improvement : Ridge, Lasso, RandomForest\n",
    "    + Feature engineering : Same apply for each model\n",
    "    + Hyperparameter optimization : GridSearch\n",
    "- Etc\n",
    "    + Target value is log(count) not count\n",
    "--- "
   ]
  },
  {
   "cell_type": "markdown",
   "id": "8b695ebe",
   "metadata": {
    "papermill": {
     "duration": 0.014819,
     "end_time": "2022-04-20T05:50:57.223010",
     "exception": false,
     "start_time": "2022-04-20T05:50:57.208191",
     "status": "completed"
    },
    "tags": []
   },
   "source": [
    "## 3. Baseline model\n",
    "- When training ML model, features data type should be int/float\n",
    "- Train\n",
    "    + Finding the optimal regression coefficient when given the independent variables(features) and target values\n",
    "- Predict\n",
    "    + Estimating a target value when new independent variables are given to the trained model  (which has the optimal regression coefficients)  "
   ]
  },
  {
   "cell_type": "markdown",
   "id": "fab1e72a",
   "metadata": {
    "papermill": {
     "duration": 0.018243,
     "end_time": "2022-04-20T05:50:57.255862",
     "exception": false,
     "start_time": "2022-04-20T05:50:57.237619",
     "status": "completed"
    },
    "tags": []
   },
   "source": [
    "### 3.1. Import data"
   ]
  },
  {
   "cell_type": "code",
   "execution_count": 1,
   "id": "0ee8c829",
   "metadata": {
    "execution": {
     "iopub.execute_input": "2022-04-20T05:50:57.288759Z",
     "iopub.status.busy": "2022-04-20T05:50:57.287442Z",
     "iopub.status.idle": "2022-04-20T05:50:57.370559Z",
     "shell.execute_reply": "2022-04-20T05:50:57.371187Z"
    },
    "papermill": {
     "duration": 0.101107,
     "end_time": "2022-04-20T05:50:57.371496",
     "exception": false,
     "start_time": "2022-04-20T05:50:57.270389",
     "status": "completed"
    },
    "tags": []
   },
   "outputs": [],
   "source": [
    "# Import data\n",
    "import pandas as pd\n",
    "\n",
    "data_path = '../../Datasets/bike_sharing_demand/'\n",
    "\n",
    "train = pd.read_csv(data_path + 'train.csv')\n",
    "test = pd.read_csv(data_path + 'test.csv')\n",
    "submission = pd.read_csv(data_path + 'sampleSubmission.csv')"
   ]
  },
  {
   "cell_type": "markdown",
   "id": "4a0f70f6",
   "metadata": {
    "papermill": {
     "duration": 0.013746,
     "end_time": "2022-04-20T05:50:57.399460",
     "exception": false,
     "start_time": "2022-04-20T05:50:57.385714",
     "status": "completed"
    },
    "tags": []
   },
   "source": [
    "### 3.2. Feature engineering"
   ]
  },
  {
   "cell_type": "code",
   "execution_count": 2,
   "id": "2d5e0f9c",
   "metadata": {
    "execution": {
     "iopub.execute_input": "2022-04-20T05:50:57.431473Z",
     "iopub.status.busy": "2022-04-20T05:50:57.430829Z",
     "iopub.status.idle": "2022-04-20T05:50:57.444652Z",
     "shell.execute_reply": "2022-04-20T05:50:57.443891Z"
    },
    "papermill": {
     "duration": 0.031062,
     "end_time": "2022-04-20T05:50:57.444813",
     "exception": false,
     "start_time": "2022-04-20T05:50:57.413751",
     "status": "completed"
    },
    "tags": []
   },
   "outputs": [],
   "source": [
    "# Delete outliers of train data\n",
    "train = train[train['weather'] != 4]"
   ]
  },
  {
   "cell_type": "code",
   "execution_count": 3,
   "id": "ea74626a",
   "metadata": {
    "execution": {
     "iopub.execute_input": "2022-04-20T05:50:57.482384Z",
     "iopub.status.busy": "2022-04-20T05:50:57.475386Z",
     "iopub.status.idle": "2022-04-20T05:50:57.513546Z",
     "shell.execute_reply": "2022-04-20T05:50:57.514122Z"
    },
    "papermill": {
     "duration": 0.055533,
     "end_time": "2022-04-20T05:50:57.514301",
     "exception": false,
     "start_time": "2022-04-20T05:50:57.458768",
     "status": "completed"
    },
    "tags": []
   },
   "outputs": [
    {
     "data": {
      "text/html": [
       "<div>\n",
       "<style scoped>\n",
       "    .dataframe tbody tr th:only-of-type {\n",
       "        vertical-align: middle;\n",
       "    }\n",
       "\n",
       "    .dataframe tbody tr th {\n",
       "        vertical-align: top;\n",
       "    }\n",
       "\n",
       "    .dataframe thead th {\n",
       "        text-align: right;\n",
       "    }\n",
       "</style>\n",
       "<table border=\"1\" class=\"dataframe\">\n",
       "  <thead>\n",
       "    <tr style=\"text-align: right;\">\n",
       "      <th></th>\n",
       "      <th>datetime</th>\n",
       "      <th>season</th>\n",
       "      <th>holiday</th>\n",
       "      <th>workingday</th>\n",
       "      <th>weather</th>\n",
       "      <th>temp</th>\n",
       "      <th>atemp</th>\n",
       "      <th>humidity</th>\n",
       "      <th>windspeed</th>\n",
       "      <th>casual</th>\n",
       "      <th>registered</th>\n",
       "      <th>count</th>\n",
       "    </tr>\n",
       "  </thead>\n",
       "  <tbody>\n",
       "    <tr>\n",
       "      <th>0</th>\n",
       "      <td>2011-01-01 00:00:00</td>\n",
       "      <td>1</td>\n",
       "      <td>0</td>\n",
       "      <td>0</td>\n",
       "      <td>1</td>\n",
       "      <td>9.84</td>\n",
       "      <td>14.395</td>\n",
       "      <td>81</td>\n",
       "      <td>0.0000</td>\n",
       "      <td>3.0</td>\n",
       "      <td>13.0</td>\n",
       "      <td>16.0</td>\n",
       "    </tr>\n",
       "    <tr>\n",
       "      <th>1</th>\n",
       "      <td>2011-01-01 01:00:00</td>\n",
       "      <td>1</td>\n",
       "      <td>0</td>\n",
       "      <td>0</td>\n",
       "      <td>1</td>\n",
       "      <td>9.02</td>\n",
       "      <td>13.635</td>\n",
       "      <td>80</td>\n",
       "      <td>0.0000</td>\n",
       "      <td>8.0</td>\n",
       "      <td>32.0</td>\n",
       "      <td>40.0</td>\n",
       "    </tr>\n",
       "    <tr>\n",
       "      <th>2</th>\n",
       "      <td>2011-01-01 02:00:00</td>\n",
       "      <td>1</td>\n",
       "      <td>0</td>\n",
       "      <td>0</td>\n",
       "      <td>1</td>\n",
       "      <td>9.02</td>\n",
       "      <td>13.635</td>\n",
       "      <td>80</td>\n",
       "      <td>0.0000</td>\n",
       "      <td>5.0</td>\n",
       "      <td>27.0</td>\n",
       "      <td>32.0</td>\n",
       "    </tr>\n",
       "    <tr>\n",
       "      <th>3</th>\n",
       "      <td>2011-01-01 03:00:00</td>\n",
       "      <td>1</td>\n",
       "      <td>0</td>\n",
       "      <td>0</td>\n",
       "      <td>1</td>\n",
       "      <td>9.84</td>\n",
       "      <td>14.395</td>\n",
       "      <td>75</td>\n",
       "      <td>0.0000</td>\n",
       "      <td>3.0</td>\n",
       "      <td>10.0</td>\n",
       "      <td>13.0</td>\n",
       "    </tr>\n",
       "    <tr>\n",
       "      <th>4</th>\n",
       "      <td>2011-01-01 04:00:00</td>\n",
       "      <td>1</td>\n",
       "      <td>0</td>\n",
       "      <td>0</td>\n",
       "      <td>1</td>\n",
       "      <td>9.84</td>\n",
       "      <td>14.395</td>\n",
       "      <td>75</td>\n",
       "      <td>0.0000</td>\n",
       "      <td>0.0</td>\n",
       "      <td>1.0</td>\n",
       "      <td>1.0</td>\n",
       "    </tr>\n",
       "    <tr>\n",
       "      <th>...</th>\n",
       "      <td>...</td>\n",
       "      <td>...</td>\n",
       "      <td>...</td>\n",
       "      <td>...</td>\n",
       "      <td>...</td>\n",
       "      <td>...</td>\n",
       "      <td>...</td>\n",
       "      <td>...</td>\n",
       "      <td>...</td>\n",
       "      <td>...</td>\n",
       "      <td>...</td>\n",
       "      <td>...</td>\n",
       "    </tr>\n",
       "    <tr>\n",
       "      <th>17373</th>\n",
       "      <td>2012-12-31 19:00:00</td>\n",
       "      <td>1</td>\n",
       "      <td>0</td>\n",
       "      <td>1</td>\n",
       "      <td>2</td>\n",
       "      <td>10.66</td>\n",
       "      <td>12.880</td>\n",
       "      <td>60</td>\n",
       "      <td>11.0014</td>\n",
       "      <td>NaN</td>\n",
       "      <td>NaN</td>\n",
       "      <td>NaN</td>\n",
       "    </tr>\n",
       "    <tr>\n",
       "      <th>17374</th>\n",
       "      <td>2012-12-31 20:00:00</td>\n",
       "      <td>1</td>\n",
       "      <td>0</td>\n",
       "      <td>1</td>\n",
       "      <td>2</td>\n",
       "      <td>10.66</td>\n",
       "      <td>12.880</td>\n",
       "      <td>60</td>\n",
       "      <td>11.0014</td>\n",
       "      <td>NaN</td>\n",
       "      <td>NaN</td>\n",
       "      <td>NaN</td>\n",
       "    </tr>\n",
       "    <tr>\n",
       "      <th>17375</th>\n",
       "      <td>2012-12-31 21:00:00</td>\n",
       "      <td>1</td>\n",
       "      <td>0</td>\n",
       "      <td>1</td>\n",
       "      <td>1</td>\n",
       "      <td>10.66</td>\n",
       "      <td>12.880</td>\n",
       "      <td>60</td>\n",
       "      <td>11.0014</td>\n",
       "      <td>NaN</td>\n",
       "      <td>NaN</td>\n",
       "      <td>NaN</td>\n",
       "    </tr>\n",
       "    <tr>\n",
       "      <th>17376</th>\n",
       "      <td>2012-12-31 22:00:00</td>\n",
       "      <td>1</td>\n",
       "      <td>0</td>\n",
       "      <td>1</td>\n",
       "      <td>1</td>\n",
       "      <td>10.66</td>\n",
       "      <td>13.635</td>\n",
       "      <td>56</td>\n",
       "      <td>8.9981</td>\n",
       "      <td>NaN</td>\n",
       "      <td>NaN</td>\n",
       "      <td>NaN</td>\n",
       "    </tr>\n",
       "    <tr>\n",
       "      <th>17377</th>\n",
       "      <td>2012-12-31 23:00:00</td>\n",
       "      <td>1</td>\n",
       "      <td>0</td>\n",
       "      <td>1</td>\n",
       "      <td>1</td>\n",
       "      <td>10.66</td>\n",
       "      <td>13.635</td>\n",
       "      <td>65</td>\n",
       "      <td>8.9981</td>\n",
       "      <td>NaN</td>\n",
       "      <td>NaN</td>\n",
       "      <td>NaN</td>\n",
       "    </tr>\n",
       "  </tbody>\n",
       "</table>\n",
       "<p>17378 rows × 12 columns</p>\n",
       "</div>"
      ],
      "text/plain": [
       "                  datetime  season  holiday  workingday  weather   temp  \\\n",
       "0      2011-01-01 00:00:00       1        0           0        1   9.84   \n",
       "1      2011-01-01 01:00:00       1        0           0        1   9.02   \n",
       "2      2011-01-01 02:00:00       1        0           0        1   9.02   \n",
       "3      2011-01-01 03:00:00       1        0           0        1   9.84   \n",
       "4      2011-01-01 04:00:00       1        0           0        1   9.84   \n",
       "...                    ...     ...      ...         ...      ...    ...   \n",
       "17373  2012-12-31 19:00:00       1        0           1        2  10.66   \n",
       "17374  2012-12-31 20:00:00       1        0           1        2  10.66   \n",
       "17375  2012-12-31 21:00:00       1        0           1        1  10.66   \n",
       "17376  2012-12-31 22:00:00       1        0           1        1  10.66   \n",
       "17377  2012-12-31 23:00:00       1        0           1        1  10.66   \n",
       "\n",
       "        atemp  humidity  windspeed  casual  registered  count  \n",
       "0      14.395        81     0.0000     3.0        13.0   16.0  \n",
       "1      13.635        80     0.0000     8.0        32.0   40.0  \n",
       "2      13.635        80     0.0000     5.0        27.0   32.0  \n",
       "3      14.395        75     0.0000     3.0        10.0   13.0  \n",
       "4      14.395        75     0.0000     0.0         1.0    1.0  \n",
       "...       ...       ...        ...     ...         ...    ...  \n",
       "17373  12.880        60    11.0014     NaN         NaN    NaN  \n",
       "17374  12.880        60    11.0014     NaN         NaN    NaN  \n",
       "17375  12.880        60    11.0014     NaN         NaN    NaN  \n",
       "17376  13.635        56     8.9981     NaN         NaN    NaN  \n",
       "17377  13.635        65     8.9981     NaN         NaN    NaN  \n",
       "\n",
       "[17378 rows x 12 columns]"
      ]
     },
     "execution_count": 3,
     "metadata": {},
     "output_type": "execute_result"
    }
   ],
   "source": [
    "# Merge train data and test data\n",
    "all_data = pd.concat([train, test], ignore_index=True)\n",
    "all_data"
   ]
  },
  {
   "cell_type": "code",
   "execution_count": 4,
   "id": "c0c495a8",
   "metadata": {
    "execution": {
     "iopub.execute_input": "2022-04-20T05:50:57.557647Z",
     "iopub.status.busy": "2022-04-20T05:50:57.546840Z",
     "iopub.status.idle": "2022-04-20T05:50:57.835063Z",
     "shell.execute_reply": "2022-04-20T05:50:57.834460Z"
    },
    "papermill": {
     "duration": 0.305609,
     "end_time": "2022-04-20T05:50:57.835228",
     "exception": false,
     "start_time": "2022-04-20T05:50:57.529619",
     "status": "completed"
    },
    "tags": []
   },
   "outputs": [],
   "source": [
    "# Add derived features\n",
    "from datetime import datetime\n",
    "\n",
    "all_data['date'] = all_data['datetime'].apply(lambda x: x.split()[0])\n",
    "all_data['year'] = all_data['datetime'].apply(lambda x: x.split()[0].split('-')[0])\n",
    "all_data['month'] = all_data['datetime'].apply(lambda x: x.split()[0].split('-')[1])\n",
    "all_data['hour'] = all_data['datetime'].apply(lambda x: x.split()[0].split('-')[2])\n",
    "all_data['weekday'] = all_data['date'].apply(lambda dateStr: datetime.strptime(dateStr, \"%Y-%m-%d\").weekday())"
   ]
  },
  {
   "cell_type": "code",
   "execution_count": 5,
   "id": "d84e140c",
   "metadata": {
    "execution": {
     "iopub.execute_input": "2022-04-20T05:50:57.872124Z",
     "iopub.status.busy": "2022-04-20T05:50:57.871465Z",
     "iopub.status.idle": "2022-04-20T05:50:57.882134Z",
     "shell.execute_reply": "2022-04-20T05:50:57.881416Z"
    },
    "papermill": {
     "duration": 0.032416,
     "end_time": "2022-04-20T05:50:57.882283",
     "exception": false,
     "start_time": "2022-04-20T05:50:57.849867",
     "status": "completed"
    },
    "tags": []
   },
   "outputs": [],
   "source": [
    "# Remove unnecessary features\n",
    "drop_features = ['casual', 'registered', 'datetime', 'date', 'month', 'windspeed']\n",
    "\n",
    "all_data = all_data.drop(drop_features, axis=1)"
   ]
  },
  {
   "cell_type": "code",
   "execution_count": 6,
   "id": "a82ffa0f",
   "metadata": {
    "execution": {
     "iopub.execute_input": "2022-04-20T05:50:57.918701Z",
     "iopub.status.busy": "2022-04-20T05:50:57.918037Z",
     "iopub.status.idle": "2022-04-20T05:50:57.926003Z",
     "shell.execute_reply": "2022-04-20T05:50:57.926470Z"
    },
    "papermill": {
     "duration": 0.029655,
     "end_time": "2022-04-20T05:50:57.926668",
     "exception": false,
     "start_time": "2022-04-20T05:50:57.897013",
     "status": "completed"
    },
    "tags": []
   },
   "outputs": [],
   "source": [
    "# Split data into train data and test data\n",
    "X_train = all_data[~pd.isnull(all_data['count'])]\n",
    "X_test = all_data[pd.isnull(all_data['count'])]\n",
    "\n",
    "# Remove target values from train and test data\n",
    "X_train = X_train.drop(['count'], axis=1)\n",
    "X_test = X_test.drop(['count'], axis=1)\n",
    "\n",
    "# Target values\n",
    "y = train['count']"
   ]
  },
  {
   "cell_type": "code",
   "execution_count": 7,
   "id": "7c972ae5",
   "metadata": {
    "execution": {
     "iopub.execute_input": "2022-04-20T05:50:57.971616Z",
     "iopub.status.busy": "2022-04-20T05:50:57.970744Z",
     "iopub.status.idle": "2022-04-20T05:50:57.974931Z",
     "shell.execute_reply": "2022-04-20T05:50:57.974259Z"
    },
    "papermill": {
     "duration": 0.033628,
     "end_time": "2022-04-20T05:50:57.975084",
     "exception": false,
     "start_time": "2022-04-20T05:50:57.941456",
     "status": "completed"
    },
    "tags": []
   },
   "outputs": [
    {
     "data": {
      "text/html": [
       "<div>\n",
       "<style scoped>\n",
       "    .dataframe tbody tr th:only-of-type {\n",
       "        vertical-align: middle;\n",
       "    }\n",
       "\n",
       "    .dataframe tbody tr th {\n",
       "        vertical-align: top;\n",
       "    }\n",
       "\n",
       "    .dataframe thead th {\n",
       "        text-align: right;\n",
       "    }\n",
       "</style>\n",
       "<table border=\"1\" class=\"dataframe\">\n",
       "  <thead>\n",
       "    <tr style=\"text-align: right;\">\n",
       "      <th></th>\n",
       "      <th>season</th>\n",
       "      <th>holiday</th>\n",
       "      <th>workingday</th>\n",
       "      <th>weather</th>\n",
       "      <th>temp</th>\n",
       "      <th>atemp</th>\n",
       "      <th>humidity</th>\n",
       "      <th>year</th>\n",
       "      <th>hour</th>\n",
       "      <th>weekday</th>\n",
       "    </tr>\n",
       "  </thead>\n",
       "  <tbody>\n",
       "    <tr>\n",
       "      <th>0</th>\n",
       "      <td>1</td>\n",
       "      <td>0</td>\n",
       "      <td>0</td>\n",
       "      <td>1</td>\n",
       "      <td>9.84</td>\n",
       "      <td>14.395</td>\n",
       "      <td>81</td>\n",
       "      <td>2011</td>\n",
       "      <td>01</td>\n",
       "      <td>5</td>\n",
       "    </tr>\n",
       "    <tr>\n",
       "      <th>1</th>\n",
       "      <td>1</td>\n",
       "      <td>0</td>\n",
       "      <td>0</td>\n",
       "      <td>1</td>\n",
       "      <td>9.02</td>\n",
       "      <td>13.635</td>\n",
       "      <td>80</td>\n",
       "      <td>2011</td>\n",
       "      <td>01</td>\n",
       "      <td>5</td>\n",
       "    </tr>\n",
       "    <tr>\n",
       "      <th>2</th>\n",
       "      <td>1</td>\n",
       "      <td>0</td>\n",
       "      <td>0</td>\n",
       "      <td>1</td>\n",
       "      <td>9.02</td>\n",
       "      <td>13.635</td>\n",
       "      <td>80</td>\n",
       "      <td>2011</td>\n",
       "      <td>01</td>\n",
       "      <td>5</td>\n",
       "    </tr>\n",
       "    <tr>\n",
       "      <th>3</th>\n",
       "      <td>1</td>\n",
       "      <td>0</td>\n",
       "      <td>0</td>\n",
       "      <td>1</td>\n",
       "      <td>9.84</td>\n",
       "      <td>14.395</td>\n",
       "      <td>75</td>\n",
       "      <td>2011</td>\n",
       "      <td>01</td>\n",
       "      <td>5</td>\n",
       "    </tr>\n",
       "    <tr>\n",
       "      <th>4</th>\n",
       "      <td>1</td>\n",
       "      <td>0</td>\n",
       "      <td>0</td>\n",
       "      <td>1</td>\n",
       "      <td>9.84</td>\n",
       "      <td>14.395</td>\n",
       "      <td>75</td>\n",
       "      <td>2011</td>\n",
       "      <td>01</td>\n",
       "      <td>5</td>\n",
       "    </tr>\n",
       "  </tbody>\n",
       "</table>\n",
       "</div>"
      ],
      "text/plain": [
       "   season  holiday  workingday  weather  temp   atemp  humidity  year hour  \\\n",
       "0       1        0           0        1  9.84  14.395        81  2011   01   \n",
       "1       1        0           0        1  9.02  13.635        80  2011   01   \n",
       "2       1        0           0        1  9.02  13.635        80  2011   01   \n",
       "3       1        0           0        1  9.84  14.395        75  2011   01   \n",
       "4       1        0           0        1  9.84  14.395        75  2011   01   \n",
       "\n",
       "   weekday  \n",
       "0        5  \n",
       "1        5  \n",
       "2        5  \n",
       "3        5  \n",
       "4        5  "
      ]
     },
     "execution_count": 7,
     "metadata": {},
     "output_type": "execute_result"
    }
   ],
   "source": [
    "X_train.head()"
   ]
  },
  {
   "cell_type": "markdown",
   "id": "ce2a1a92",
   "metadata": {
    "papermill": {
     "duration": 0.015182,
     "end_time": "2022-04-20T05:50:58.005742",
     "exception": false,
     "start_time": "2022-04-20T05:50:57.990560",
     "status": "completed"
    },
    "tags": []
   },
   "source": [
    "### 3.3. Make evaluation index calculation function"
   ]
  },
  {
   "cell_type": "code",
   "execution_count": 8,
   "id": "b33794da",
   "metadata": {
    "execution": {
     "iopub.execute_input": "2022-04-20T05:50:58.045223Z",
     "iopub.status.busy": "2022-04-20T05:50:58.044139Z",
     "iopub.status.idle": "2022-04-20T05:50:58.047360Z",
     "shell.execute_reply": "2022-04-20T05:50:58.046760Z"
    },
    "papermill": {
     "duration": 0.026352,
     "end_time": "2022-04-20T05:50:58.047520",
     "exception": false,
     "start_time": "2022-04-20T05:50:58.021168",
     "status": "completed"
    },
    "tags": []
   },
   "outputs": [],
   "source": [
    "import numpy as np\n",
    "\n",
    "def rmsle(y_true, y_pred, convertExp=True):\n",
    "    # Exponential transformation\n",
    "    if convertExp:\n",
    "        y_true = np.exp(y_true)\n",
    "        y_pred = np.exp(y_pred)\n",
    "        \n",
    "    # Log transformation and convert missing values to zero    \n",
    "    log_true = np.nan_to_num(np.log(y_true+1))\n",
    "    log_pred = np.nan_to_num(np.log(y_pred+1))\n",
    "    \n",
    "    # Calculate RMSLE\n",
    "    output = np.sqrt(np.mean((log_true - log_pred)**2))\n",
    "    return output"
   ]
  },
  {
   "cell_type": "markdown",
   "id": "a94c6f3d",
   "metadata": {
    "papermill": {
     "duration": 0.016189,
     "end_time": "2022-04-20T05:50:58.079594",
     "exception": false,
     "start_time": "2022-04-20T05:50:58.063405",
     "status": "completed"
    },
    "tags": []
   },
   "source": [
    "### 3.4. Train model"
   ]
  },
  {
   "cell_type": "code",
   "execution_count": 9,
   "id": "6126671d",
   "metadata": {
    "execution": {
     "iopub.execute_input": "2022-04-20T05:50:58.118374Z",
     "iopub.status.busy": "2022-04-20T05:50:58.117596Z",
     "iopub.status.idle": "2022-04-20T05:50:59.236719Z",
     "shell.execute_reply": "2022-04-20T05:50:59.235782Z"
    },
    "papermill": {
     "duration": 1.140775,
     "end_time": "2022-04-20T05:50:59.236984",
     "exception": false,
     "start_time": "2022-04-20T05:50:58.096209",
     "status": "completed"
    },
    "tags": []
   },
   "outputs": [
    {
     "data": {
      "text/plain": [
       "LinearRegression()"
      ]
     },
     "execution_count": 9,
     "metadata": {},
     "output_type": "execute_result"
    }
   ],
   "source": [
    "# Import model\n",
    "from sklearn.linear_model import LinearRegression\n",
    "linear_reg_model = LinearRegression()\n",
    "\n",
    "# Log transformation of target values\n",
    "log_y = np.log(y)\n",
    "\n",
    "# Train model\n",
    "linear_reg_model.fit(X_train, log_y)"
   ]
  },
  {
   "cell_type": "markdown",
   "id": "46c51777",
   "metadata": {
    "papermill": {
     "duration": 0.029671,
     "end_time": "2022-04-20T05:50:59.296878",
     "exception": false,
     "start_time": "2022-04-20T05:50:59.267207",
     "status": "completed"
    },
    "tags": []
   },
   "source": [
    "### 3.5. Validate performance"
   ]
  },
  {
   "cell_type": "code",
   "execution_count": 10,
   "id": "f8250766",
   "metadata": {
    "execution": {
     "iopub.execute_input": "2022-04-20T05:50:59.354660Z",
     "iopub.status.busy": "2022-04-20T05:50:59.353640Z",
     "iopub.status.idle": "2022-04-20T05:50:59.384621Z",
     "shell.execute_reply": "2022-04-20T05:50:59.385562Z"
    },
    "papermill": {
     "duration": 0.059201,
     "end_time": "2022-04-20T05:50:59.385879",
     "exception": false,
     "start_time": "2022-04-20T05:50:59.326678",
     "status": "completed"
    },
    "tags": []
   },
   "outputs": [
    {
     "name": "stdout",
     "output_type": "stream",
     "text": [
      "선형 회귀의 RMSLE 값 : 1.2056\n"
     ]
    }
   ],
   "source": [
    "# Predict with train data\n",
    "preds = linear_reg_model.predict(X_train)\n",
    "\n",
    "# RMSLE value of baseline model\n",
    "print(f'선형 회귀의 RMSLE 값 : {rmsle(log_y, preds, True):.4f}')"
   ]
  },
  {
   "cell_type": "markdown",
   "id": "000c2f82",
   "metadata": {
    "papermill": {
     "duration": 0.031091,
     "end_time": "2022-04-20T05:50:59.449259",
     "exception": false,
     "start_time": "2022-04-20T05:50:59.418168",
     "status": "completed"
    },
    "tags": []
   },
   "source": [
    "### 3.6. Submit"
   ]
  },
  {
   "cell_type": "code",
   "execution_count": 11,
   "id": "db38a0c5",
   "metadata": {
    "execution": {
     "iopub.execute_input": "2022-04-20T05:50:59.509014Z",
     "iopub.status.busy": "2022-04-20T05:50:59.507559Z",
     "iopub.status.idle": "2022-04-20T05:50:59.577603Z",
     "shell.execute_reply": "2022-04-20T05:50:59.578566Z"
    },
    "papermill": {
     "duration": 0.098453,
     "end_time": "2022-04-20T05:50:59.578885",
     "exception": false,
     "start_time": "2022-04-20T05:50:59.480432",
     "status": "completed"
    },
    "tags": []
   },
   "outputs": [],
   "source": [
    "# Predict with test data\n",
    "linearreg_preds = linear_reg_model.predict(X_test)\n",
    "\n",
    "# Exponential transformation\n",
    "submission['count'] = np.exp(linearreg_preds)\n",
    "\n",
    "# Save submission file\n",
    "submission.to_csv('submission.csv', index=False)"
   ]
  },
  {
   "cell_type": "markdown",
   "id": "fb085175",
   "metadata": {
    "papermill": {
     "duration": 0.030102,
     "end_time": "2022-04-20T05:50:59.641386",
     "exception": false,
     "start_time": "2022-04-20T05:50:59.611284",
     "status": "completed"
    },
    "tags": []
   },
   "source": [
    "References\n",
    "===\n",
    "- [EDA reference](https://www.kaggle.com/viveksrinivasan/eda-ensemble-model-top-10-percentile)\n",
    "- [Modeling reference](https://www.kaggle.com/viveksrinivasan/eda-ensemble-model-top-10-percentile)\n",
    "- 머신러닝.딥러닝 문제해결 전략(신백균)"
   ]
  }
 ],
 "metadata": {
  "kernelspec": {
   "display_name": "Python 3 (ipykernel)",
   "language": "python",
   "name": "python3"
  },
  "language_info": {
   "codemirror_mode": {
    "name": "ipython",
    "version": 3
   },
   "file_extension": ".py",
   "mimetype": "text/x-python",
   "name": "python",
   "nbconvert_exporter": "python",
   "pygments_lexer": "ipython3",
   "version": "3.8.12"
  },
  "papermill": {
   "default_parameters": {},
   "duration": 12.902398,
   "end_time": "2022-04-20T05:51:01.276438",
   "environment_variables": {},
   "exception": null,
   "input_path": "__notebook__.ipynb",
   "output_path": "__notebook__.ipynb",
   "parameters": {},
   "start_time": "2022-04-20T05:50:48.374040",
   "version": "2.3.3"
  }
 },
 "nbformat": 4,
 "nbformat_minor": 5
}
