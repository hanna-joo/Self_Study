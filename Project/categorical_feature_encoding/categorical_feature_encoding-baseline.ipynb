{
 "cells": [
  {
   "cell_type": "markdown",
   "id": "779af1f7",
   "metadata": {
    "papermill": {
     "duration": 0.015914,
     "end_time": "2022-04-26T06:06:49.110548",
     "exception": false,
     "start_time": "2022-04-26T06:06:49.094634",
     "status": "completed"
    },
    "tags": []
   },
   "source": [
    "# Categorical Feature Encoding Challenge Step 3"
   ]
  },
  {
   "cell_type": "markdown",
   "id": "618b217c",
   "metadata": {
    "papermill": {
     "duration": 0.014979,
     "end_time": "2022-04-26T06:06:49.140736",
     "exception": false,
     "start_time": "2022-04-26T06:06:49.125757",
     "status": "completed"
    },
    "tags": []
   },
   "source": [
    "---\n",
    "### Analysis summary and modeling strategy\n",
    "#### 1) Analysis summary\n",
    "1. No missing values\n",
    "2. No features to remove\n",
    "3. Encode binary features : Change values to 0 and 1\n",
    "    + **'bin_3'** and **'bin_4'**\n",
    "4. Encode nominal features : One-hot encoding because the data quantity is not that much\n",
    "    + **'nom_0' ~ 'nom_9'**\n",
    "5. Encode ordinal features : Encode as the order of unique values\n",
    "    + **'ord_0' ~ 'ord_5'**\n",
    "6. Encode cyclical features : One-hot encoding to prevent recognition as large or small values\n",
    "    + **'day'** and **'month'**\n",
    "\n",
    "#### 2) Modeling strategy\n",
    "- Baseline model : Logistic Regression\n",
    "    + Feature engineering : One-hot encoding of all features\n",
    "- Performance improvement : Additional feature engineering and hyperparameter optimization\n",
    "    + Feature engineering : <u>Custom encoding for categorical features</u> and <u>feature scaling</u>\n",
    "    + Hyperparameter optimization : GridSearch\n",
    "    + Additional tip : Use validation data for training\n",
    "--- "
   ]
  },
  {
   "cell_type": "markdown",
   "id": "5f3eb3ee",
   "metadata": {
    "papermill": {
     "duration": 0.014371,
     "end_time": "2022-04-26T06:06:49.170318",
     "exception": false,
     "start_time": "2022-04-26T06:06:49.155947",
     "status": "completed"
    },
    "tags": []
   },
   "source": [
    "## 3. Baseline model\n",
    "- Train\n",
    "    + Finding the optimal regression coefficient when given the independent variables(features) and target values\n",
    "- Predict\n",
    "    + Estimating a target value when new independent variables are given to the trained model  (which has the optimal regression coefficients)  "
   ]
  },
  {
   "cell_type": "markdown",
   "id": "d5ddff21",
   "metadata": {
    "papermill": {
     "duration": 0.015322,
     "end_time": "2022-04-26T06:06:49.200212",
     "exception": false,
     "start_time": "2022-04-26T06:06:49.184890",
     "status": "completed"
    },
    "tags": []
   },
   "source": [
    "### 3.1.  Import data"
   ]
  },
  {
   "cell_type": "code",
   "execution_count": 1,
   "id": "cbdc0157",
   "metadata": {
    "execution": {
     "iopub.execute_input": "2022-04-26T06:06:49.234803Z",
     "iopub.status.busy": "2022-04-26T06:06:49.233600Z",
     "iopub.status.idle": "2022-04-26T06:06:51.929494Z",
     "shell.execute_reply": "2022-04-26T06:06:51.928803Z",
     "shell.execute_reply.started": "2022-04-26T06:04:42.972501Z"
    },
    "papermill": {
     "duration": 2.714574,
     "end_time": "2022-04-26T06:06:51.929664",
     "exception": false,
     "start_time": "2022-04-26T06:06:49.215090",
     "status": "completed"
    },
    "tags": []
   },
   "outputs": [],
   "source": [
    "# Import data\n",
    "import pandas as pd\n",
    "\n",
    "data_path = '../../Datasets/categorical_feature_encoding/'\n",
    "\n",
    "train = pd.read_csv(data_path + 'train.csv', index_col='id')\n",
    "test = pd.read_csv(data_path + 'test.csv', index_col='id')\n",
    "submission = pd.read_csv(data_path + 'sample_submission.csv', index_col='id')"
   ]
  },
  {
   "cell_type": "markdown",
   "id": "2ee372e7",
   "metadata": {
    "papermill": {
     "duration": 0.014931,
     "end_time": "2022-04-26T06:06:51.959395",
     "exception": false,
     "start_time": "2022-04-26T06:06:51.944464",
     "status": "completed"
    },
    "tags": []
   },
   "source": [
    "### 3.2. Feature engineering\n",
    "- When training ML model, features data type should be **int** or **float** because the ML model do not recognize text data\n",
    "- Encoding means changing the form of expression of data"
   ]
  },
  {
   "cell_type": "code",
   "execution_count": 2,
   "id": "3e2b072a",
   "metadata": {
    "execution": {
     "iopub.execute_input": "2022-04-26T06:06:51.995438Z",
     "iopub.status.busy": "2022-04-26T06:06:51.994633Z",
     "iopub.status.idle": "2022-04-26T06:06:53.006521Z",
     "shell.execute_reply": "2022-04-26T06:06:53.007009Z",
     "shell.execute_reply.started": "2022-04-26T06:04:44.767968Z"
    },
    "papermill": {
     "duration": 1.032775,
     "end_time": "2022-04-26T06:06:53.007185",
     "exception": false,
     "start_time": "2022-04-26T06:06:51.974410",
     "status": "completed"
    },
    "tags": []
   },
   "outputs": [
    {
     "data": {
      "text/html": [
       "<div>\n",
       "<style scoped>\n",
       "    .dataframe tbody tr th:only-of-type {\n",
       "        vertical-align: middle;\n",
       "    }\n",
       "\n",
       "    .dataframe tbody tr th {\n",
       "        vertical-align: top;\n",
       "    }\n",
       "\n",
       "    .dataframe thead th {\n",
       "        text-align: right;\n",
       "    }\n",
       "</style>\n",
       "<table border=\"1\" class=\"dataframe\">\n",
       "  <thead>\n",
       "    <tr style=\"text-align: right;\">\n",
       "      <th></th>\n",
       "      <th>bin_0</th>\n",
       "      <th>bin_1</th>\n",
       "      <th>bin_2</th>\n",
       "      <th>bin_3</th>\n",
       "      <th>bin_4</th>\n",
       "      <th>nom_0</th>\n",
       "      <th>nom_1</th>\n",
       "      <th>nom_2</th>\n",
       "      <th>nom_3</th>\n",
       "      <th>nom_4</th>\n",
       "      <th>...</th>\n",
       "      <th>nom_8</th>\n",
       "      <th>nom_9</th>\n",
       "      <th>ord_0</th>\n",
       "      <th>ord_1</th>\n",
       "      <th>ord_2</th>\n",
       "      <th>ord_3</th>\n",
       "      <th>ord_4</th>\n",
       "      <th>ord_5</th>\n",
       "      <th>day</th>\n",
       "      <th>month</th>\n",
       "    </tr>\n",
       "    <tr>\n",
       "      <th>id</th>\n",
       "      <th></th>\n",
       "      <th></th>\n",
       "      <th></th>\n",
       "      <th></th>\n",
       "      <th></th>\n",
       "      <th></th>\n",
       "      <th></th>\n",
       "      <th></th>\n",
       "      <th></th>\n",
       "      <th></th>\n",
       "      <th></th>\n",
       "      <th></th>\n",
       "      <th></th>\n",
       "      <th></th>\n",
       "      <th></th>\n",
       "      <th></th>\n",
       "      <th></th>\n",
       "      <th></th>\n",
       "      <th></th>\n",
       "      <th></th>\n",
       "      <th></th>\n",
       "    </tr>\n",
       "  </thead>\n",
       "  <tbody>\n",
       "    <tr>\n",
       "      <th>0</th>\n",
       "      <td>0</td>\n",
       "      <td>0</td>\n",
       "      <td>0</td>\n",
       "      <td>T</td>\n",
       "      <td>Y</td>\n",
       "      <td>Green</td>\n",
       "      <td>Triangle</td>\n",
       "      <td>Snake</td>\n",
       "      <td>Finland</td>\n",
       "      <td>Bassoon</td>\n",
       "      <td>...</td>\n",
       "      <td>c389000ab</td>\n",
       "      <td>2f4cb3d51</td>\n",
       "      <td>2</td>\n",
       "      <td>Grandmaster</td>\n",
       "      <td>Cold</td>\n",
       "      <td>h</td>\n",
       "      <td>D</td>\n",
       "      <td>kr</td>\n",
       "      <td>2</td>\n",
       "      <td>2</td>\n",
       "    </tr>\n",
       "    <tr>\n",
       "      <th>1</th>\n",
       "      <td>0</td>\n",
       "      <td>1</td>\n",
       "      <td>0</td>\n",
       "      <td>T</td>\n",
       "      <td>Y</td>\n",
       "      <td>Green</td>\n",
       "      <td>Trapezoid</td>\n",
       "      <td>Hamster</td>\n",
       "      <td>Russia</td>\n",
       "      <td>Piano</td>\n",
       "      <td>...</td>\n",
       "      <td>4cd920251</td>\n",
       "      <td>f83c56c21</td>\n",
       "      <td>1</td>\n",
       "      <td>Grandmaster</td>\n",
       "      <td>Hot</td>\n",
       "      <td>a</td>\n",
       "      <td>A</td>\n",
       "      <td>bF</td>\n",
       "      <td>7</td>\n",
       "      <td>8</td>\n",
       "    </tr>\n",
       "    <tr>\n",
       "      <th>2</th>\n",
       "      <td>0</td>\n",
       "      <td>0</td>\n",
       "      <td>0</td>\n",
       "      <td>F</td>\n",
       "      <td>Y</td>\n",
       "      <td>Blue</td>\n",
       "      <td>Trapezoid</td>\n",
       "      <td>Lion</td>\n",
       "      <td>Russia</td>\n",
       "      <td>Theremin</td>\n",
       "      <td>...</td>\n",
       "      <td>de9c9f684</td>\n",
       "      <td>ae6800dd0</td>\n",
       "      <td>1</td>\n",
       "      <td>Expert</td>\n",
       "      <td>Lava Hot</td>\n",
       "      <td>h</td>\n",
       "      <td>R</td>\n",
       "      <td>Jc</td>\n",
       "      <td>7</td>\n",
       "      <td>2</td>\n",
       "    </tr>\n",
       "    <tr>\n",
       "      <th>3</th>\n",
       "      <td>0</td>\n",
       "      <td>1</td>\n",
       "      <td>0</td>\n",
       "      <td>F</td>\n",
       "      <td>Y</td>\n",
       "      <td>Red</td>\n",
       "      <td>Trapezoid</td>\n",
       "      <td>Snake</td>\n",
       "      <td>Canada</td>\n",
       "      <td>Oboe</td>\n",
       "      <td>...</td>\n",
       "      <td>4ade6ab69</td>\n",
       "      <td>8270f0d71</td>\n",
       "      <td>1</td>\n",
       "      <td>Grandmaster</td>\n",
       "      <td>Boiling Hot</td>\n",
       "      <td>i</td>\n",
       "      <td>D</td>\n",
       "      <td>kW</td>\n",
       "      <td>2</td>\n",
       "      <td>1</td>\n",
       "    </tr>\n",
       "    <tr>\n",
       "      <th>4</th>\n",
       "      <td>0</td>\n",
       "      <td>0</td>\n",
       "      <td>0</td>\n",
       "      <td>F</td>\n",
       "      <td>N</td>\n",
       "      <td>Red</td>\n",
       "      <td>Trapezoid</td>\n",
       "      <td>Lion</td>\n",
       "      <td>Canada</td>\n",
       "      <td>Oboe</td>\n",
       "      <td>...</td>\n",
       "      <td>cb43ab175</td>\n",
       "      <td>b164b72a7</td>\n",
       "      <td>1</td>\n",
       "      <td>Grandmaster</td>\n",
       "      <td>Freezing</td>\n",
       "      <td>a</td>\n",
       "      <td>R</td>\n",
       "      <td>qP</td>\n",
       "      <td>7</td>\n",
       "      <td>8</td>\n",
       "    </tr>\n",
       "    <tr>\n",
       "      <th>...</th>\n",
       "      <td>...</td>\n",
       "      <td>...</td>\n",
       "      <td>...</td>\n",
       "      <td>...</td>\n",
       "      <td>...</td>\n",
       "      <td>...</td>\n",
       "      <td>...</td>\n",
       "      <td>...</td>\n",
       "      <td>...</td>\n",
       "      <td>...</td>\n",
       "      <td>...</td>\n",
       "      <td>...</td>\n",
       "      <td>...</td>\n",
       "      <td>...</td>\n",
       "      <td>...</td>\n",
       "      <td>...</td>\n",
       "      <td>...</td>\n",
       "      <td>...</td>\n",
       "      <td>...</td>\n",
       "      <td>...</td>\n",
       "      <td>...</td>\n",
       "    </tr>\n",
       "    <tr>\n",
       "      <th>499995</th>\n",
       "      <td>0</td>\n",
       "      <td>0</td>\n",
       "      <td>0</td>\n",
       "      <td>F</td>\n",
       "      <td>N</td>\n",
       "      <td>Green</td>\n",
       "      <td>Square</td>\n",
       "      <td>Lion</td>\n",
       "      <td>Canada</td>\n",
       "      <td>Theremin</td>\n",
       "      <td>...</td>\n",
       "      <td>9e4b23160</td>\n",
       "      <td>acc31291f</td>\n",
       "      <td>1</td>\n",
       "      <td>Novice</td>\n",
       "      <td>Lava Hot</td>\n",
       "      <td>j</td>\n",
       "      <td>A</td>\n",
       "      <td>Gb</td>\n",
       "      <td>1</td>\n",
       "      <td>3</td>\n",
       "    </tr>\n",
       "    <tr>\n",
       "      <th>499996</th>\n",
       "      <td>1</td>\n",
       "      <td>0</td>\n",
       "      <td>0</td>\n",
       "      <td>F</td>\n",
       "      <td>Y</td>\n",
       "      <td>Green</td>\n",
       "      <td>Trapezoid</td>\n",
       "      <td>Lion</td>\n",
       "      <td>China</td>\n",
       "      <td>Piano</td>\n",
       "      <td>...</td>\n",
       "      <td>cfbd87ed0</td>\n",
       "      <td>eae3446d0</td>\n",
       "      <td>1</td>\n",
       "      <td>Contributor</td>\n",
       "      <td>Lava Hot</td>\n",
       "      <td>f</td>\n",
       "      <td>S</td>\n",
       "      <td>Ed</td>\n",
       "      <td>2</td>\n",
       "      <td>2</td>\n",
       "    </tr>\n",
       "    <tr>\n",
       "      <th>499997</th>\n",
       "      <td>0</td>\n",
       "      <td>1</td>\n",
       "      <td>1</td>\n",
       "      <td>T</td>\n",
       "      <td>Y</td>\n",
       "      <td>Green</td>\n",
       "      <td>Trapezoid</td>\n",
       "      <td>Lion</td>\n",
       "      <td>Canada</td>\n",
       "      <td>Oboe</td>\n",
       "      <td>...</td>\n",
       "      <td>1108bcd6c</td>\n",
       "      <td>33dd3cf4b</td>\n",
       "      <td>1</td>\n",
       "      <td>Novice</td>\n",
       "      <td>Boiling Hot</td>\n",
       "      <td>g</td>\n",
       "      <td>V</td>\n",
       "      <td>TR</td>\n",
       "      <td>3</td>\n",
       "      <td>1</td>\n",
       "    </tr>\n",
       "    <tr>\n",
       "      <th>499998</th>\n",
       "      <td>1</td>\n",
       "      <td>0</td>\n",
       "      <td>0</td>\n",
       "      <td>T</td>\n",
       "      <td>Y</td>\n",
       "      <td>Blue</td>\n",
       "      <td>Star</td>\n",
       "      <td>Hamster</td>\n",
       "      <td>Costa Rica</td>\n",
       "      <td>Bassoon</td>\n",
       "      <td>...</td>\n",
       "      <td>606ac930b</td>\n",
       "      <td>d4cf587dd</td>\n",
       "      <td>2</td>\n",
       "      <td>Grandmaster</td>\n",
       "      <td>Boiling Hot</td>\n",
       "      <td>g</td>\n",
       "      <td>X</td>\n",
       "      <td>Ye</td>\n",
       "      <td>2</td>\n",
       "      <td>1</td>\n",
       "    </tr>\n",
       "    <tr>\n",
       "      <th>499999</th>\n",
       "      <td>0</td>\n",
       "      <td>0</td>\n",
       "      <td>0</td>\n",
       "      <td>T</td>\n",
       "      <td>Y</td>\n",
       "      <td>Green</td>\n",
       "      <td>Star</td>\n",
       "      <td>Lion</td>\n",
       "      <td>India</td>\n",
       "      <td>Piano</td>\n",
       "      <td>...</td>\n",
       "      <td>4ea576eb6</td>\n",
       "      <td>2d610f52c</td>\n",
       "      <td>2</td>\n",
       "      <td>Novice</td>\n",
       "      <td>Freezing</td>\n",
       "      <td>l</td>\n",
       "      <td>J</td>\n",
       "      <td>ex</td>\n",
       "      <td>2</td>\n",
       "      <td>2</td>\n",
       "    </tr>\n",
       "  </tbody>\n",
       "</table>\n",
       "<p>500000 rows × 23 columns</p>\n",
       "</div>"
      ],
      "text/plain": [
       "        bin_0  bin_1  bin_2 bin_3 bin_4  nom_0      nom_1    nom_2  \\\n",
       "id                                                                   \n",
       "0           0      0      0     T     Y  Green   Triangle    Snake   \n",
       "1           0      1      0     T     Y  Green  Trapezoid  Hamster   \n",
       "2           0      0      0     F     Y   Blue  Trapezoid     Lion   \n",
       "3           0      1      0     F     Y    Red  Trapezoid    Snake   \n",
       "4           0      0      0     F     N    Red  Trapezoid     Lion   \n",
       "...       ...    ...    ...   ...   ...    ...        ...      ...   \n",
       "499995      0      0      0     F     N  Green     Square     Lion   \n",
       "499996      1      0      0     F     Y  Green  Trapezoid     Lion   \n",
       "499997      0      1      1     T     Y  Green  Trapezoid     Lion   \n",
       "499998      1      0      0     T     Y   Blue       Star  Hamster   \n",
       "499999      0      0      0     T     Y  Green       Star     Lion   \n",
       "\n",
       "             nom_3     nom_4  ...      nom_8      nom_9 ord_0        ord_1  \\\n",
       "id                            ...                                            \n",
       "0          Finland   Bassoon  ...  c389000ab  2f4cb3d51     2  Grandmaster   \n",
       "1           Russia     Piano  ...  4cd920251  f83c56c21     1  Grandmaster   \n",
       "2           Russia  Theremin  ...  de9c9f684  ae6800dd0     1       Expert   \n",
       "3           Canada      Oboe  ...  4ade6ab69  8270f0d71     1  Grandmaster   \n",
       "4           Canada      Oboe  ...  cb43ab175  b164b72a7     1  Grandmaster   \n",
       "...            ...       ...  ...        ...        ...   ...          ...   \n",
       "499995      Canada  Theremin  ...  9e4b23160  acc31291f     1       Novice   \n",
       "499996       China     Piano  ...  cfbd87ed0  eae3446d0     1  Contributor   \n",
       "499997      Canada      Oboe  ...  1108bcd6c  33dd3cf4b     1       Novice   \n",
       "499998  Costa Rica   Bassoon  ...  606ac930b  d4cf587dd     2  Grandmaster   \n",
       "499999       India     Piano  ...  4ea576eb6  2d610f52c     2       Novice   \n",
       "\n",
       "              ord_2  ord_3 ord_4 ord_5 day month  \n",
       "id                                                \n",
       "0              Cold      h     D    kr   2     2  \n",
       "1               Hot      a     A    bF   7     8  \n",
       "2          Lava Hot      h     R    Jc   7     2  \n",
       "3       Boiling Hot      i     D    kW   2     1  \n",
       "4          Freezing      a     R    qP   7     8  \n",
       "...             ...    ...   ...   ...  ..   ...  \n",
       "499995     Lava Hot      j     A    Gb   1     3  \n",
       "499996     Lava Hot      f     S    Ed   2     2  \n",
       "499997  Boiling Hot      g     V    TR   3     1  \n",
       "499998  Boiling Hot      g     X    Ye   2     1  \n",
       "499999     Freezing      l     J    ex   2     2  \n",
       "\n",
       "[500000 rows x 23 columns]"
      ]
     },
     "execution_count": 2,
     "metadata": {},
     "output_type": "execute_result"
    }
   ],
   "source": [
    "# Merge train data and test data\n",
    "all_data = pd.concat([train, test])\n",
    "\n",
    "# Remove target values for separately modeling feature and target values\n",
    "all_data = all_data.drop('target', axis=1)\n",
    "\n",
    "all_data"
   ]
  },
  {
   "cell_type": "code",
   "execution_count": 3,
   "id": "42fcc635",
   "metadata": {
    "execution": {
     "iopub.execute_input": "2022-04-26T06:06:53.043110Z",
     "iopub.status.busy": "2022-04-26T06:06:53.042223Z",
     "iopub.status.idle": "2022-04-26T06:06:58.513825Z",
     "shell.execute_reply": "2022-04-26T06:06:58.512940Z",
     "shell.execute_reply.started": "2022-04-26T06:04:45.837919Z"
    },
    "papermill": {
     "duration": 5.49105,
     "end_time": "2022-04-26T06:06:58.513969",
     "exception": false,
     "start_time": "2022-04-26T06:06:53.022919",
     "status": "completed"
    },
    "tags": []
   },
   "outputs": [],
   "source": [
    "# One-hot encoding of all features\n",
    "from sklearn.preprocessing import OneHotEncoder\n",
    "\n",
    "encoder = OneHotEncoder() # Generate one-hot encoder\n",
    "all_data_encoded = encoder.fit_transform(all_data) # Apply one-hot encoder"
   ]
  },
  {
   "cell_type": "code",
   "execution_count": 4,
   "id": "aebd843d",
   "metadata": {
    "execution": {
     "iopub.execute_input": "2022-04-26T06:06:58.555528Z",
     "iopub.status.busy": "2022-04-26T06:06:58.554704Z",
     "iopub.status.idle": "2022-04-26T06:06:58.716040Z",
     "shell.execute_reply": "2022-04-26T06:06:58.715368Z",
     "shell.execute_reply.started": "2022-04-26T06:04:48.955570Z"
    },
    "papermill": {
     "duration": 0.185074,
     "end_time": "2022-04-26T06:06:58.716208",
     "exception": false,
     "start_time": "2022-04-26T06:06:58.531134",
     "status": "completed"
    },
    "tags": []
   },
   "outputs": [],
   "source": [
    "# Split data into train data and test data\n",
    "num_train = len(train)\n",
    "X_train = all_data_encoded[:num_train] # rows (0 ~ num_train-1)\n",
    "X_test = all_data_encoded[num_train:]  # rows (num_train ~ end index)\n",
    "\n",
    "# Target values\n",
    "y = train['target']"
   ]
  },
  {
   "cell_type": "code",
   "execution_count": 5,
   "id": "779098aa",
   "metadata": {
    "execution": {
     "iopub.execute_input": "2022-04-26T06:06:58.752574Z",
     "iopub.status.busy": "2022-04-26T06:06:58.751734Z",
     "iopub.status.idle": "2022-04-26T06:06:59.063188Z",
     "shell.execute_reply": "2022-04-26T06:06:59.062587Z",
     "shell.execute_reply.started": "2022-04-26T06:04:49.128007Z"
    },
    "papermill": {
     "duration": 0.331593,
     "end_time": "2022-04-26T06:06:59.063337",
     "exception": false,
     "start_time": "2022-04-26T06:06:58.731744",
     "status": "completed"
    },
    "tags": []
   },
   "outputs": [],
   "source": [
    "# Split train data into train and validation data\n",
    "from sklearn.model_selection import train_test_split\n",
    "\n",
    "X_train, X_valid, y_train, y_valid = train_test_split(X_train, y,\n",
    "                                                     test_size=0.1,\n",
    "    # Make train and validation data have the same target distribution\n",
    "                                                     stratify=y, \n",
    "                                                     random_state=10)"
   ]
  },
  {
   "cell_type": "markdown",
   "id": "a2ada433",
   "metadata": {
    "papermill": {
     "duration": 0.015459,
     "end_time": "2022-04-26T06:06:59.095870",
     "exception": false,
     "start_time": "2022-04-26T06:06:59.080411",
     "status": "completed"
    },
    "tags": []
   },
   "source": [
    "### 3.3. Make evaluation index calculation function\n",
    "- Use scikit learn library\n",
    "    + sklearn.metrics.roc_auc_score"
   ]
  },
  {
   "cell_type": "markdown",
   "id": "fe48f792",
   "metadata": {
    "papermill": {
     "duration": 0.015004,
     "end_time": "2022-04-26T06:06:59.126337",
     "exception": false,
     "start_time": "2022-04-26T06:06:59.111333",
     "status": "completed"
    },
    "tags": []
   },
   "source": [
    "### 3.4. Train model\n",
    "- Note\n",
    "    + max_iter : The number of iterations of updating the regression coefficient while training the model "
   ]
  },
  {
   "cell_type": "code",
   "execution_count": 6,
   "id": "2276ba60",
   "metadata": {
    "execution": {
     "iopub.execute_input": "2022-04-26T06:06:59.162162Z",
     "iopub.status.busy": "2022-04-26T06:06:59.161539Z",
     "iopub.status.idle": "2022-04-26T06:08:01.692984Z",
     "shell.execute_reply": "2022-04-26T06:08:01.693928Z",
     "shell.execute_reply.started": "2022-04-26T06:04:49.391700Z"
    },
    "papermill": {
     "duration": 62.552625,
     "end_time": "2022-04-26T06:08:01.694270",
     "exception": false,
     "start_time": "2022-04-26T06:06:59.141645",
     "status": "completed"
    },
    "tags": []
   },
   "outputs": [
    {
     "data": {
      "text/plain": [
       "LogisticRegression(max_iter=1000, random_state=42)"
      ]
     },
     "execution_count": 6,
     "metadata": {},
     "output_type": "execute_result"
    }
   ],
   "source": [
    "# Import library\n",
    "from sklearn.linear_model import LogisticRegression\n",
    "\n",
    "logistic_model = LogisticRegression(max_iter=1000, random_state=42) # Generate model\n",
    "logistic_model.fit(X_train, y_train) # Train model"
   ]
  },
  {
   "cell_type": "markdown",
   "id": "49a8e7cd",
   "metadata": {
    "papermill": {
     "duration": 0.028894,
     "end_time": "2022-04-26T06:08:01.752240",
     "exception": false,
     "start_time": "2022-04-26T06:08:01.723346",
     "status": "completed"
    },
    "tags": []
   },
   "source": [
    "### 3.5. Validate performance"
   ]
  },
  {
   "cell_type": "code",
   "execution_count": 7,
   "id": "a63a8d9a",
   "metadata": {
    "execution": {
     "iopub.execute_input": "2022-04-26T06:08:01.799049Z",
     "iopub.status.busy": "2022-04-26T06:08:01.798399Z",
     "iopub.status.idle": "2022-04-26T06:08:01.804995Z",
     "shell.execute_reply": "2022-04-26T06:08:01.805515Z",
     "shell.execute_reply.started": "2022-04-26T06:05:54.846804Z"
    },
    "papermill": {
     "duration": 0.027448,
     "end_time": "2022-04-26T06:08:01.805682",
     "exception": false,
     "start_time": "2022-04-26T06:08:01.778234",
     "status": "completed"
    },
    "tags": []
   },
   "outputs": [
    {
     "data": {
      "text/plain": [
       "array([[0.23291409, 0.76708591],\n",
       "       [0.91410264, 0.08589736],\n",
       "       [0.83000693, 0.16999307],\n",
       "       ...,\n",
       "       [0.24886846, 0.75113154],\n",
       "       [0.49433266, 0.50566734],\n",
       "       [0.95657777, 0.04342223]])"
      ]
     },
     "execution_count": 7,
     "metadata": {},
     "output_type": "execute_result"
    }
   ],
   "source": [
    "# Predict probabilities of target value with validation data\n",
    "logistic_model.predict_proba(X_valid)"
   ]
  },
  {
   "cell_type": "code",
   "execution_count": 8,
   "id": "91993066",
   "metadata": {
    "execution": {
     "iopub.execute_input": "2022-04-26T06:08:01.841459Z",
     "iopub.status.busy": "2022-04-26T06:08:01.840766Z",
     "iopub.status.idle": "2022-04-26T06:08:01.849317Z",
     "shell.execute_reply": "2022-04-26T06:08:01.848758Z",
     "shell.execute_reply.started": "2022-04-26T06:05:54.860557Z"
    },
    "papermill": {
     "duration": 0.027488,
     "end_time": "2022-04-26T06:08:01.849460",
     "exception": false,
     "start_time": "2022-04-26T06:08:01.821972",
     "status": "completed"
    },
    "tags": []
   },
   "outputs": [
    {
     "data": {
      "text/plain": [
       "array([1, 0, 0, ..., 1, 1, 0])"
      ]
     },
     "execution_count": 8,
     "metadata": {},
     "output_type": "execute_result"
    }
   ],
   "source": [
    "# Predict target value with validation data\n",
    "logistic_model.predict(X_valid)"
   ]
  },
  {
   "cell_type": "code",
   "execution_count": 9,
   "id": "3d43c86e",
   "metadata": {
    "execution": {
     "iopub.execute_input": "2022-04-26T06:08:01.888935Z",
     "iopub.status.busy": "2022-04-26T06:08:01.888225Z",
     "iopub.status.idle": "2022-04-26T06:08:01.895900Z",
     "shell.execute_reply": "2022-04-26T06:08:01.895376Z",
     "shell.execute_reply.started": "2022-04-26T06:05:54.873017Z"
    },
    "papermill": {
     "duration": 0.029612,
     "end_time": "2022-04-26T06:08:01.896037",
     "exception": false,
     "start_time": "2022-04-26T06:08:01.866425",
     "status": "completed"
    },
    "tags": []
   },
   "outputs": [
    {
     "data": {
      "text/plain": [
       "array([0.76708591, 0.08589736, 0.16999307, ..., 0.75113154, 0.50566734,\n",
       "       0.04342223])"
      ]
     },
     "execution_count": 9,
     "metadata": {},
     "output_type": "execute_result"
    }
   ],
   "source": [
    "# Predict the probability of target value 1 with validation data\n",
    "y_valid_preds = logistic_model.predict_proba(X_valid)[:, 1]\n",
    "y_valid_preds"
   ]
  },
  {
   "cell_type": "code",
   "execution_count": 10,
   "id": "842e0a6b",
   "metadata": {
    "execution": {
     "iopub.execute_input": "2022-04-26T06:08:01.935498Z",
     "iopub.status.busy": "2022-04-26T06:08:01.934787Z",
     "iopub.status.idle": "2022-04-26T06:08:01.949463Z",
     "shell.execute_reply": "2022-04-26T06:08:01.948927Z",
     "shell.execute_reply.started": "2022-04-26T06:05:54.888414Z"
    },
    "papermill": {
     "duration": 0.036183,
     "end_time": "2022-04-26T06:08:01.949611",
     "exception": false,
     "start_time": "2022-04-26T06:08:01.913428",
     "status": "completed"
    },
    "tags": []
   },
   "outputs": [
    {
     "name": "stdout",
     "output_type": "stream",
     "text": [
      "ROC AUC of validation data : 0.7965\n"
     ]
    }
   ],
   "source": [
    "# Validate model\n",
    "from sklearn.metrics import roc_auc_score\n",
    "\n",
    "roc_auc = roc_auc_score(y_valid, y_valid_preds)\n",
    "print(f'ROC AUC of validation data : {roc_auc:.4f}')"
   ]
  },
  {
   "cell_type": "markdown",
   "id": "3f0a0a88",
   "metadata": {
    "papermill": {
     "duration": 0.016995,
     "end_time": "2022-04-26T06:08:01.983893",
     "exception": false,
     "start_time": "2022-04-26T06:08:01.966898",
     "status": "completed"
    },
    "tags": []
   },
   "source": [
    "### 3.6. Submit"
   ]
  },
  {
   "cell_type": "code",
   "execution_count": 11,
   "id": "cb5d8319",
   "metadata": {
    "execution": {
     "iopub.execute_input": "2022-04-26T06:08:02.022485Z",
     "iopub.status.busy": "2022-04-26T06:08:02.021502Z",
     "iopub.status.idle": "2022-04-26T06:08:02.860516Z",
     "shell.execute_reply": "2022-04-26T06:08:02.861054Z",
     "shell.execute_reply.started": "2022-04-26T06:05:54.916519Z"
    },
    "papermill": {
     "duration": 0.859931,
     "end_time": "2022-04-26T06:08:02.861236",
     "exception": false,
     "start_time": "2022-04-26T06:08:02.001305",
     "status": "completed"
    },
    "tags": []
   },
   "outputs": [
    {
     "data": {
      "text/html": [
       "<div>\n",
       "<style scoped>\n",
       "    .dataframe tbody tr th:only-of-type {\n",
       "        vertical-align: middle;\n",
       "    }\n",
       "\n",
       "    .dataframe tbody tr th {\n",
       "        vertical-align: top;\n",
       "    }\n",
       "\n",
       "    .dataframe thead th {\n",
       "        text-align: right;\n",
       "    }\n",
       "</style>\n",
       "<table border=\"1\" class=\"dataframe\">\n",
       "  <thead>\n",
       "    <tr style=\"text-align: right;\">\n",
       "      <th></th>\n",
       "      <th>target</th>\n",
       "    </tr>\n",
       "    <tr>\n",
       "      <th>id</th>\n",
       "      <th></th>\n",
       "    </tr>\n",
       "  </thead>\n",
       "  <tbody>\n",
       "    <tr>\n",
       "      <th>300000</th>\n",
       "      <td>0.308302</td>\n",
       "    </tr>\n",
       "    <tr>\n",
       "      <th>300001</th>\n",
       "      <td>0.699205</td>\n",
       "    </tr>\n",
       "    <tr>\n",
       "      <th>300002</th>\n",
       "      <td>0.067976</td>\n",
       "    </tr>\n",
       "    <tr>\n",
       "      <th>300003</th>\n",
       "      <td>0.444452</td>\n",
       "    </tr>\n",
       "    <tr>\n",
       "      <th>300004</th>\n",
       "      <td>0.893166</td>\n",
       "    </tr>\n",
       "    <tr>\n",
       "      <th>...</th>\n",
       "      <td>...</td>\n",
       "    </tr>\n",
       "    <tr>\n",
       "      <th>499995</th>\n",
       "      <td>0.311533</td>\n",
       "    </tr>\n",
       "    <tr>\n",
       "      <th>499996</th>\n",
       "      <td>0.142492</td>\n",
       "    </tr>\n",
       "    <tr>\n",
       "      <th>499997</th>\n",
       "      <td>0.406103</td>\n",
       "    </tr>\n",
       "    <tr>\n",
       "      <th>499998</th>\n",
       "      <td>0.491811</td>\n",
       "    </tr>\n",
       "    <tr>\n",
       "      <th>499999</th>\n",
       "      <td>0.186303</td>\n",
       "    </tr>\n",
       "  </tbody>\n",
       "</table>\n",
       "<p>200000 rows × 1 columns</p>\n",
       "</div>"
      ],
      "text/plain": [
       "          target\n",
       "id              \n",
       "300000  0.308302\n",
       "300001  0.699205\n",
       "300002  0.067976\n",
       "300003  0.444452\n",
       "300004  0.893166\n",
       "...          ...\n",
       "499995  0.311533\n",
       "499996  0.142492\n",
       "499997  0.406103\n",
       "499998  0.491811\n",
       "499999  0.186303\n",
       "\n",
       "[200000 rows x 1 columns]"
      ]
     },
     "execution_count": 11,
     "metadata": {},
     "output_type": "execute_result"
    }
   ],
   "source": [
    "# Predict with test data\n",
    "y_preds = logistic_model.predict_proba(X_test)[:, 1]\n",
    "\n",
    "# Save submission file\n",
    "submission['target'] = y_preds\n",
    "submission.to_csv('submission.csv')\n",
    "submission"
   ]
  },
  {
   "cell_type": "markdown",
   "id": "20da22f9",
   "metadata": {
    "papermill": {
     "duration": 0.018051,
     "end_time": "2022-04-26T06:08:02.896884",
     "exception": false,
     "start_time": "2022-04-26T06:08:02.878833",
     "status": "completed"
    },
    "tags": []
   },
   "source": [
    "References\n",
    "===\n",
    "- [EDA reference](https://www.kaggle.com/kabure/eda-feat-engineering-encode-conquer)\n",
    "- [Modeling reference](https://www.kaggle.com/dkomyagin/cat-in-the-dat-0-80285-private-lb-solution)\n",
    "- 머신러닝.딥러닝 문제해결 전략(신백균)"
   ]
  }
 ],
 "metadata": {
  "kernelspec": {
   "display_name": "Python 3 (ipykernel)",
   "language": "python",
   "name": "python3"
  },
  "language_info": {
   "codemirror_mode": {
    "name": "ipython",
    "version": 3
   },
   "file_extension": ".py",
   "mimetype": "text/x-python",
   "name": "python",
   "nbconvert_exporter": "python",
   "pygments_lexer": "ipython3",
   "version": "3.8.12"
  },
  "papermill": {
   "default_parameters": {},
   "duration": 82.48441,
   "end_time": "2022-04-26T06:08:03.625212",
   "environment_variables": {},
   "exception": null,
   "input_path": "__notebook__.ipynb",
   "output_path": "__notebook__.ipynb",
   "parameters": {},
   "start_time": "2022-04-26T06:06:41.140802",
   "version": "2.3.3"
  }
 },
 "nbformat": 4,
 "nbformat_minor": 5
}
