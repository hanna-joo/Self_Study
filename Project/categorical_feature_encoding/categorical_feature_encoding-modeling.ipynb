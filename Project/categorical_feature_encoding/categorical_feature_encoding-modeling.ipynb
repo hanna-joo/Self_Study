{
 "cells": [
  {
   "cell_type": "markdown",
   "id": "91a564f6",
   "metadata": {
    "papermill": {
     "duration": 0.026365,
     "end_time": "2022-04-29T12:28:41.250437",
     "exception": false,
     "start_time": "2022-04-29T12:28:41.224072",
     "status": "completed"
    },
    "tags": []
   },
   "source": [
    "# Categorical Feature Encoding Challenge Step 4"
   ]
  },
  {
   "cell_type": "markdown",
   "id": "057daf2b",
   "metadata": {
    "papermill": {
     "duration": 0.021606,
     "end_time": "2022-04-29T12:28:41.293942",
     "exception": false,
     "start_time": "2022-04-29T12:28:41.272336",
     "status": "completed"
    },
    "tags": []
   },
   "source": [
    "---\n",
    "### Analysis summary and modeling strategy\n",
    "#### 1) Analysis summary\n",
    "1. No missing values\n",
    "2. No features to remove\n",
    "3. Encode binary features : Change values to 0 and 1\n",
    "    + **'bin_3'** and **'bin_4'**\n",
    "4. Encode nominal features : One-hot encoding because the data quantity is not that much\n",
    "    + **'nom_0' ~ 'nom_9'**\n",
    "5. Encode ordinal features : Encode as the order of unique values\n",
    "    + **'ord_0' ~ 'ord_5'**\n",
    "6. Encode cyclical features : One-hot encoding to prevent recognition as large or small values\n",
    "    + **'day'** and **'month'**\n",
    "\n",
    "#### 2) Modeling strategy\n",
    "- Baseline model : Logistic Regression\n",
    "    + Feature engineering : One-hot encoding of all features\n",
    "- Performance improvement : Additional feature engineering and hyperparameter optimization\n",
    "    + Feature engineering : <u>Custom encoding for categorical features</u> and <u>feature scaling</u>\n",
    "    + Hyperparameter optimization : GridSearch\n",
    "    + Additional tip : Use validation data for training\n",
    "--- "
   ]
  },
  {
   "cell_type": "markdown",
   "id": "c266feb7",
   "metadata": {
    "papermill": {
     "duration": 0.022345,
     "end_time": "2022-04-29T12:28:41.337525",
     "exception": false,
     "start_time": "2022-04-29T12:28:41.315180",
     "status": "completed"
    },
    "tags": []
   },
   "source": [
    "## 4. Performance improvement\n",
    "- Process\n",
    "    1. Import data\n",
    "    2. Feature engineering\n",
    "    3. Make evaluation metrics calculation function\n",
    "    4. Hyperparameter optimization (Train model)\n",
    "        + **Generate model**\n",
    "        + **Generate GridSearch object**\n",
    "        + **Train GridSearch**\n",
    "    5. Validate performance\n",
    "        + If performance is not good, go back to **Feature Engineering** or **Hyperparameter Optimization**\n",
    "    6. Submit"
   ]
  },
  {
   "cell_type": "markdown",
   "id": "05c1f055",
   "metadata": {
    "papermill": {
     "duration": 0.020934,
     "end_time": "2022-04-29T12:28:41.379712",
     "exception": false,
     "start_time": "2022-04-29T12:28:41.358778",
     "status": "completed"
    },
    "tags": []
   },
   "source": [
    "### 4.1. Modeling focused on features\n",
    "- Key point\n",
    "    + **Custom encoding** for categorical features\n",
    "        + Binary features : Manual encoding\n",
    "        + Ordinal features : Manual encoding and ordinal encoding\n",
    "        + Nominal features : One-hot encoding\n",
    "        + Date features : One-hot encoding\n",
    "    + **Feature scaling** for ordinal features\n",
    "    + Hyperparameter optimization"
   ]
  },
  {
   "cell_type": "markdown",
   "id": "c04061de",
   "metadata": {
    "papermill": {
     "duration": 0.020789,
     "end_time": "2022-04-29T12:28:41.421615",
     "exception": false,
     "start_time": "2022-04-29T12:28:41.400826",
     "status": "completed"
    },
    "tags": []
   },
   "source": [
    "#### 1) Import data"
   ]
  },
  {
   "cell_type": "code",
   "execution_count": 1,
   "id": "a673c9cd",
   "metadata": {
    "execution": {
     "iopub.execute_input": "2022-04-29T12:28:41.468351Z",
     "iopub.status.busy": "2022-04-29T12:28:41.467281Z",
     "iopub.status.idle": "2022-04-29T12:28:43.908516Z",
     "shell.execute_reply": "2022-04-29T12:28:43.907820Z"
    },
    "papermill": {
     "duration": 2.465913,
     "end_time": "2022-04-29T12:28:43.908678",
     "exception": false,
     "start_time": "2022-04-29T12:28:41.442765",
     "status": "completed"
    },
    "tags": []
   },
   "outputs": [],
   "source": [
    "# Import data\n",
    "import pandas as pd\n",
    "data_path = '/kaggle/input/cat-in-the-dat/'\n",
    "train = pd.read_csv(data_path + 'train.csv', index_col='id')\n",
    "test = pd.read_csv(data_path + 'test.csv', index_col='id')\n",
    "submission = pd.read_csv(data_path + 'sample_submission.csv', index_col='id')"
   ]
  },
  {
   "cell_type": "markdown",
   "id": "4b853a90",
   "metadata": {
    "papermill": {
     "duration": 0.02105,
     "end_time": "2022-04-29T12:28:43.951022",
     "exception": false,
     "start_time": "2022-04-29T12:28:43.929972",
     "status": "completed"
    },
    "tags": []
   },
   "source": [
    "#### 2-1) Feature engineering : Custom encoding for categorical features"
   ]
  },
  {
   "cell_type": "code",
   "execution_count": 2,
   "id": "be378c1d",
   "metadata": {
    "execution": {
     "iopub.execute_input": "2022-04-29T12:28:43.998613Z",
     "iopub.status.busy": "2022-04-29T12:28:43.998060Z",
     "iopub.status.idle": "2022-04-29T12:28:44.600468Z",
     "shell.execute_reply": "2022-04-29T12:28:44.599944Z"
    },
    "papermill": {
     "duration": 0.628437,
     "end_time": "2022-04-29T12:28:44.600603",
     "exception": false,
     "start_time": "2022-04-29T12:28:43.972166",
     "status": "completed"
    },
    "tags": []
   },
   "outputs": [],
   "source": [
    "# Merge train data and test data\n",
    "all_data = pd.concat([train, test])\n",
    "# Remove target values for separately modeling feature and target values\n",
    "all_data = all_data.drop('target', axis=1)"
   ]
  },
  {
   "cell_type": "markdown",
   "id": "cfd06ea0",
   "metadata": {
    "papermill": {
     "duration": 0.021102,
     "end_time": "2022-04-29T12:28:44.643424",
     "exception": false,
     "start_time": "2022-04-29T12:28:44.622322",
     "status": "completed"
    },
    "tags": []
   },
   "source": [
    "##### (1) Binary feature\n",
    "- 'bin_3', 'bin_4' : Manual encoding"
   ]
  },
  {
   "cell_type": "code",
   "execution_count": 3,
   "id": "a2319e4b",
   "metadata": {
    "execution": {
     "iopub.execute_input": "2022-04-29T12:28:44.689748Z",
     "iopub.status.busy": "2022-04-29T12:28:44.689143Z",
     "iopub.status.idle": "2022-04-29T12:28:44.961840Z",
     "shell.execute_reply": "2022-04-29T12:28:44.961342Z"
    },
    "papermill": {
     "duration": 0.297031,
     "end_time": "2022-04-29T12:28:44.961988",
     "exception": false,
     "start_time": "2022-04-29T12:28:44.664957",
     "status": "completed"
    },
    "tags": []
   },
   "outputs": [],
   "source": [
    "all_data['bin_3'] = all_data['bin_3'].map({'F':0, 'T':1})\n",
    "all_data['bin_4'] = all_data['bin_4'].map({'N':0, 'Y':1})"
   ]
  },
  {
   "cell_type": "markdown",
   "id": "5b8aab7b",
   "metadata": {
    "papermill": {
     "duration": 0.021125,
     "end_time": "2022-04-29T12:28:45.004943",
     "exception": false,
     "start_time": "2022-04-29T12:28:44.983818",
     "status": "completed"
    },
    "tags": []
   },
   "source": [
    "##### (2) Ordinal feature\n",
    "- 'ord_1', 'ord_2' : Manual encoding\n",
    "- 'ord_3', 'ord_4', 'ord_5' : Encoding as the alphabetical order"
   ]
  },
  {
   "cell_type": "code",
   "execution_count": 4,
   "id": "5fc8baf0",
   "metadata": {
    "execution": {
     "iopub.execute_input": "2022-04-29T12:28:45.086401Z",
     "iopub.status.busy": "2022-04-29T12:28:45.054308Z",
     "iopub.status.idle": "2022-04-29T12:28:45.330400Z",
     "shell.execute_reply": "2022-04-29T12:28:45.329885Z"
    },
    "papermill": {
     "duration": 0.304013,
     "end_time": "2022-04-29T12:28:45.330529",
     "exception": false,
     "start_time": "2022-04-29T12:28:45.026516",
     "status": "completed"
    },
    "tags": []
   },
   "outputs": [],
   "source": [
    "# Manual encoding\n",
    "ord1dict = {'Novice':0, 'Contributor':1,\n",
    "            'Expert':2, 'Master':3, 'Grandmaster':4}\n",
    "ord2dict = {'Freezing':0, 'Cold':1, 'Warm':2,\n",
    "            'Hot':3, 'Boiling Hot':4, 'Lava Hot':5}\n",
    "all_data['ord_1'] = all_data['ord_1'].map(ord1dict)\n",
    "all_data['ord_2'] = all_data['ord_2'].map(ord2dict)"
   ]
  },
  {
   "cell_type": "code",
   "execution_count": 5,
   "id": "111ec95e",
   "metadata": {
    "execution": {
     "iopub.execute_input": "2022-04-29T12:28:45.379248Z",
     "iopub.status.busy": "2022-04-29T12:28:45.378659Z",
     "iopub.status.idle": "2022-04-29T12:28:46.815235Z",
     "shell.execute_reply": "2022-04-29T12:28:46.815743Z"
    },
    "papermill": {
     "duration": 1.463673,
     "end_time": "2022-04-29T12:28:46.815915",
     "exception": false,
     "start_time": "2022-04-29T12:28:45.352242",
     "status": "completed"
    },
    "tags": []
   },
   "outputs": [
    {
     "name": "stdout",
     "output_type": "stream",
     "text": [
      "ord_3\n",
      "['a' 'b' 'c' 'd' 'e' 'f' 'g' 'h' 'i' 'j' 'k' 'l' 'm' 'n' 'o']\n",
      "ord_4\n",
      "['A' 'B' 'C' 'D' 'E' 'F' 'G' 'H' 'I' 'J' 'K' 'L' 'M' 'N' 'O' 'P' 'Q' 'R'\n",
      " 'S' 'T' 'U' 'V' 'W' 'X' 'Y' 'Z']\n",
      "ord_5\n",
      "['AP' 'Ai' 'Aj' 'BA' 'BE' 'Bb' 'Bd' 'Bn' 'CL' 'CM' 'CU' 'CZ' 'Cl' 'DH'\n",
      " 'DN' 'Dc' 'Dx' 'Ed' 'Eg' 'Er' 'FI' 'Fd' 'Fo' 'GD' 'GJ' 'Gb' 'Gx' 'Hj'\n",
      " 'IK' 'Id' 'JX' 'Jc' 'Jf' 'Jt' 'KR' 'KZ' 'Kf' 'Kq' 'LE' 'MC' 'MO' 'MV'\n",
      " 'Mf' 'Ml' 'Mx' 'NV' 'Nf' 'Nk' 'OR' 'Ob' 'Os' 'PA' 'PQ' 'PZ' 'Ps' 'QM'\n",
      " 'Qb' 'Qh' 'Qo' 'RG' 'RL' 'RP' 'Rm' 'Ry' 'SB' 'Sc' 'TR' 'TZ' 'To' 'UO'\n",
      " 'Uk' 'Uu' 'Vf' 'Vx' 'WE' 'Wc' 'Wv' 'XI' 'Xh' 'Xi' 'YC' 'Yb' 'Ye' 'ZR'\n",
      " 'ZS' 'Zc' 'Zq' 'aF' 'aM' 'aO' 'aP' 'ac' 'av' 'bF' 'bJ' 'be' 'cA' 'cG'\n",
      " 'cW' 'ck' 'cp' 'dB' 'dE' 'dN' 'dO' 'dP' 'dQ' 'dZ' 'dh' 'eG' 'eQ' 'eb'\n",
      " 'eg' 'ek' 'ex' 'fO' 'fh' 'gJ' 'gM' 'hL' 'hT' 'hh' 'hp' 'iT' 'ih' 'jS'\n",
      " 'jV' 'je' 'jp' 'kC' 'kE' 'kK' 'kL' 'kU' 'kW' 'ke' 'kr' 'kw' 'lF' 'lL'\n",
      " 'll' 'lx' 'mb' 'mc' 'mm' 'nX' 'nh' 'oC' 'oG' 'oH' 'oK' 'od' 'on' 'pa'\n",
      " 'ps' 'qA' 'qJ' 'qK' 'qP' 'qX' 'qo' 'qv' 'qw' 'rZ' 'ri' 'rp' 'sD' 'sV'\n",
      " 'sY' 'sn' 'su' 'tM' 'tP' 'tv' 'uJ' 'uS' 'ud' 'us' 'ut' 'ux' 'uy' 'vK'\n",
      " 'vq' 'vy' 'wu' 'wy' 'xP' 'xy' 'yN' 'yY' 'yc' 'zU']\n"
     ]
    }
   ],
   "source": [
    "# Encoding as the alphabetical order using OrdinalEncoder\n",
    "from sklearn.preprocessing import OrdinalEncoder\n",
    "    # List to encode\n",
    "ord_345 = ['ord_3', 'ord_4', 'ord_5']\n",
    "    # Generate encoder object\n",
    "ord_encoder = OrdinalEncoder()\n",
    "    # Apply ordinal encoding\n",
    "all_data[ord_345] = ord_encoder.fit_transform(all_data[ord_345])\n",
    "    # Print encoding order by feature\n",
    "for feature, categories in zip(ord_345, ord_encoder.categories_):\n",
    "    print(feature)\n",
    "    print(categories)"
   ]
  },
  {
   "cell_type": "code",
   "execution_count": 6,
   "id": "4e838029",
   "metadata": {
    "execution": {
     "iopub.execute_input": "2022-04-29T12:28:46.867951Z",
     "iopub.status.busy": "2022-04-29T12:28:46.866947Z",
     "iopub.status.idle": "2022-04-29T12:28:46.884150Z",
     "shell.execute_reply": "2022-04-29T12:28:46.884552Z"
    },
    "papermill": {
     "duration": 0.046174,
     "end_time": "2022-04-29T12:28:46.884752",
     "exception": false,
     "start_time": "2022-04-29T12:28:46.838578",
     "status": "completed"
    },
    "tags": []
   },
   "outputs": [
    {
     "data": {
      "text/html": [
       "<div>\n",
       "<style scoped>\n",
       "    .dataframe tbody tr th:only-of-type {\n",
       "        vertical-align: middle;\n",
       "    }\n",
       "\n",
       "    .dataframe tbody tr th {\n",
       "        vertical-align: top;\n",
       "    }\n",
       "\n",
       "    .dataframe thead th {\n",
       "        text-align: right;\n",
       "    }\n",
       "</style>\n",
       "<table border=\"1\" class=\"dataframe\">\n",
       "  <thead>\n",
       "    <tr style=\"text-align: right;\">\n",
       "      <th></th>\n",
       "      <th>ord_3</th>\n",
       "      <th>ord_4</th>\n",
       "      <th>ord_5</th>\n",
       "    </tr>\n",
       "    <tr>\n",
       "      <th>id</th>\n",
       "      <th></th>\n",
       "      <th></th>\n",
       "      <th></th>\n",
       "    </tr>\n",
       "  </thead>\n",
       "  <tbody>\n",
       "    <tr>\n",
       "      <th>0</th>\n",
       "      <td>h</td>\n",
       "      <td>D</td>\n",
       "      <td>kr</td>\n",
       "    </tr>\n",
       "    <tr>\n",
       "      <th>1</th>\n",
       "      <td>a</td>\n",
       "      <td>A</td>\n",
       "      <td>bF</td>\n",
       "    </tr>\n",
       "    <tr>\n",
       "      <th>2</th>\n",
       "      <td>h</td>\n",
       "      <td>R</td>\n",
       "      <td>Jc</td>\n",
       "    </tr>\n",
       "    <tr>\n",
       "      <th>3</th>\n",
       "      <td>i</td>\n",
       "      <td>D</td>\n",
       "      <td>kW</td>\n",
       "    </tr>\n",
       "    <tr>\n",
       "      <th>4</th>\n",
       "      <td>a</td>\n",
       "      <td>R</td>\n",
       "      <td>qP</td>\n",
       "    </tr>\n",
       "  </tbody>\n",
       "</table>\n",
       "</div>"
      ],
      "text/plain": [
       "   ord_3 ord_4 ord_5\n",
       "id                  \n",
       "0      h     D    kr\n",
       "1      a     A    bF\n",
       "2      h     R    Jc\n",
       "3      i     D    kW\n",
       "4      a     R    qP"
      ]
     },
     "execution_count": 6,
     "metadata": {},
     "output_type": "execute_result"
    }
   ],
   "source": [
    "# Before ordinal encoding\n",
    "train[ord_345].head()"
   ]
  },
  {
   "cell_type": "code",
   "execution_count": 7,
   "id": "68686933",
   "metadata": {
    "execution": {
     "iopub.execute_input": "2022-04-29T12:28:46.935169Z",
     "iopub.status.busy": "2022-04-29T12:28:46.934539Z",
     "iopub.status.idle": "2022-04-29T12:28:46.953880Z",
     "shell.execute_reply": "2022-04-29T12:28:46.954275Z"
    },
    "papermill": {
     "duration": 0.047023,
     "end_time": "2022-04-29T12:28:46.954436",
     "exception": false,
     "start_time": "2022-04-29T12:28:46.907413",
     "status": "completed"
    },
    "tags": []
   },
   "outputs": [
    {
     "data": {
      "text/html": [
       "<div>\n",
       "<style scoped>\n",
       "    .dataframe tbody tr th:only-of-type {\n",
       "        vertical-align: middle;\n",
       "    }\n",
       "\n",
       "    .dataframe tbody tr th {\n",
       "        vertical-align: top;\n",
       "    }\n",
       "\n",
       "    .dataframe thead th {\n",
       "        text-align: right;\n",
       "    }\n",
       "</style>\n",
       "<table border=\"1\" class=\"dataframe\">\n",
       "  <thead>\n",
       "    <tr style=\"text-align: right;\">\n",
       "      <th></th>\n",
       "      <th>ord_3</th>\n",
       "      <th>ord_4</th>\n",
       "      <th>ord_5</th>\n",
       "    </tr>\n",
       "    <tr>\n",
       "      <th>id</th>\n",
       "      <th></th>\n",
       "      <th></th>\n",
       "      <th></th>\n",
       "    </tr>\n",
       "  </thead>\n",
       "  <tbody>\n",
       "    <tr>\n",
       "      <th>0</th>\n",
       "      <td>7.0</td>\n",
       "      <td>3.0</td>\n",
       "      <td>136.0</td>\n",
       "    </tr>\n",
       "    <tr>\n",
       "      <th>1</th>\n",
       "      <td>0.0</td>\n",
       "      <td>0.0</td>\n",
       "      <td>93.0</td>\n",
       "    </tr>\n",
       "    <tr>\n",
       "      <th>2</th>\n",
       "      <td>7.0</td>\n",
       "      <td>17.0</td>\n",
       "      <td>31.0</td>\n",
       "    </tr>\n",
       "    <tr>\n",
       "      <th>3</th>\n",
       "      <td>8.0</td>\n",
       "      <td>3.0</td>\n",
       "      <td>134.0</td>\n",
       "    </tr>\n",
       "    <tr>\n",
       "      <th>4</th>\n",
       "      <td>0.0</td>\n",
       "      <td>17.0</td>\n",
       "      <td>158.0</td>\n",
       "    </tr>\n",
       "  </tbody>\n",
       "</table>\n",
       "</div>"
      ],
      "text/plain": [
       "    ord_3  ord_4  ord_5\n",
       "id                     \n",
       "0     7.0    3.0  136.0\n",
       "1     0.0    0.0   93.0\n",
       "2     7.0   17.0   31.0\n",
       "3     8.0    3.0  134.0\n",
       "4     0.0   17.0  158.0"
      ]
     },
     "execution_count": 7,
     "metadata": {},
     "output_type": "execute_result"
    }
   ],
   "source": [
    "# After ordinal encoding\n",
    "all_data[ord_345].head()"
   ]
  },
  {
   "cell_type": "markdown",
   "id": "43efad9c",
   "metadata": {
    "papermill": {
     "duration": 0.023271,
     "end_time": "2022-04-29T12:28:47.000764",
     "exception": false,
     "start_time": "2022-04-29T12:28:46.977493",
     "status": "completed"
    },
    "tags": []
   },
   "source": [
    "##### (3) Nominal feature\n",
    "- 'nom_0' ~ 'nom_9' : One-hot encoding\n",
    "- Note\n",
    "    + When applying one-hot encoding with OneHotEncoder, sparse matrix is returned as CSR(Compressed Sparse Row) format\n",
    "    + CSR format uses less memory and makes calculation speed faster "
   ]
  },
  {
   "cell_type": "code",
   "execution_count": 8,
   "id": "19703490",
   "metadata": {
    "execution": {
     "iopub.execute_input": "2022-04-29T12:28:47.053744Z",
     "iopub.status.busy": "2022-04-29T12:28:47.053111Z",
     "iopub.status.idle": "2022-04-29T12:28:48.581608Z",
     "shell.execute_reply": "2022-04-29T12:28:48.581128Z"
    },
    "papermill": {
     "duration": 1.557733,
     "end_time": "2022-04-29T12:28:48.581770",
     "exception": false,
     "start_time": "2022-04-29T12:28:47.024037",
     "status": "completed"
    },
    "tags": []
   },
   "outputs": [
    {
     "data": {
      "text/plain": [
       "<500000x16276 sparse matrix of type '<class 'numpy.float64'>'\n",
       "\twith 5000000 stored elements in Compressed Sparse Row format>"
      ]
     },
     "execution_count": 8,
     "metadata": {},
     "output_type": "execute_result"
    }
   ],
   "source": [
    "# One-hot encoding\n",
    "from sklearn.preprocessing import OneHotEncoder\n",
    "    # List to encode\n",
    "nom_features = ['nom_' + str(i) for i in range(10)]\n",
    "    # Generate encoder object\n",
    "onehot_encoder = OneHotEncoder()\n",
    "    # Apply one-hot encoding\n",
    "encoded_nom_matrix = onehot_encoder.fit_transform(all_data[nom_features])\n",
    "encoded_nom_matrix"
   ]
  },
  {
   "cell_type": "code",
   "execution_count": 9,
   "id": "6195f6dd",
   "metadata": {
    "execution": {
     "iopub.execute_input": "2022-04-29T12:28:48.648465Z",
     "iopub.status.busy": "2022-04-29T12:28:48.633888Z",
     "iopub.status.idle": "2022-04-29T12:28:48.666319Z",
     "shell.execute_reply": "2022-04-29T12:28:48.665830Z"
    },
    "papermill": {
     "duration": 0.061429,
     "end_time": "2022-04-29T12:28:48.666470",
     "exception": false,
     "start_time": "2022-04-29T12:28:48.605041",
     "status": "completed"
    },
    "tags": []
   },
   "outputs": [],
   "source": [
    "# Remove nominal features from all_data\n",
    "all_data = all_data.drop(nom_features, axis=1)"
   ]
  },
  {
   "cell_type": "markdown",
   "id": "437c73c0",
   "metadata": {
    "papermill": {
     "duration": 0.022927,
     "end_time": "2022-04-29T12:28:48.713521",
     "exception": false,
     "start_time": "2022-04-29T12:28:48.690594",
     "status": "completed"
    },
    "tags": []
   },
   "source": [
    "##### (4) Date feature\n",
    "- 'day', 'month' : One-hot encoding"
   ]
  },
  {
   "cell_type": "code",
   "execution_count": 10,
   "id": "7322ead2",
   "metadata": {
    "execution": {
     "iopub.execute_input": "2022-04-29T12:28:48.769812Z",
     "iopub.status.busy": "2022-04-29T12:28:48.769186Z",
     "iopub.status.idle": "2022-04-29T12:28:48.888273Z",
     "shell.execute_reply": "2022-04-29T12:28:48.887782Z"
    },
    "papermill": {
     "duration": 0.151658,
     "end_time": "2022-04-29T12:28:48.888413",
     "exception": false,
     "start_time": "2022-04-29T12:28:48.736755",
     "status": "completed"
    },
    "tags": []
   },
   "outputs": [
    {
     "data": {
      "text/plain": [
       "<500000x19 sparse matrix of type '<class 'numpy.float64'>'\n",
       "\twith 1000000 stored elements in Compressed Sparse Row format>"
      ]
     },
     "execution_count": 10,
     "metadata": {},
     "output_type": "execute_result"
    }
   ],
   "source": [
    "# One-hot encoding\n",
    "    # List to encode\n",
    "date_features = ['day', 'month']\n",
    "    # Apply one-hot encoding\n",
    "encoded_date_matrix = onehot_encoder.fit_transform(all_data[date_features])\n",
    "encoded_date_matrix"
   ]
  },
  {
   "cell_type": "markdown",
   "id": "636a0f6d",
   "metadata": {
    "papermill": {
     "duration": 0.024703,
     "end_time": "2022-04-29T12:28:48.937550",
     "exception": false,
     "start_time": "2022-04-29T12:28:48.912847",
     "status": "completed"
    },
    "tags": []
   },
   "source": [
    "#### 2-2) Feature engineering : Feature scaling\n",
    "- When numerical features have different valid value ranges, training won't be done well\n",
    "- Feature scaling : The operation of adjusting the range of values of features to match each other\n",
    "    + Binary, nominal, date features are encoded 0 and 1\n",
    "    + The value range of the ordinal feature must also be scaled to be between 0 and 1"
   ]
  },
  {
   "cell_type": "code",
   "execution_count": 11,
   "id": "8e883dff",
   "metadata": {
    "execution": {
     "iopub.execute_input": "2022-04-29T12:28:49.009610Z",
     "iopub.status.busy": "2022-04-29T12:28:49.009010Z",
     "iopub.status.idle": "2022-04-29T12:28:49.094230Z",
     "shell.execute_reply": "2022-04-29T12:28:49.093688Z"
    },
    "papermill": {
     "duration": 0.133366,
     "end_time": "2022-04-29T12:28:49.094372",
     "exception": false,
     "start_time": "2022-04-29T12:28:48.961006",
     "status": "completed"
    },
    "tags": []
   },
   "outputs": [],
   "source": [
    "# Feature scaling\n",
    "from sklearn.preprocessing import MinMaxScaler\n",
    "    # List to scale\n",
    "ord_features = ['ord_' + str(i) for i in range(6)]\n",
    "    # Just to compare before and after\n",
    "before_scaling = all_data[ord_features]\n",
    "    # Min-max normalization\n",
    "all_data[ord_features] = MinMaxScaler().fit_transform(all_data[ord_features])"
   ]
  },
  {
   "cell_type": "code",
   "execution_count": 12,
   "id": "c2d50a62",
   "metadata": {
    "execution": {
     "iopub.execute_input": "2022-04-29T12:28:49.153507Z",
     "iopub.status.busy": "2022-04-29T12:28:49.152924Z",
     "iopub.status.idle": "2022-04-29T12:28:49.157034Z",
     "shell.execute_reply": "2022-04-29T12:28:49.156453Z"
    },
    "papermill": {
     "duration": 0.03895,
     "end_time": "2022-04-29T12:28:49.157163",
     "exception": false,
     "start_time": "2022-04-29T12:28:49.118213",
     "status": "completed"
    },
    "tags": []
   },
   "outputs": [
    {
     "data": {
      "text/html": [
       "<div>\n",
       "<style scoped>\n",
       "    .dataframe tbody tr th:only-of-type {\n",
       "        vertical-align: middle;\n",
       "    }\n",
       "\n",
       "    .dataframe tbody tr th {\n",
       "        vertical-align: top;\n",
       "    }\n",
       "\n",
       "    .dataframe thead th {\n",
       "        text-align: right;\n",
       "    }\n",
       "</style>\n",
       "<table border=\"1\" class=\"dataframe\">\n",
       "  <thead>\n",
       "    <tr style=\"text-align: right;\">\n",
       "      <th></th>\n",
       "      <th>ord_0</th>\n",
       "      <th>ord_1</th>\n",
       "      <th>ord_2</th>\n",
       "      <th>ord_3</th>\n",
       "      <th>ord_4</th>\n",
       "      <th>ord_5</th>\n",
       "    </tr>\n",
       "    <tr>\n",
       "      <th>id</th>\n",
       "      <th></th>\n",
       "      <th></th>\n",
       "      <th></th>\n",
       "      <th></th>\n",
       "      <th></th>\n",
       "      <th></th>\n",
       "    </tr>\n",
       "  </thead>\n",
       "  <tbody>\n",
       "    <tr>\n",
       "      <th>0</th>\n",
       "      <td>2</td>\n",
       "      <td>4</td>\n",
       "      <td>1</td>\n",
       "      <td>7.0</td>\n",
       "      <td>3.0</td>\n",
       "      <td>136.0</td>\n",
       "    </tr>\n",
       "    <tr>\n",
       "      <th>1</th>\n",
       "      <td>1</td>\n",
       "      <td>4</td>\n",
       "      <td>3</td>\n",
       "      <td>0.0</td>\n",
       "      <td>0.0</td>\n",
       "      <td>93.0</td>\n",
       "    </tr>\n",
       "    <tr>\n",
       "      <th>2</th>\n",
       "      <td>1</td>\n",
       "      <td>2</td>\n",
       "      <td>5</td>\n",
       "      <td>7.0</td>\n",
       "      <td>17.0</td>\n",
       "      <td>31.0</td>\n",
       "    </tr>\n",
       "    <tr>\n",
       "      <th>3</th>\n",
       "      <td>1</td>\n",
       "      <td>4</td>\n",
       "      <td>4</td>\n",
       "      <td>8.0</td>\n",
       "      <td>3.0</td>\n",
       "      <td>134.0</td>\n",
       "    </tr>\n",
       "    <tr>\n",
       "      <th>4</th>\n",
       "      <td>1</td>\n",
       "      <td>4</td>\n",
       "      <td>0</td>\n",
       "      <td>0.0</td>\n",
       "      <td>17.0</td>\n",
       "      <td>158.0</td>\n",
       "    </tr>\n",
       "  </tbody>\n",
       "</table>\n",
       "</div>"
      ],
      "text/plain": [
       "    ord_0  ord_1  ord_2  ord_3  ord_4  ord_5\n",
       "id                                          \n",
       "0       2      4      1    7.0    3.0  136.0\n",
       "1       1      4      3    0.0    0.0   93.0\n",
       "2       1      2      5    7.0   17.0   31.0\n",
       "3       1      4      4    8.0    3.0  134.0\n",
       "4       1      4      0    0.0   17.0  158.0"
      ]
     },
     "execution_count": 12,
     "metadata": {},
     "output_type": "execute_result"
    }
   ],
   "source": [
    "# Before scaling\n",
    "before_scaling.head()"
   ]
  },
  {
   "cell_type": "code",
   "execution_count": 13,
   "id": "50a35d46",
   "metadata": {
    "execution": {
     "iopub.execute_input": "2022-04-29T12:28:49.210530Z",
     "iopub.status.busy": "2022-04-29T12:28:49.209932Z",
     "iopub.status.idle": "2022-04-29T12:28:49.236100Z",
     "shell.execute_reply": "2022-04-29T12:28:49.235585Z"
    },
    "papermill": {
     "duration": 0.054974,
     "end_time": "2022-04-29T12:28:49.236227",
     "exception": false,
     "start_time": "2022-04-29T12:28:49.181253",
     "status": "completed"
    },
    "tags": []
   },
   "outputs": [
    {
     "data": {
      "text/html": [
       "<div>\n",
       "<style scoped>\n",
       "    .dataframe tbody tr th:only-of-type {\n",
       "        vertical-align: middle;\n",
       "    }\n",
       "\n",
       "    .dataframe tbody tr th {\n",
       "        vertical-align: top;\n",
       "    }\n",
       "\n",
       "    .dataframe thead th {\n",
       "        text-align: right;\n",
       "    }\n",
       "</style>\n",
       "<table border=\"1\" class=\"dataframe\">\n",
       "  <thead>\n",
       "    <tr style=\"text-align: right;\">\n",
       "      <th></th>\n",
       "      <th>ord_0</th>\n",
       "      <th>ord_1</th>\n",
       "      <th>ord_2</th>\n",
       "      <th>ord_3</th>\n",
       "      <th>ord_4</th>\n",
       "      <th>ord_5</th>\n",
       "    </tr>\n",
       "    <tr>\n",
       "      <th>id</th>\n",
       "      <th></th>\n",
       "      <th></th>\n",
       "      <th></th>\n",
       "      <th></th>\n",
       "      <th></th>\n",
       "      <th></th>\n",
       "    </tr>\n",
       "  </thead>\n",
       "  <tbody>\n",
       "    <tr>\n",
       "      <th>0</th>\n",
       "      <td>0.5</td>\n",
       "      <td>1.0</td>\n",
       "      <td>0.2</td>\n",
       "      <td>0.500000</td>\n",
       "      <td>0.12</td>\n",
       "      <td>0.712042</td>\n",
       "    </tr>\n",
       "    <tr>\n",
       "      <th>1</th>\n",
       "      <td>0.0</td>\n",
       "      <td>1.0</td>\n",
       "      <td>0.6</td>\n",
       "      <td>0.000000</td>\n",
       "      <td>0.00</td>\n",
       "      <td>0.486911</td>\n",
       "    </tr>\n",
       "    <tr>\n",
       "      <th>2</th>\n",
       "      <td>0.0</td>\n",
       "      <td>0.5</td>\n",
       "      <td>1.0</td>\n",
       "      <td>0.500000</td>\n",
       "      <td>0.68</td>\n",
       "      <td>0.162304</td>\n",
       "    </tr>\n",
       "    <tr>\n",
       "      <th>3</th>\n",
       "      <td>0.0</td>\n",
       "      <td>1.0</td>\n",
       "      <td>0.8</td>\n",
       "      <td>0.571429</td>\n",
       "      <td>0.12</td>\n",
       "      <td>0.701571</td>\n",
       "    </tr>\n",
       "    <tr>\n",
       "      <th>4</th>\n",
       "      <td>0.0</td>\n",
       "      <td>1.0</td>\n",
       "      <td>0.0</td>\n",
       "      <td>0.000000</td>\n",
       "      <td>0.68</td>\n",
       "      <td>0.827225</td>\n",
       "    </tr>\n",
       "  </tbody>\n",
       "</table>\n",
       "</div>"
      ],
      "text/plain": [
       "    ord_0  ord_1  ord_2     ord_3  ord_4     ord_5\n",
       "id                                                \n",
       "0     0.5    1.0    0.2  0.500000   0.12  0.712042\n",
       "1     0.0    1.0    0.6  0.000000   0.00  0.486911\n",
       "2     0.0    0.5    1.0  0.500000   0.68  0.162304\n",
       "3     0.0    1.0    0.8  0.571429   0.12  0.701571\n",
       "4     0.0    1.0    0.0  0.000000   0.68  0.827225"
      ]
     },
     "execution_count": 13,
     "metadata": {},
     "output_type": "execute_result"
    }
   ],
   "source": [
    "# After scaling\n",
    "all_data[ord_features].head()"
   ]
  },
  {
   "cell_type": "code",
   "execution_count": 14,
   "id": "b4d28bb6",
   "metadata": {
    "execution": {
     "iopub.execute_input": "2022-04-29T12:28:49.292991Z",
     "iopub.status.busy": "2022-04-29T12:28:49.292344Z",
     "iopub.status.idle": "2022-04-29T12:28:50.268763Z",
     "shell.execute_reply": "2022-04-29T12:28:50.268087Z"
    },
    "papermill": {
     "duration": 1.007562,
     "end_time": "2022-04-29T12:28:50.268903",
     "exception": false,
     "start_time": "2022-04-29T12:28:49.261341",
     "status": "completed"
    },
    "tags": []
   },
   "outputs": [],
   "source": [
    "# Merge encoded and scaled features with csr format\n",
    "from scipy import sparse\n",
    "\n",
    "all_data_sprs = sparse.hstack([sparse.csr_matrix(all_data), # Return all_data to CSR format\n",
    "                              encoded_nom_matrix,\n",
    "                              encoded_date_matrix],\n",
    "                              format='csr')\n",
    "\n",
    "# Split data into train data and test date\n",
    "num_train = len(train)\n",
    "X_train = all_data_sprs[:num_train]\n",
    "X_test = all_data_sprs[num_train:]\n",
    "y = train['target']\n",
    "\n",
    "# Split train data into train and validation data\n",
    "from sklearn.model_selection import train_test_split\n",
    "\n",
    "X_train, X_valid, y_train, y_valid = train_test_split(X_train, y,\n",
    "                                                     test_size=0.1,\n",
    "                                                     stratify=y,\n",
    "                                                     random_state=10)"
   ]
  },
  {
   "cell_type": "markdown",
   "id": "e65c55a4",
   "metadata": {
    "papermill": {
     "duration": 0.024928,
     "end_time": "2022-04-29T12:28:50.318920",
     "exception": false,
     "start_time": "2022-04-29T12:28:50.293992",
     "status": "completed"
    },
    "tags": []
   },
   "source": [
    "#### 3) Make evaluation index calculation function\n",
    "- Use scikit learn library\n",
    "    + sklearn.metrics.roc_auc_score"
   ]
  },
  {
   "cell_type": "markdown",
   "id": "192bf4e1",
   "metadata": {
    "papermill": {
     "duration": 0.024453,
     "end_time": "2022-04-29T12:28:50.368277",
     "exception": false,
     "start_time": "2022-04-29T12:28:50.343824",
     "status": "completed"
    },
    "tags": []
   },
   "source": [
    "#### 4) Hyperparameter optimization (Train model)\n",
    "- GridSearch finds **optimal hyperparameter values** by changing hyperparameter values and evaluating model performance through cross-validation\n",
    "\n",
    "\n",
    "- Process\n",
    "    1. Generate model\n",
    "    2. Generate GridSearch object\n",
    "        + Target model\n",
    "        + List of hyperparameter values (Dictionary type)\n",
    "        + Evaluation function for cross-validation\n",
    "    3. Train model (GridSearch)\n",
    "    \n",
    "\n",
    "- Note\n",
    "    + C : A parameter that controls the intensity of regulation and the smaller value, the stronger regulation"
   ]
  },
  {
   "cell_type": "code",
   "execution_count": 15,
   "id": "ba0051fd",
   "metadata": {
    "execution": {
     "iopub.execute_input": "2022-04-29T12:28:50.425010Z",
     "iopub.status.busy": "2022-04-29T12:28:50.424289Z",
     "iopub.status.idle": "2022-04-29T12:38:31.377558Z",
     "shell.execute_reply": "2022-04-29T12:38:31.378269Z"
    },
    "papermill": {
     "duration": 580.985436,
     "end_time": "2022-04-29T12:38:31.378521",
     "exception": false,
     "start_time": "2022-04-29T12:28:50.393085",
     "status": "completed"
    },
    "tags": []
   },
   "outputs": [
    {
     "name": "stdout",
     "output_type": "stream",
     "text": [
      "best hyperparameter : {'C': 0.125, 'max_iter': 800, 'random_state': 42, 'solver': 'liblinear'}\n",
      "CPU times: user 19min 46s, sys: 17min 49s, total: 37min 36s\n",
      "Wall time: 9min 40s\n"
     ]
    }
   ],
   "source": [
    "%%time\n",
    "\n",
    "from sklearn.model_selection import GridSearchCV\n",
    "from sklearn.linear_model import LogisticRegression\n",
    "\n",
    "# Generate model\n",
    "logistic_model = LogisticRegression()\n",
    "# List of hyperparameter values (Dict type)\n",
    "lr_params = {'C':[0.1, 0.125, 0.2], 'max_iter':[800, 900, 1000],\n",
    "            'solver':['liblinear'], 'random_state':[42]}\n",
    "# Generate GridSearch object\n",
    "gridsearch_logistic_model = GridSearchCV(estimator=logistic_model,\n",
    "                                        param_grid=lr_params,\n",
    "                                        scoring='roc_auc',\n",
    "                                        cv=5)\n",
    "# Train model and GridSearch\n",
    "gridsearch_logistic_model.fit(X_train, y_train)\n",
    "\n",
    "print(f'best hyperparameter :', gridsearch_logistic_model.best_params_)"
   ]
  },
  {
   "cell_type": "markdown",
   "id": "2f83452b",
   "metadata": {
    "papermill": {
     "duration": 0.025208,
     "end_time": "2022-04-29T12:38:31.430279",
     "exception": false,
     "start_time": "2022-04-29T12:38:31.405071",
     "status": "completed"
    },
    "tags": []
   },
   "source": [
    "#### 5) Validate performance"
   ]
  },
  {
   "cell_type": "code",
   "execution_count": 16,
   "id": "6916af3e",
   "metadata": {
    "execution": {
     "iopub.execute_input": "2022-04-29T12:38:31.484131Z",
     "iopub.status.busy": "2022-04-29T12:38:31.483519Z",
     "iopub.status.idle": "2022-04-29T12:38:31.502311Z",
     "shell.execute_reply": "2022-04-29T12:38:31.501604Z"
    },
    "papermill": {
     "duration": 0.046875,
     "end_time": "2022-04-29T12:38:31.502496",
     "exception": false,
     "start_time": "2022-04-29T12:38:31.455621",
     "status": "completed"
    },
    "tags": []
   },
   "outputs": [
    {
     "name": "stdout",
     "output_type": "stream",
     "text": [
      "ROC AUC of validation data : 0.8045\n"
     ]
    }
   ],
   "source": [
    "# Predict the probability of target value 1 with validation data\n",
    "y_valid_preds = gridsearch_logistic_model.predict_proba(X_valid)[:, 1]\n",
    "\n",
    "# Validate model\n",
    "from sklearn.metrics import roc_auc_score\n",
    "\n",
    "roc_auc = roc_auc_score(y_valid, y_valid_preds)\n",
    "print(f'ROC AUC of validation data : {roc_auc:.4f}')"
   ]
  },
  {
   "cell_type": "markdown",
   "id": "5dd5479f",
   "metadata": {
    "papermill": {
     "duration": 0.026086,
     "end_time": "2022-04-29T12:38:31.555456",
     "exception": false,
     "start_time": "2022-04-29T12:38:31.529370",
     "status": "completed"
    },
    "tags": []
   },
   "source": [
    "#### 6) Submit"
   ]
  },
  {
   "cell_type": "code",
   "execution_count": 17,
   "id": "4900b3d3",
   "metadata": {
    "execution": {
     "iopub.execute_input": "2022-04-29T12:38:31.610810Z",
     "iopub.status.busy": "2022-04-29T12:38:31.610204Z",
     "iopub.status.idle": "2022-04-29T12:38:32.152144Z",
     "shell.execute_reply": "2022-04-29T12:38:32.151532Z"
    },
    "papermill": {
     "duration": 0.570472,
     "end_time": "2022-04-29T12:38:32.152277",
     "exception": false,
     "start_time": "2022-04-29T12:38:31.581805",
     "status": "completed"
    },
    "tags": []
   },
   "outputs": [
    {
     "data": {
      "text/html": [
       "<div>\n",
       "<style scoped>\n",
       "    .dataframe tbody tr th:only-of-type {\n",
       "        vertical-align: middle;\n",
       "    }\n",
       "\n",
       "    .dataframe tbody tr th {\n",
       "        vertical-align: top;\n",
       "    }\n",
       "\n",
       "    .dataframe thead th {\n",
       "        text-align: right;\n",
       "    }\n",
       "</style>\n",
       "<table border=\"1\" class=\"dataframe\">\n",
       "  <thead>\n",
       "    <tr style=\"text-align: right;\">\n",
       "      <th></th>\n",
       "      <th>target</th>\n",
       "    </tr>\n",
       "    <tr>\n",
       "      <th>id</th>\n",
       "      <th></th>\n",
       "    </tr>\n",
       "  </thead>\n",
       "  <tbody>\n",
       "    <tr>\n",
       "      <th>300000</th>\n",
       "      <td>0.345187</td>\n",
       "    </tr>\n",
       "    <tr>\n",
       "      <th>300001</th>\n",
       "      <td>0.694867</td>\n",
       "    </tr>\n",
       "    <tr>\n",
       "      <th>300002</th>\n",
       "      <td>0.112086</td>\n",
       "    </tr>\n",
       "    <tr>\n",
       "      <th>300003</th>\n",
       "      <td>0.472137</td>\n",
       "    </tr>\n",
       "    <tr>\n",
       "      <th>300004</th>\n",
       "      <td>0.856656</td>\n",
       "    </tr>\n",
       "    <tr>\n",
       "      <th>...</th>\n",
       "      <td>...</td>\n",
       "    </tr>\n",
       "    <tr>\n",
       "      <th>499995</th>\n",
       "      <td>0.285640</td>\n",
       "    </tr>\n",
       "    <tr>\n",
       "      <th>499996</th>\n",
       "      <td>0.146745</td>\n",
       "    </tr>\n",
       "    <tr>\n",
       "      <th>499997</th>\n",
       "      <td>0.333108</td>\n",
       "    </tr>\n",
       "    <tr>\n",
       "      <th>499998</th>\n",
       "      <td>0.573309</td>\n",
       "    </tr>\n",
       "    <tr>\n",
       "      <th>499999</th>\n",
       "      <td>0.200367</td>\n",
       "    </tr>\n",
       "  </tbody>\n",
       "</table>\n",
       "<p>200000 rows × 1 columns</p>\n",
       "</div>"
      ],
      "text/plain": [
       "          target\n",
       "id              \n",
       "300000  0.345187\n",
       "300001  0.694867\n",
       "300002  0.112086\n",
       "300003  0.472137\n",
       "300004  0.856656\n",
       "...          ...\n",
       "499995  0.285640\n",
       "499996  0.146745\n",
       "499997  0.333108\n",
       "499998  0.573309\n",
       "499999  0.200367\n",
       "\n",
       "[200000 rows x 1 columns]"
      ]
     },
     "execution_count": 17,
     "metadata": {},
     "output_type": "execute_result"
    }
   ],
   "source": [
    "# Predict with test data\n",
    "y_preds = gridsearch_logistic_model.best_estimator_.predict_proba(X_test)[:, 1]\n",
    "\n",
    "# Save submission file\n",
    "submission['target'] = y_preds\n",
    "submission.to_csv('submission.csv')\n",
    "submission"
   ]
  },
  {
   "cell_type": "markdown",
   "id": "dccff327",
   "metadata": {
    "papermill": {
     "duration": 0.025761,
     "end_time": "2022-04-29T12:38:32.204205",
     "exception": false,
     "start_time": "2022-04-29T12:38:32.178444",
     "status": "completed"
    },
    "tags": []
   },
   "source": [
    "### 4.2. Train all data including validation data\n",
    "- Training with even a little more data is beneficial for performance improvement\n",
    "- Key point for performance improvement\n",
    "    1. Do feature engineering (Encoding/Feature scaling)\n",
    "    2. Do modeling using different kinds of models and hyperparameter optimization\n",
    "    3. Select one model whose performance of validation data is the best\n",
    "    4. Train the selected model again with full training data including validation data\n",
    "    5. Submit"
   ]
  },
  {
   "cell_type": "markdown",
   "id": "a0c62aca",
   "metadata": {
    "papermill": {
     "duration": 0.025839,
     "end_time": "2022-04-29T12:38:32.256219",
     "exception": false,
     "start_time": "2022-04-29T12:38:32.230380",
     "status": "completed"
    },
    "tags": []
   },
   "source": [
    "#### 1) Import data"
   ]
  },
  {
   "cell_type": "code",
   "execution_count": 18,
   "id": "29bdb2fa",
   "metadata": {
    "execution": {
     "iopub.execute_input": "2022-04-29T12:38:32.313848Z",
     "iopub.status.busy": "2022-04-29T12:38:32.313151Z",
     "iopub.status.idle": "2022-04-29T12:38:33.810945Z",
     "shell.execute_reply": "2022-04-29T12:38:33.810464Z",
     "shell.execute_reply.started": "2022-04-26T14:18:23.505324Z"
    },
    "papermill": {
     "duration": 1.528939,
     "end_time": "2022-04-29T12:38:33.811092",
     "exception": false,
     "start_time": "2022-04-29T12:38:32.282153",
     "status": "completed"
    },
    "tags": []
   },
   "outputs": [],
   "source": [
    "# Import data\n",
    "import pandas as pd\n",
    "data_path = '/kaggle/input/cat-in-the-dat/'\n",
    "train = pd.read_csv(data_path + 'train.csv', index_col='id')\n",
    "test = pd.read_csv(data_path + 'test.csv', index_col='id')\n",
    "submission = pd.read_csv(data_path + 'sample_submission.csv', index_col='id')"
   ]
  },
  {
   "cell_type": "markdown",
   "id": "251e4e84",
   "metadata": {
    "papermill": {
     "duration": 0.026728,
     "end_time": "2022-04-29T12:38:33.864739",
     "exception": false,
     "start_time": "2022-04-29T12:38:33.838011",
     "status": "completed"
    },
    "tags": []
   },
   "source": [
    "#### 2-1) Feature engineering : Custom encoding for categorical features"
   ]
  },
  {
   "cell_type": "code",
   "execution_count": 19,
   "id": "cd230ab2",
   "metadata": {
    "execution": {
     "iopub.execute_input": "2022-04-29T12:38:33.921729Z",
     "iopub.status.busy": "2022-04-29T12:38:33.921097Z",
     "iopub.status.idle": "2022-04-29T12:38:34.440868Z",
     "shell.execute_reply": "2022-04-29T12:38:34.440363Z",
     "shell.execute_reply.started": "2022-04-26T14:18:25.578819Z"
    },
    "papermill": {
     "duration": 0.550226,
     "end_time": "2022-04-29T12:38:34.441008",
     "exception": false,
     "start_time": "2022-04-29T12:38:33.890782",
     "status": "completed"
    },
    "tags": []
   },
   "outputs": [],
   "source": [
    "# Merge train data and test data\n",
    "all_data = pd.concat([train, test])\n",
    "# Remove target values for separately modeling feature and target values\n",
    "all_data = all_data.drop('target', axis=1)"
   ]
  },
  {
   "cell_type": "code",
   "execution_count": 20,
   "id": "873e8b1c",
   "metadata": {
    "execution": {
     "iopub.execute_input": "2022-04-29T12:38:34.503082Z",
     "iopub.status.busy": "2022-04-29T12:38:34.502433Z",
     "iopub.status.idle": "2022-04-29T12:38:37.200590Z",
     "shell.execute_reply": "2022-04-29T12:38:37.201108Z",
     "shell.execute_reply.started": "2022-04-26T14:18:26.415985Z"
    },
    "papermill": {
     "duration": 2.734023,
     "end_time": "2022-04-29T12:38:37.201279",
     "exception": false,
     "start_time": "2022-04-29T12:38:34.467256",
     "status": "completed"
    },
    "tags": []
   },
   "outputs": [
    {
     "name": "stdout",
     "output_type": "stream",
     "text": [
      "ord_3\n",
      "['a' 'b' 'c' 'd' 'e' 'f' 'g' 'h' 'i' 'j' 'k' 'l' 'm' 'n' 'o']\n",
      "ord_4\n",
      "['A' 'B' 'C' 'D' 'E' 'F' 'G' 'H' 'I' 'J' 'K' 'L' 'M' 'N' 'O' 'P' 'Q' 'R'\n",
      " 'S' 'T' 'U' 'V' 'W' 'X' 'Y' 'Z']\n",
      "ord_5\n",
      "['AP' 'Ai' 'Aj' 'BA' 'BE' 'Bb' 'Bd' 'Bn' 'CL' 'CM' 'CU' 'CZ' 'Cl' 'DH'\n",
      " 'DN' 'Dc' 'Dx' 'Ed' 'Eg' 'Er' 'FI' 'Fd' 'Fo' 'GD' 'GJ' 'Gb' 'Gx' 'Hj'\n",
      " 'IK' 'Id' 'JX' 'Jc' 'Jf' 'Jt' 'KR' 'KZ' 'Kf' 'Kq' 'LE' 'MC' 'MO' 'MV'\n",
      " 'Mf' 'Ml' 'Mx' 'NV' 'Nf' 'Nk' 'OR' 'Ob' 'Os' 'PA' 'PQ' 'PZ' 'Ps' 'QM'\n",
      " 'Qb' 'Qh' 'Qo' 'RG' 'RL' 'RP' 'Rm' 'Ry' 'SB' 'Sc' 'TR' 'TZ' 'To' 'UO'\n",
      " 'Uk' 'Uu' 'Vf' 'Vx' 'WE' 'Wc' 'Wv' 'XI' 'Xh' 'Xi' 'YC' 'Yb' 'Ye' 'ZR'\n",
      " 'ZS' 'Zc' 'Zq' 'aF' 'aM' 'aO' 'aP' 'ac' 'av' 'bF' 'bJ' 'be' 'cA' 'cG'\n",
      " 'cW' 'ck' 'cp' 'dB' 'dE' 'dN' 'dO' 'dP' 'dQ' 'dZ' 'dh' 'eG' 'eQ' 'eb'\n",
      " 'eg' 'ek' 'ex' 'fO' 'fh' 'gJ' 'gM' 'hL' 'hT' 'hh' 'hp' 'iT' 'ih' 'jS'\n",
      " 'jV' 'je' 'jp' 'kC' 'kE' 'kK' 'kL' 'kU' 'kW' 'ke' 'kr' 'kw' 'lF' 'lL'\n",
      " 'll' 'lx' 'mb' 'mc' 'mm' 'nX' 'nh' 'oC' 'oG' 'oH' 'oK' 'od' 'on' 'pa'\n",
      " 'ps' 'qA' 'qJ' 'qK' 'qP' 'qX' 'qo' 'qv' 'qw' 'rZ' 'ri' 'rp' 'sD' 'sV'\n",
      " 'sY' 'sn' 'su' 'tM' 'tP' 'tv' 'uJ' 'uS' 'ud' 'us' 'ut' 'ux' 'uy' 'vK'\n",
      " 'vq' 'vy' 'wu' 'wy' 'xP' 'xy' 'yN' 'yY' 'yc' 'zU']\n"
     ]
    },
    {
     "data": {
      "text/plain": [
       "<500000x19 sparse matrix of type '<class 'numpy.float64'>'\n",
       "\twith 1000000 stored elements in Compressed Sparse Row format>"
      ]
     },
     "execution_count": 20,
     "metadata": {},
     "output_type": "execute_result"
    }
   ],
   "source": [
    "# Binary feature\n",
    "all_data['bin_3'] = all_data['bin_3'].map({'F':0, 'T':1})\n",
    "all_data['bin_4'] = all_data['bin_4'].map({'N':0, 'Y':1})\n",
    "\n",
    "# Ordinal feature\n",
    "ord1dict = {'Novice':0, 'Contributor':1,\n",
    "            'Expert':2, 'Master':3, 'Grandmaster':4}\n",
    "ord2dict = {'Freezing':0, 'Cold':1, 'Warm':2,\n",
    "            'Hot':3, 'Boiling Hot':4, 'Lava Hot':5}\n",
    "all_data['ord_1'] = all_data['ord_1'].map(ord1dict)\n",
    "all_data['ord_2'] = all_data['ord_2'].map(ord2dict)\n",
    "\n",
    "from sklearn.preprocessing import OrdinalEncoder\n",
    "    # List to encode\n",
    "ord_345 = ['ord_3', 'ord_4', 'ord_5']\n",
    "    # Generate encoder object\n",
    "ord_encoder = OrdinalEncoder()\n",
    "    # Apply ordinal encoding\n",
    "all_data[ord_345] = ord_encoder.fit_transform(all_data[ord_345])\n",
    "    # Print encoding order by feature\n",
    "for feature, categories in zip(ord_345, ord_encoder.categories_):\n",
    "    print(feature)\n",
    "    print(categories)\n",
    "    \n",
    "# Nominal feature\n",
    "from sklearn.preprocessing import OneHotEncoder\n",
    "    # List to encode\n",
    "nom_features = ['nom_' + str(i) for i in range(10)]\n",
    "    # Generate encoder object\n",
    "onehot_encoder = OneHotEncoder()\n",
    "    # Apply one-hot encoding\n",
    "encoded_nom_matrix = onehot_encoder.fit_transform(all_data[nom_features])\n",
    "encoded_nom_matrix\n",
    "    # Remove nominal features from all_data\n",
    "all_data = all_data.drop(nom_features, axis=1)\n",
    "\n",
    "# Date feature\n",
    "    # List to encode\n",
    "date_features = ['day', 'month']\n",
    "    # Apply one-hot encoding\n",
    "encoded_date_matrix = onehot_encoder.fit_transform(all_data[date_features])\n",
    "encoded_date_matrix"
   ]
  },
  {
   "cell_type": "markdown",
   "id": "ca6abfb2",
   "metadata": {
    "papermill": {
     "duration": 0.027865,
     "end_time": "2022-04-29T12:38:37.257141",
     "exception": false,
     "start_time": "2022-04-29T12:38:37.229276",
     "status": "completed"
    },
    "tags": []
   },
   "source": [
    "#### 2-2) Feature engineering : Feature scaling"
   ]
  },
  {
   "cell_type": "code",
   "execution_count": 21,
   "id": "fcddac66",
   "metadata": {
    "execution": {
     "iopub.execute_input": "2022-04-29T12:38:37.324850Z",
     "iopub.status.busy": "2022-04-29T12:38:37.323689Z",
     "iopub.status.idle": "2022-04-29T12:38:37.410571Z",
     "shell.execute_reply": "2022-04-29T12:38:37.411036Z",
     "shell.execute_reply.started": "2022-04-26T14:18:29.614293Z"
    },
    "papermill": {
     "duration": 0.126279,
     "end_time": "2022-04-29T12:38:37.411216",
     "exception": false,
     "start_time": "2022-04-29T12:38:37.284937",
     "status": "completed"
    },
    "tags": []
   },
   "outputs": [],
   "source": [
    "# Feature scaling\n",
    "from sklearn.preprocessing import MinMaxScaler\n",
    "    # List to scale\n",
    "ord_features = ['ord_' + str(i) for i in range(6)]\n",
    "    # Just to compare before and after\n",
    "before_scaling = all_data[ord_features]\n",
    "    # Min-max normalization\n",
    "all_data[ord_features] = MinMaxScaler().fit_transform(all_data[ord_features])"
   ]
  },
  {
   "cell_type": "code",
   "execution_count": 22,
   "id": "40c14008",
   "metadata": {
    "execution": {
     "iopub.execute_input": "2022-04-29T12:38:37.467929Z",
     "iopub.status.busy": "2022-04-29T12:38:37.467014Z",
     "iopub.status.idle": "2022-04-29T12:38:38.225939Z",
     "shell.execute_reply": "2022-04-29T12:38:38.225415Z",
     "shell.execute_reply.started": "2022-04-26T14:18:29.792413Z"
    },
    "papermill": {
     "duration": 0.788185,
     "end_time": "2022-04-29T12:38:38.226095",
     "exception": false,
     "start_time": "2022-04-29T12:38:37.437910",
     "status": "completed"
    },
    "tags": []
   },
   "outputs": [],
   "source": [
    "# Merge encoded and scaled features with csr format\n",
    "from scipy import sparse\n",
    "\n",
    "all_data_sprs = sparse.hstack([sparse.csr_matrix(all_data), # Return all_data to CSR format\n",
    "                              encoded_nom_matrix,\n",
    "                              encoded_date_matrix],\n",
    "                              format='csr')\n",
    "\n",
    "# Split data into train data and test date\n",
    "num_train = len(train)\n",
    "X_train = all_data_sprs[:num_train]\n",
    "X_test = all_data_sprs[num_train:]\n",
    "y = train['target']"
   ]
  },
  {
   "cell_type": "markdown",
   "id": "58665843",
   "metadata": {
    "papermill": {
     "duration": 0.026206,
     "end_time": "2022-04-29T12:38:38.282102",
     "exception": false,
     "start_time": "2022-04-29T12:38:38.255896",
     "status": "completed"
    },
    "tags": []
   },
   "source": [
    "#### 3) Make evaluation index calculation function"
   ]
  },
  {
   "cell_type": "markdown",
   "id": "814483c5",
   "metadata": {
    "papermill": {
     "duration": 0.025994,
     "end_time": "2022-04-29T12:38:38.334808",
     "exception": false,
     "start_time": "2022-04-29T12:38:38.308814",
     "status": "completed"
    },
    "tags": []
   },
   "source": [
    "#### 4) Hyperparameter optimization (Train model)"
   ]
  },
  {
   "cell_type": "code",
   "execution_count": 23,
   "id": "f968f86b",
   "metadata": {
    "execution": {
     "iopub.execute_input": "2022-04-29T12:38:38.394091Z",
     "iopub.status.busy": "2022-04-29T12:38:38.393160Z",
     "iopub.status.idle": "2022-04-29T12:49:09.249347Z",
     "shell.execute_reply": "2022-04-29T12:49:09.249827Z",
     "shell.execute_reply.started": "2022-04-26T14:18:56.11809Z"
    },
    "papermill": {
     "duration": 630.888808,
     "end_time": "2022-04-29T12:49:09.250009",
     "exception": false,
     "start_time": "2022-04-29T12:38:38.361201",
     "status": "completed"
    },
    "tags": []
   },
   "outputs": [
    {
     "name": "stdout",
     "output_type": "stream",
     "text": [
      "best hyperparameter : {'C': 0.125, 'max_iter': 800, 'random_state': 42, 'solver': 'liblinear'}\n",
      "CPU times: user 21min 28s, sys: 19min 21s, total: 40min 49s\n",
      "Wall time: 10min 30s\n"
     ]
    }
   ],
   "source": [
    "%%time\n",
    "\n",
    "from sklearn.model_selection import GridSearchCV\n",
    "from sklearn.linear_model import LogisticRegression\n",
    "\n",
    "# Generate model\n",
    "logistic_model = LogisticRegression()\n",
    "# List of hyperparameter values (Dict type)\n",
    "lr_params = {'C':[0.1, 0.125, 0.2], 'max_iter':[800, 900, 1000],\n",
    "            'solver':['liblinear'], 'random_state':[42]}\n",
    "# Generate GridSearch object\n",
    "gridsearch_logistic_model = GridSearchCV(estimator=logistic_model,\n",
    "                                        param_grid=lr_params,\n",
    "                                        scoring='roc_auc',\n",
    "                                        cv=5)\n",
    "# Train model and GridSearch\n",
    "gridsearch_logistic_model.fit(X_train, y)\n",
    "\n",
    "print(f'best hyperparameter :', gridsearch_logistic_model.best_params_)"
   ]
  },
  {
   "cell_type": "markdown",
   "id": "55d2a4cf",
   "metadata": {
    "papermill": {
     "duration": 0.026367,
     "end_time": "2022-04-29T12:49:09.303672",
     "exception": false,
     "start_time": "2022-04-29T12:49:09.277305",
     "status": "completed"
    },
    "tags": []
   },
   "source": [
    "#### 5) Validate performance"
   ]
  },
  {
   "cell_type": "markdown",
   "id": "283f7e57",
   "metadata": {
    "papermill": {
     "duration": 0.026491,
     "end_time": "2022-04-29T12:49:09.356820",
     "exception": false,
     "start_time": "2022-04-29T12:49:09.330329",
     "status": "completed"
    },
    "tags": []
   },
   "source": [
    "#### 6) Submit"
   ]
  },
  {
   "cell_type": "code",
   "execution_count": 24,
   "id": "646a1460",
   "metadata": {
    "execution": {
     "iopub.execute_input": "2022-04-29T12:49:09.414723Z",
     "iopub.status.busy": "2022-04-29T12:49:09.413796Z",
     "iopub.status.idle": "2022-04-29T12:49:09.945803Z",
     "shell.execute_reply": "2022-04-29T12:49:09.946218Z",
     "shell.execute_reply.started": "2022-04-26T14:29:55.102355Z"
    },
    "papermill": {
     "duration": 0.562092,
     "end_time": "2022-04-29T12:49:09.946380",
     "exception": false,
     "start_time": "2022-04-29T12:49:09.384288",
     "status": "completed"
    },
    "tags": []
   },
   "outputs": [
    {
     "data": {
      "text/html": [
       "<div>\n",
       "<style scoped>\n",
       "    .dataframe tbody tr th:only-of-type {\n",
       "        vertical-align: middle;\n",
       "    }\n",
       "\n",
       "    .dataframe tbody tr th {\n",
       "        vertical-align: top;\n",
       "    }\n",
       "\n",
       "    .dataframe thead th {\n",
       "        text-align: right;\n",
       "    }\n",
       "</style>\n",
       "<table border=\"1\" class=\"dataframe\">\n",
       "  <thead>\n",
       "    <tr style=\"text-align: right;\">\n",
       "      <th></th>\n",
       "      <th>target</th>\n",
       "    </tr>\n",
       "    <tr>\n",
       "      <th>id</th>\n",
       "      <th></th>\n",
       "    </tr>\n",
       "  </thead>\n",
       "  <tbody>\n",
       "    <tr>\n",
       "      <th>300000</th>\n",
       "      <td>0.339968</td>\n",
       "    </tr>\n",
       "    <tr>\n",
       "      <th>300001</th>\n",
       "      <td>0.695769</td>\n",
       "    </tr>\n",
       "    <tr>\n",
       "      <th>300002</th>\n",
       "      <td>0.121029</td>\n",
       "    </tr>\n",
       "    <tr>\n",
       "      <th>300003</th>\n",
       "      <td>0.436690</td>\n",
       "    </tr>\n",
       "    <tr>\n",
       "      <th>300004</th>\n",
       "      <td>0.868538</td>\n",
       "    </tr>\n",
       "    <tr>\n",
       "      <th>...</th>\n",
       "      <td>...</td>\n",
       "    </tr>\n",
       "    <tr>\n",
       "      <th>499995</th>\n",
       "      <td>0.291462</td>\n",
       "    </tr>\n",
       "    <tr>\n",
       "      <th>499996</th>\n",
       "      <td>0.129374</td>\n",
       "    </tr>\n",
       "    <tr>\n",
       "      <th>499997</th>\n",
       "      <td>0.323234</td>\n",
       "    </tr>\n",
       "    <tr>\n",
       "      <th>499998</th>\n",
       "      <td>0.597045</td>\n",
       "    </tr>\n",
       "    <tr>\n",
       "      <th>499999</th>\n",
       "      <td>0.212890</td>\n",
       "    </tr>\n",
       "  </tbody>\n",
       "</table>\n",
       "<p>200000 rows × 1 columns</p>\n",
       "</div>"
      ],
      "text/plain": [
       "          target\n",
       "id              \n",
       "300000  0.339968\n",
       "300001  0.695769\n",
       "300002  0.121029\n",
       "300003  0.436690\n",
       "300004  0.868538\n",
       "...          ...\n",
       "499995  0.291462\n",
       "499996  0.129374\n",
       "499997  0.323234\n",
       "499998  0.597045\n",
       "499999  0.212890\n",
       "\n",
       "[200000 rows x 1 columns]"
      ]
     },
     "execution_count": 24,
     "metadata": {},
     "output_type": "execute_result"
    }
   ],
   "source": [
    "# Predict with test data\n",
    "y_preds = gridsearch_logistic_model.best_estimator_.predict_proba(X_test)[:, 1]\n",
    "\n",
    "# Save submission file\n",
    "submission['target'] = y_preds\n",
    "submission.to_csv('submission.csv')\n",
    "submission"
   ]
  },
  {
   "cell_type": "markdown",
   "id": "cddb41bb",
   "metadata": {
    "papermill": {
     "duration": 0.026724,
     "end_time": "2022-04-29T12:49:10.000302",
     "exception": false,
     "start_time": "2022-04-29T12:49:09.973578",
     "status": "completed"
    },
    "tags": []
   },
   "source": [
    "References\n",
    "===\n",
    "- [EDA reference](https://www.kaggle.com/kabure/eda-feat-engineering-encode-conquer)\n",
    "- [Modeling reference](https://www.kaggle.com/dkomyagin/cat-in-the-dat-0-80285-private-lb-solution)\n",
    "- 머신러닝.딥러닝 문제해결 전략(신백균)"
   ]
  }
 ],
 "metadata": {
  "kernelspec": {
   "display_name": "Python 3",
   "language": "python",
   "name": "python3"
  },
  "language_info": {
   "codemirror_mode": {
    "name": "ipython",
    "version": 3
   },
   "file_extension": ".py",
   "mimetype": "text/x-python",
   "name": "python",
   "nbconvert_exporter": "python",
   "pygments_lexer": "ipython3",
   "version": "3.7.10"
  },
  "papermill": {
   "default_parameters": {},
   "duration": 1236.646564,
   "end_time": "2022-04-29T12:49:10.636517",
   "environment_variables": {},
   "exception": null,
   "input_path": "__notebook__.ipynb",
   "output_path": "__notebook__.ipynb",
   "parameters": {},
   "start_time": "2022-04-29T12:28:33.989953",
   "version": "2.3.3"
  }
 },
 "nbformat": 4,
 "nbformat_minor": 5
}
