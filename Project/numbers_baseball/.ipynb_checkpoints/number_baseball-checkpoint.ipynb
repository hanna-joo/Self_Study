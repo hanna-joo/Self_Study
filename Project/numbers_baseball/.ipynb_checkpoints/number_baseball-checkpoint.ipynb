{
 "cells": [
  {
   "cell_type": "markdown",
   "id": "0ab5675d",
   "metadata": {},
   "source": [
    "# Number Baseball Game\n",
    "#### 게임 규칙\n",
    "- 컴퓨터는 0과 9 사이의 서로 다른 숫자 3개를 무작위로 뽑습니다. 예를 들어서 컴퓨터가 5, 2, 3을 뽑을 수도 있고 6, 7, 4를 뽑을 수도 있는 거죠.\n",
    "- 사용자는 컴퓨터가 뽑은 숫자의 값과 위치를 맞추어야 합니다.\n",
    "- 컴퓨터는 사용자가 입력한 숫자 3개에 대해서, 아래의 규칙대로 스트라이크(S)와 볼(B)의 개수를 알려줍니다.\n",
    "    1. 숫자의 값과 위치가 모두 일치하면 S입니다.\n",
    "    2. 숫자의 값은 일치하지만 위치가 틀렸으면 B입니다.\n",
    "    3. 예를 들어 컴퓨터가 1, 2, 3을 뽑았다고 가정합시다. 사용자가 1, 3, 5를 입력하면, 1S(1의 값과 위치가 일치) 1B(3의 값만 일치)입니다.\n",
    "- 기회는 무제한이지만 몇 번의 시도 끝에 맞췄는지 기록합니다.\n",
    "- 3S(숫자 3개의 값과 위치를 모두 맞춘 경우)가 나오면 게임 종료합니다.\n",
    "\n",
    "#### 진행 방식\n",
    "1. \"0과 9 사이의 서로 다른 숫자 3개를 랜덤한 순서로 뽑았습니다.\"가 출력됩니다.\n",
    "2. \"숫자 3개를 하나씩 차례대로 입력하세요.\"가 출력됩니다.\n",
    "3. \"1번째 숫자를 입력하세요: \"가 출력되고, 사용자로부터 입력을 받습니다.  \n",
    "    마찬가지로 \"2번째 숫자를 입력하세요: \"와 \"3번째 숫자를 입력하세요: \"가 출력되고, 사용자로부터 각각 입력을 받습니다.  \n",
    "    만약 사용자가 중복되는 숫자를 입력하거나 범위에서 벗어나는 숫자를 입력하면, 사용자로부터 입력을 다시 받습니다.\n",
    "4. 사용자가 올바르게 숫자 3개를 입력하면, 규칙에 따라 \"*S *B\"가 출력됩니다.\n",
    "5. 3S가 아닌 경우, 2번부터 다시 진행합니다.\n",
    "6. 사용자가 3S를 달성하면, \"축하합니다. *번 만에 숫자 3개의 값과 위치를 모두 맞추셨습니다.\"가 출력됩니다. 그리고 게임은 종료됩니다."
   ]
  },
  {
   "cell_type": "markdown",
   "id": "d175e497",
   "metadata": {},
   "source": [
    "## 1. 번호 생성 (Generate numbers)\n",
    "- 무작위로 0과 9 사이의 서로 다른 번호 n개를 뽑는다.\n",
    "- 그 번호들이 담긴 리스트를 리턴한다."
   ]
  },
  {
   "cell_type": "code",
   "execution_count": 1,
   "id": "11034dac",
   "metadata": {},
   "outputs": [],
   "source": [
    "from random import randint\n",
    "\n",
    "def generate_numbers():\n",
    "    numbers = []\n",
    "    \n",
    "    while len(numbers) < 3:\n",
    "        new_number = randint(0, 9)\n",
    "        if new_number not in numbers:\n",
    "            numbers.append(new_number)\n",
    "\n",
    "    print(\"0과 9 사이의 서로 다른 숫자 3개를 랜덤한 순서로 뽑았습니다.\\n\")\n",
    "    return numbers"
   ]
  },
  {
   "cell_type": "code",
   "execution_count": 2,
   "id": "8426896a",
   "metadata": {},
   "outputs": [
    {
     "name": "stdout",
     "output_type": "stream",
     "text": [
      "0과 9 사이의 서로 다른 숫자 3개를 랜덤한 순서로 뽑았습니다.\n",
      "\n",
      "[1, 8, 4]\n"
     ]
    }
   ],
   "source": [
    "# 함수 테스트\n",
    "print(generate_numbers())"
   ]
  },
  {
   "cell_type": "markdown",
   "id": "8464105d",
   "metadata": {},
   "source": [
    "## 2. 숫자 예측하기 (Take guess)\n",
    "- 유저에게 숫자 3개를 반복적으로 입력받는다.\n",
    "- 중복되는 숫자나 범위를 벗어나는 숫자는 다시 입력을 요구한다.\n",
    "- 정상적으로 입력받은 숫자들을 리스트에 정리해서 리턴한다."
   ]
  },
  {
   "cell_type": "code",
   "execution_count": 3,
   "id": "5dda375f",
   "metadata": {},
   "outputs": [],
   "source": [
    "def take_guess():\n",
    "    print(\"숫자 3개를 하나씩 차례대로 입력하세요.\")\n",
    "    new_guess = []\n",
    "    \n",
    "    while len(new_guess) < 3:\n",
    "        input_number = int(input(\"{}번째 숫자를 입력하세요: \".format(len(new_guess) + 1)))\n",
    "        if input_number < 0 or input_number > 9:\n",
    "            print(\"범위를 벗어나는 숫자입니다. 다시 입력하세요.\")\n",
    "        elif input_number in new_guess:\n",
    "            print(\"중복되는 숫자입니다. 다시 입력하세요.\")\n",
    "        else:\n",
    "            new_guess.append(input_number)\n",
    "\n",
    "    return new_guess"
   ]
  },
  {
   "cell_type": "code",
   "execution_count": 4,
   "id": "ba0276a6",
   "metadata": {},
   "outputs": [
    {
     "name": "stdout",
     "output_type": "stream",
     "text": [
      "숫자 3개를 하나씩 차례대로 입력하세요.\n",
      "1번째 숫자를 입력하세요: 1\n",
      "2번째 숫자를 입력하세요: 2\n",
      "3번째 숫자를 입력하세요: 10\n",
      "범위를 벗어나는 숫자입니다. 다시 입력하세요.\n",
      "3번째 숫자를 입력하세요: 2\n",
      "중복되는 숫자입니다. 다시 입력하세요.\n",
      "3번째 숫자를 입력하세요: 3\n",
      "[1, 2, 3]\n"
     ]
    }
   ],
   "source": [
    "# 함수 테스트\n",
    "print(take_guess())"
   ]
  },
  {
   "cell_type": "markdown",
   "id": "e627d2c9",
   "metadata": {},
   "source": [
    "## 3. 점수 계산하기 (Get score)\n",
    "- 파라미터 2개를 받는다.\n",
    "    + guesses : 유저가 뽑은 번호 3개가 담긴 리스트\n",
    "    + solution : 컴퓨터가 뽑은 정답 번호 3개가 담긴 리스트\n",
    "- 두 리스트를 비교해서 스트라이크 수와 볼 수를 계산한다.\n",
    "    + 1S : 1의 값과 위치가 일치\n",
    "    + 1B : 3의 값만 일치\n",
    "- 두 값을 리턴한다."
   ]
  },
  {
   "cell_type": "code",
   "execution_count": 5,
   "id": "e0e7891e",
   "metadata": {},
   "outputs": [],
   "source": [
    "def get_score(guesses, solution):\n",
    "    strike_count = 0\n",
    "    ball_count = 0\n",
    "\n",
    "    for i in range(len(guesses)):\n",
    "        if guesses[i] == solution[i]:\n",
    "            strike_count += 1\n",
    "        elif guesses[i] in solution:\n",
    "            ball_count += 1\n",
    "\n",
    "    return strike_count, ball_count"
   ]
  },
  {
   "cell_type": "code",
   "execution_count": 6,
   "id": "684325db",
   "metadata": {},
   "outputs": [
    {
     "name": "stdout",
     "output_type": "stream",
     "text": [
      "1 2\n",
      "0 3\n",
      "2 0\n",
      "3 0\n"
     ]
    }
   ],
   "source": [
    "# 함수 테스트\n",
    "s_1, b_1 = get_score([2, 7, 4], [2, 4, 7])\n",
    "print(s_1, b_1)\n",
    "\n",
    "s_2, b_2 = get_score([7, 2, 4], [2, 4, 7])\n",
    "print(s_2, b_2)\n",
    "\n",
    "s_3, b_3 = get_score([0, 4, 7], [2, 4, 7])\n",
    "print(s_3, b_3)\n",
    "\n",
    "s_4, b_4 = get_score([2, 4, 7], [2, 4, 7])\n",
    "print(s_4, b_4)"
   ]
  },
  {
   "cell_type": "markdown",
   "id": "03e0e2cd",
   "metadata": {},
   "source": [
    "## 4. 숫자 야구 최종본 (Final draft)\n",
    "- generate_numbers( ) : 무작위로 정답 번호 3개 뽑는 함수\n",
    "- take_guess( ) : 유저에게 번호 3개를 입력받는 함수\n",
    "- get_score(guesses, solution) : 유저 번호 3개와 정답 번호 3개를 비교해서, 스트라이크와 볼 수를 계산하는 함수\n",
    "- 시나리오  \n",
    "    1. 필요한 변수(정답리스트)와 상수(스트라이크와 볼 수/시도 횟수)를 정의  \n",
    "    2. 반복적으로 유저의 번호 입력 받음  \n",
    "    3. 번호 입력을 받을 때마다 스트라이크와 볼 수 계산해서 안내 메시지 출력  \n",
    "    4. 번호 입력을 받을 때마다 시도 횟수 추가  \n",
    "    5. 스트라이크 3개가 나올 경우 게임종료  \n",
    "    6. 몇 번만에 맞추었는지 축하 메시지 출력  "
   ]
  },
  {
   "cell_type": "code",
   "execution_count": 7,
   "id": "18b833c9",
   "metadata": {},
   "outputs": [
    {
     "name": "stdout",
     "output_type": "stream",
     "text": [
      "0과 9 사이의 서로 다른 숫자 3개를 랜덤한 순서로 뽑았습니다.\n",
      "\n",
      "숫자 3개를 하나씩 차례대로 입력하세요.\n",
      "1번째 숫자를 입력하세요: 1\n",
      "2번째 숫자를 입력하세요: 2\n",
      "3번째 숫자를 입력하세요: 3\n",
      "0S 2B\n",
      "\n",
      "숫자 3개를 하나씩 차례대로 입력하세요.\n",
      "1번째 숫자를 입력하세요: 3\n",
      "2번째 숫자를 입력하세요: 3\n",
      "중복되는 숫자입니다. 다시 입력하세요.\n",
      "2번째 숫자를 입력하세요: 1\n",
      "3번째 숫자를 입력하세요: 2\n",
      "2S 0B\n",
      "\n",
      "숫자 3개를 하나씩 차례대로 입력하세요.\n",
      "1번째 숫자를 입력하세요: 3\n",
      "2번째 숫자를 입력하세요: 33\n",
      "범위를 벗어나는 숫자입니다. 다시 입력하세요.\n",
      "2번째 숫자를 입력하세요: 1\n",
      "3번째 숫자를 입력하세요: 4\n",
      "1S 0B\n",
      "\n",
      "숫자 3개를 하나씩 차례대로 입력하세요.\n",
      "1번째 숫자를 입력하세요: 3\n",
      "2번째 숫자를 입력하세요: 5\n",
      "3번째 숫자를 입력하세요: 2\n",
      "1S 0B\n",
      "\n",
      "숫자 3개를 하나씩 차례대로 입력하세요.\n",
      "1번째 숫자를 입력하세요: 6\n",
      "2번째 숫자를 입력하세요: 2\n",
      "3번째 숫자를 입력하세요: 2\n",
      "중복되는 숫자입니다. 다시 입력하세요.\n",
      "3번째 숫자를 입력하세요: 1\n",
      "0S 2B\n",
      "\n",
      "숫자 3개를 하나씩 차례대로 입력하세요.\n",
      "1번째 숫자를 입력하세요: 7\n",
      "2번째 숫자를 입력하세요: 1\n",
      "3번째 숫자를 입력하세요: 2\n",
      "3S 0B\n",
      "\n",
      "축하합니다. 6번 만에 숫자 3개의 값과 위치를 모두 맞추셨습니다.\n"
     ]
    }
   ],
   "source": [
    "from random import randint\n",
    "\n",
    "# 게임 구현에 필요한 함수\n",
    "def generate_numbers():\n",
    "    numbers = []\n",
    "    \n",
    "    while len(numbers) < 3:\n",
    "        new_number = randint(0, 9)\n",
    "        if new_number not in numbers:\n",
    "            numbers.append(new_number)\n",
    "\n",
    "    print(\"0과 9 사이의 서로 다른 숫자 3개를 랜덤한 순서로 뽑았습니다.\\n\")\n",
    "    return numbers\n",
    "\n",
    "def take_guess():\n",
    "    print(\"숫자 3개를 하나씩 차례대로 입력하세요.\")\n",
    "    new_guess = []\n",
    "    \n",
    "    while len(new_guess) < 3:\n",
    "        input_number = int(input(\"{}번째 숫자를 입력하세요: \".format(len(new_guess) + 1)))\n",
    "        if input_number < 0 or input_number > 9:\n",
    "            print(\"범위를 벗어나는 숫자입니다. 다시 입력하세요.\")\n",
    "        elif input_number in new_guess:\n",
    "            print(\"중복되는 숫자입니다. 다시 입력하세요.\")\n",
    "        else:\n",
    "            new_guess.append(input_number)\n",
    "            \n",
    "    return new_guess\n",
    "\n",
    "\n",
    "def get_score(guesses, solution):\n",
    "    strike_count = 0\n",
    "    ball_count = 0\n",
    "\n",
    "    for i in range(len(guesses)):\n",
    "        if guesses[i] == solution[i]:\n",
    "            strike_count += 1\n",
    "        elif guesses[i] in solution:\n",
    "            ball_count += 1\n",
    "            \n",
    "    return strike_count, ball_count\n",
    "\n",
    "# 게임 구현\n",
    "ANSWER = generate_numbers()\n",
    "\n",
    "tries = 0\n",
    "s_c, b_c = 0, 0\n",
    "\n",
    "while s_c != 3 and b_c != 3:\n",
    "    \n",
    "    guesses = take_guess()\n",
    "    s_c, b_c = get_score(guesses, ANSWER)\n",
    "    print(\"{}S {}B\\n\".format(s_c, b_c))\n",
    "    \n",
    "    tries += 1\n",
    "    \n",
    "print(\"축하합니다. {}번 만에 숫자 3개의 값과 위치를 모두 맞추셨습니다.\".format(tries))"
   ]
  }
 ],
 "metadata": {
  "kernelspec": {
   "display_name": "Python 3 (ipykernel)",
   "language": "python",
   "name": "python3"
  },
  "language_info": {
   "codemirror_mode": {
    "name": "ipython",
    "version": 3
   },
   "file_extension": ".py",
   "mimetype": "text/x-python",
   "name": "python",
   "nbconvert_exporter": "python",
   "pygments_lexer": "ipython3",
   "version": "3.8.12"
  }
 },
 "nbformat": 4,
 "nbformat_minor": 5
}
