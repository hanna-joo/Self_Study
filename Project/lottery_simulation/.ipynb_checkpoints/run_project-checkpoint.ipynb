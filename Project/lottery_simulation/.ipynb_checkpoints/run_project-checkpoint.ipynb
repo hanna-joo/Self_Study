{
 "cells": [
  {
   "cell_type": "code",
   "execution_count": 1,
   "id": "2bf306a3",
   "metadata": {},
   "outputs": [],
   "source": [
    "# lottery 모듈 확장자 py로 변경\n",
    "# ! ipynb-py-convert lottery.ipynb lottery.py"
   ]
  },
  {
   "cell_type": "code",
   "execution_count": 2,
   "id": "13881fa6",
   "metadata": {},
   "outputs": [
    {
     "name": "stdout",
     "output_type": "stream",
     "text": [
      "[1, 26, 6, 35, 41, 33]\r\n",
      "[31, 28, 34]\r\n",
      "[2, 7, 14, 28, 38, 43, 12]\r\n",
      "1\r\n",
      "1000000\r\n",
      "50000000\r\n"
     ]
    }
   ],
   "source": [
    "# 확장자 py 파일 실행하기\n",
    "! python lottery_driver.py"
   ]
  }
 ],
 "metadata": {
  "kernelspec": {
   "display_name": "Python 3 (ipykernel)",
   "language": "python",
   "name": "python3"
  },
  "language_info": {
   "codemirror_mode": {
    "name": "ipython",
    "version": 3
   },
   "file_extension": ".py",
   "mimetype": "text/x-python",
   "name": "python",
   "nbconvert_exporter": "python",
   "pygments_lexer": "ipython3",
   "version": "3.8.12"
  }
 },
 "nbformat": 4,
 "nbformat_minor": 5
}
