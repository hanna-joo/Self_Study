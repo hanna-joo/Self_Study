{
 "cells": [
  {
   "cell_type": "markdown",
   "id": "0ab5675d",
   "metadata": {},
   "source": [
    "# Lottery Simulation Program\n",
    "#### 로또는 주 1회씩 열립니다. 하지만 한 사람이 한 회차에 여러 번 참여할 수도 있습니다.  \n",
    "#### 번호는 1부터 45까지 있는데요. 주최측에서는 매주 6개의 '일반 당첨 번호'와 1개의 '보너스 번호'를 뽑습니다. \n",
    "#### 그리고 참가자는 1번 참여할 때마다 서로 다른 번호 6개를 선택합니다.\n",
    "#### 당첨 액수는 아래 규칙에 따라 결정됩니다.\n",
    "1. 내가 뽑은 번호 6개와 일반 당첨 번호 6개 모두 일치 (10억 원)\n",
    "2. 내가 뽑은 번호 5개와 일반 당첨 번호 5개 일치, 그리고 내 번호 1개와 보너스 번호 일치 (5천만 원)\n",
    "3. 내가 뽑은 번호 5개와 일반 당첨 번호 5개 일치 (100만 원)\n",
    "4. 내가 뽑은 번호 4개와 일반 당첨 번호 4개 일치 (5만 원)\n",
    "5. 내가 뽑은 번호 3개와 일반 당첨 번호 3개 일치 (5천 원)"
   ]
  },
  {
   "cell_type": "markdown",
   "id": "d175e497",
   "metadata": {},
   "source": [
    "## 1. 번호 생성하기 (Generate numbers)\n",
    "- 파라미터로 정수 n을 받는다.\n",
    "- 무작위로 1과 45 사이의 서로 다른 번호 n개를 뽑는다.\n",
    "- 그 번호들이 담긴 리스트를 리턴한다."
   ]
  },
  {
   "cell_type": "code",
   "execution_count": 7,
   "id": "11034dac",
   "metadata": {},
   "outputs": [],
   "source": [
    "from random import randint\n",
    "\n",
    "def generate_numbers(n):\n",
    "    numbers = []\n",
    "    while len(numbers) < n:\n",
    "        num = randint(1, 45)\n",
    "        if num not in numbers:\n",
    "            numbers.append(num)\n",
    "    return numbers"
   ]
  },
  {
   "cell_type": "code",
   "execution_count": 8,
   "id": "8426896a",
   "metadata": {},
   "outputs": [
    {
     "name": "stdout",
     "output_type": "stream",
     "text": [
      "[36, 41, 33, 12, 25, 24]\n",
      "[39, 16, 34]\n"
     ]
    }
   ],
   "source": [
    "# 함수 테스트\n",
    "print(generate_numbers(6))\n",
    "print(generate_numbers(3))"
   ]
  },
  {
   "cell_type": "markdown",
   "id": "8464105d",
   "metadata": {},
   "source": [
    "## 2. 당첨 번호 뽑기 (Draw winning numbers)\n",
    "- 일반 당첨 번호 6개와 보너스 번호 1개가 포함된 리스트를 생성한다.\n",
    "- 일반 당첨 번호 6개는 정렬되어 있고, 보너스 번호는 마지막에 추가한다.\n",
    "- 그 번호들이 담긴 리스트를 리턴한다."
   ]
  },
  {
   "cell_type": "code",
   "execution_count": 9,
   "id": "5dda375f",
   "metadata": {},
   "outputs": [],
   "source": [
    "def draw_winning_numbers():\n",
    "    winning_numbers = generate_numbers(7)\n",
    "    return sorted(winning_numbers[:6]) + winning_numbers[6:]"
   ]
  },
  {
   "cell_type": "code",
   "execution_count": 10,
   "id": "ba0276a6",
   "metadata": {},
   "outputs": [
    {
     "name": "stdout",
     "output_type": "stream",
     "text": [
      "[6, 7, 19, 22, 35, 44, 26]\n"
     ]
    }
   ],
   "source": [
    "# 함수 테스트\n",
    "print(draw_winning_numbers())"
   ]
  },
  {
   "cell_type": "markdown",
   "id": "e627d2c9",
   "metadata": {},
   "source": [
    "## 3. 겹치는 번호 개수 세기 (Count matching numbers)\n",
    "- 리스트 2개를 파라미터로 받는다. (각 리스트 길이 상관 없음)\n",
    "- 두 리스트 사이에 겹치는 번호 개수를 센다.\n",
    "- 번호 개수를 리턴한다."
   ]
  },
  {
   "cell_type": "code",
   "execution_count": 11,
   "id": "e0e7891e",
   "metadata": {},
   "outputs": [],
   "source": [
    "def count_matching_numbers(numbers, winning_numbers):\n",
    "    # 지난 과제의 코드를 붙여 넣으세요.\n",
    "    count = 0\n",
    "    for num in numbers:\n",
    "        if num in winning_numbers:\n",
    "            count += 1\n",
    "    return count"
   ]
  },
  {
   "cell_type": "code",
   "execution_count": 15,
   "id": "684325db",
   "metadata": {},
   "outputs": [
    {
     "name": "stdout",
     "output_type": "stream",
     "text": [
      "1\n"
     ]
    }
   ],
   "source": [
    "# 함수 테스트\n",
    "print(count_matching_numbers([2, 7, 11, 14, 25, 40], [14]))"
   ]
  },
  {
   "cell_type": "markdown",
   "id": "03e0e2cd",
   "metadata": {},
   "source": [
    "## 4. 당첨금 조회하기 (Check winnings)\n",
    "- 파라미터로 참가자가 뽑은 번호 리스트(numbers)와 주최측에서 뽑은 번호 리스트(winning_numbers)를 받는다.\n",
    "- 당첨 액수 규칙은 아래와 같으며 참가자의 당첨 금액을 리턴한다.\n",
    "    + 내가 뽑은 번호 6개와 일반 당첨 번호 6개 모두 일치 (10억 원)\n",
    "    + 내가 뽑은 번호 5개와 일반 당첨 번호 5개 일치, 그리고 내 번호 1개와 보너스 번호 일치 (5천만 원)\n",
    "    + 내가 뽑은 번호 5개와 일반 당첨 번호 5개 일치 (100만 원)\n",
    "    + 내가 뽑은 번호 4개와 일반 당첨 번호 4개 일치 (5만 원)\n",
    "    + 내가 뽑은 번호 3개와 일반 당첨 번호 3개 일치 (5천 원)"
   ]
  },
  {
   "cell_type": "code",
   "execution_count": 12,
   "id": "18b833c9",
   "metadata": {},
   "outputs": [],
   "source": [
    "def check(numbers, winning_numbers):\n",
    "    count = count_matching_numbers(numbers, winning_numbers[:6])\n",
    "    bonus_count = count_matching_numbers(numbers, winning_numbers[6:])\n",
    "    \n",
    "    if count == 6:\n",
    "        return 1000000000\n",
    "    elif count == 5 and bonus_count == 1:\n",
    "        return 50000000\n",
    "    elif count == 5:\n",
    "        return 1000000\n",
    "    elif count == 4:\n",
    "        return 50000\n",
    "    elif count == 3:\n",
    "        return 5000\n",
    "    else:\n",
    "        return 0"
   ]
  },
  {
   "cell_type": "code",
   "execution_count": 13,
   "id": "803ed901",
   "metadata": {},
   "outputs": [
    {
     "name": "stdout",
     "output_type": "stream",
     "text": [
      "1000000\n",
      "50000000\n"
     ]
    }
   ],
   "source": [
    "print(check([2, 4, 11, 14, 25, 40], [2, 4, 11, 14, 40, 41, 6]))\n",
    "print(check([2, 4, 11, 14, 25, 40], [2, 4, 10, 11, 14, 40, 25]))"
   ]
  }
 ],
 "metadata": {
  "kernelspec": {
   "display_name": "Python 3 (ipykernel)",
   "language": "python",
   "name": "python3"
  },
  "language_info": {
   "codemirror_mode": {
    "name": "ipython",
    "version": 3
   },
   "file_extension": ".py",
   "mimetype": "text/x-python",
   "name": "python",
   "nbconvert_exporter": "python",
   "pygments_lexer": "ipython3",
   "version": "3.8.12"
  }
 },
 "nbformat": 4,
 "nbformat_minor": 5
}
