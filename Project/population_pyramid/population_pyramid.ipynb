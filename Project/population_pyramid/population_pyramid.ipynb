{
 "cells": [
  {
   "cell_type": "markdown",
   "id": "062ca530",
   "metadata": {},
   "source": [
    "# 1. 인구 피라미드\n",
    "- 2011년 08월 연령별 인구현황\n",
    "- 2021년 08월 연령별 인구현황\n",
    "- [데이터 출처](https://jumin.mois.go.kr/ageStatMonth.do)"
   ]
  },
  {
   "cell_type": "markdown",
   "id": "169b3e99",
   "metadata": {},
   "source": [
    "## 남자 데이터 정의"
   ]
  },
  {
   "cell_type": "code",
   "execution_count": 1,
   "id": "04300619",
   "metadata": {},
   "outputs": [
    {
     "name": "stderr",
     "output_type": "stream",
     "text": [
      "/Users/hnjoo/opt/anaconda3/envs/edu_py38/lib/python3.8/site-packages/openpyxl/styles/stylesheet.py:226: UserWarning: Workbook contains no default style, apply openpyxl's default\n",
      "  warn(\"Workbook contains no default style, apply openpyxl's default\")\n"
     ]
    },
    {
     "data": {
      "text/html": [
       "<div>\n",
       "<style scoped>\n",
       "    .dataframe tbody tr th:only-of-type {\n",
       "        vertical-align: middle;\n",
       "    }\n",
       "\n",
       "    .dataframe tbody tr th {\n",
       "        vertical-align: top;\n",
       "    }\n",
       "\n",
       "    .dataframe thead th {\n",
       "        text-align: right;\n",
       "    }\n",
       "</style>\n",
       "<table border=\"1\" class=\"dataframe\">\n",
       "  <thead>\n",
       "    <tr style=\"text-align: right;\">\n",
       "      <th></th>\n",
       "      <th>0~4세</th>\n",
       "      <th>5~9세</th>\n",
       "      <th>10~14세</th>\n",
       "      <th>15~19세</th>\n",
       "      <th>20~24세</th>\n",
       "      <th>25~29세</th>\n",
       "      <th>30~34세</th>\n",
       "      <th>35~39세</th>\n",
       "      <th>40~44세</th>\n",
       "      <th>45~49세</th>\n",
       "      <th>...</th>\n",
       "      <th>55~59세</th>\n",
       "      <th>60~64세</th>\n",
       "      <th>65~69세</th>\n",
       "      <th>70~74세</th>\n",
       "      <th>75~79세</th>\n",
       "      <th>80~84세</th>\n",
       "      <th>85~89세</th>\n",
       "      <th>90~94세</th>\n",
       "      <th>95~99세</th>\n",
       "      <th>100세 이상</th>\n",
       "    </tr>\n",
       "    <tr>\n",
       "      <th>행정기관</th>\n",
       "      <th></th>\n",
       "      <th></th>\n",
       "      <th></th>\n",
       "      <th></th>\n",
       "      <th></th>\n",
       "      <th></th>\n",
       "      <th></th>\n",
       "      <th></th>\n",
       "      <th></th>\n",
       "      <th></th>\n",
       "      <th></th>\n",
       "      <th></th>\n",
       "      <th></th>\n",
       "      <th></th>\n",
       "      <th></th>\n",
       "      <th></th>\n",
       "      <th></th>\n",
       "      <th></th>\n",
       "      <th></th>\n",
       "      <th></th>\n",
       "      <th></th>\n",
       "    </tr>\n",
       "  </thead>\n",
       "  <tbody>\n",
       "    <tr>\n",
       "      <th>전국</th>\n",
       "      <td>1,195,951</td>\n",
       "      <td>1,233,465</td>\n",
       "      <td>1,663,534</td>\n",
       "      <td>1,890,498</td>\n",
       "      <td>1,667,705</td>\n",
       "      <td>1,844,651</td>\n",
       "      <td>2,048,038</td>\n",
       "      <td>2,178,901</td>\n",
       "      <td>2,335,456</td>\n",
       "      <td>2,165,327</td>\n",
       "      <td>...</td>\n",
       "      <td>1,556,649</td>\n",
       "      <td>1,129,517</td>\n",
       "      <td>883,074</td>\n",
       "      <td>701,439</td>\n",
       "      <td>419,877</td>\n",
       "      <td>186,554</td>\n",
       "      <td>75,904</td>\n",
       "      <td>22,020</td>\n",
       "      <td>4,651</td>\n",
       "      <td>2,607</td>\n",
       "    </tr>\n",
       "    <tr>\n",
       "      <th>서울특별시</th>\n",
       "      <td>217,685</td>\n",
       "      <td>215,881</td>\n",
       "      <td>290,064</td>\n",
       "      <td>349,753</td>\n",
       "      <td>335,868</td>\n",
       "      <td>435,347</td>\n",
       "      <td>474,347</td>\n",
       "      <td>461,401</td>\n",
       "      <td>459,759</td>\n",
       "      <td>413,538</td>\n",
       "      <td>...</td>\n",
       "      <td>326,028</td>\n",
       "      <td>241,501</td>\n",
       "      <td>190,131</td>\n",
       "      <td>134,312</td>\n",
       "      <td>70,398</td>\n",
       "      <td>30,893</td>\n",
       "      <td>13,028</td>\n",
       "      <td>4,530</td>\n",
       "      <td>1,163</td>\n",
       "      <td>884</td>\n",
       "    </tr>\n",
       "    <tr>\n",
       "      <th>부산광역시</th>\n",
       "      <td>67,247</td>\n",
       "      <td>70,521</td>\n",
       "      <td>103,201</td>\n",
       "      <td>130,774</td>\n",
       "      <td>122,276</td>\n",
       "      <td>130,924</td>\n",
       "      <td>137,943</td>\n",
       "      <td>136,378</td>\n",
       "      <td>148,501</td>\n",
       "      <td>146,523</td>\n",
       "      <td>...</td>\n",
       "      <td>134,265</td>\n",
       "      <td>99,030</td>\n",
       "      <td>73,472</td>\n",
       "      <td>53,357</td>\n",
       "      <td>28,437</td>\n",
       "      <td>11,595</td>\n",
       "      <td>4,193</td>\n",
       "      <td>1,083</td>\n",
       "      <td>253</td>\n",
       "      <td>223</td>\n",
       "    </tr>\n",
       "  </tbody>\n",
       "</table>\n",
       "<p>3 rows × 21 columns</p>\n",
       "</div>"
      ],
      "text/plain": [
       "              0~4세       5~9세     10~14세     15~19세     20~24세     25~29세  \\\n",
       "행정기관                                                                        \n",
       "전국       1,195,951  1,233,465  1,663,534  1,890,498  1,667,705  1,844,651   \n",
       "서울특별시      217,685    215,881    290,064    349,753    335,868    435,347   \n",
       "부산광역시       67,247     70,521    103,201    130,774    122,276    130,924   \n",
       "\n",
       "            30~34세     35~39세     40~44세     45~49세  ...     55~59세  \\\n",
       "행정기관                                                 ...              \n",
       "전국       2,048,038  2,178,901  2,335,456  2,165,327  ...  1,556,649   \n",
       "서울특별시      474,347    461,401    459,759    413,538  ...    326,028   \n",
       "부산광역시      137,943    136,378    148,501    146,523  ...    134,265   \n",
       "\n",
       "            60~64세   65~69세   70~74세   75~79세   80~84세  85~89세  90~94세 95~99세  \\\n",
       "행정기관                                                                            \n",
       "전국       1,129,517  883,074  701,439  419,877  186,554  75,904  22,020  4,651   \n",
       "서울특별시      241,501  190,131  134,312   70,398   30,893  13,028   4,530  1,163   \n",
       "부산광역시       99,030   73,472   53,357   28,437   11,595   4,193   1,083    253   \n",
       "\n",
       "        100세 이상  \n",
       "행정기관             \n",
       "전국        2,607  \n",
       "서울특별시       884  \n",
       "부산광역시       223  \n",
       "\n",
       "[3 rows x 21 columns]"
      ]
     },
     "execution_count": 1,
     "metadata": {},
     "output_type": "execute_result"
    }
   ],
   "source": [
    "import pandas as pd\n",
    "file_name = '202108_202108_연령별인구현황_월간.xlsx'\n",
    "df_m = pd.read_excel(file_name, skiprows=3, index_col='행정기관', usecols='B, E:Y')\n",
    "df_m.head(3)"
   ]
  },
  {
   "cell_type": "code",
   "execution_count": 2,
   "id": "853a94e6",
   "metadata": {},
   "outputs": [
    {
     "data": {
      "text/plain": [
       "0~4세       1195951\n",
       "5~9세       1233465\n",
       "10~14세     1663534\n",
       "15~19세     1890498\n",
       "20~24세     1667705\n",
       "25~29세     1844651\n",
       "30~34세     2048038\n",
       "35~39세     2178901\n",
       "40~44세     2335456\n",
       "45~49세     2165327\n",
       "50~54세     2169808\n",
       "55~59세     1556649\n",
       "60~64세     1129517\n",
       "65~69세      883074\n",
       "70~74세      701439\n",
       "75~79세      419877\n",
       "80~84세      186554\n",
       "85~89세       75904\n",
       "90~94세       22020\n",
       "95~99세        4651\n",
       "100세 이상       2607\n",
       "Name: 전국  , dtype: object"
      ]
     },
     "execution_count": 2,
     "metadata": {},
     "output_type": "execute_result"
    }
   ],
   "source": [
    "df_m.iloc[0] = df_m.iloc[0].str.replace(',','').astype(int) # 1,195,951 -> 1195951 (정수형)\n",
    "df_m.iloc[0]"
   ]
  },
  {
   "cell_type": "markdown",
   "id": "06b74717",
   "metadata": {},
   "source": [
    "## 여자 데이터 정의"
   ]
  },
  {
   "cell_type": "code",
   "execution_count": 3,
   "id": "3670300c",
   "metadata": {},
   "outputs": [
    {
     "name": "stderr",
     "output_type": "stream",
     "text": [
      "/Users/hnjoo/opt/anaconda3/envs/edu_py38/lib/python3.8/site-packages/openpyxl/styles/stylesheet.py:226: UserWarning: Workbook contains no default style, apply openpyxl's default\n",
      "  warn(\"Workbook contains no default style, apply openpyxl's default\")\n"
     ]
    },
    {
     "data": {
      "text/html": [
       "<div>\n",
       "<style scoped>\n",
       "    .dataframe tbody tr th:only-of-type {\n",
       "        vertical-align: middle;\n",
       "    }\n",
       "\n",
       "    .dataframe tbody tr th {\n",
       "        vertical-align: top;\n",
       "    }\n",
       "\n",
       "    .dataframe thead th {\n",
       "        text-align: right;\n",
       "    }\n",
       "</style>\n",
       "<table border=\"1\" class=\"dataframe\">\n",
       "  <thead>\n",
       "    <tr style=\"text-align: right;\">\n",
       "      <th></th>\n",
       "      <th>0~4세.1</th>\n",
       "      <th>5~9세.1</th>\n",
       "      <th>10~14세.1</th>\n",
       "      <th>15~19세.1</th>\n",
       "      <th>20~24세.1</th>\n",
       "      <th>25~29세.1</th>\n",
       "      <th>30~34세.1</th>\n",
       "      <th>35~39세.1</th>\n",
       "      <th>40~44세.1</th>\n",
       "      <th>45~49세.1</th>\n",
       "      <th>...</th>\n",
       "      <th>55~59세.1</th>\n",
       "      <th>60~64세.1</th>\n",
       "      <th>65~69세.1</th>\n",
       "      <th>70~74세.1</th>\n",
       "      <th>75~79세.1</th>\n",
       "      <th>80~84세.1</th>\n",
       "      <th>85~89세.1</th>\n",
       "      <th>90~94세.1</th>\n",
       "      <th>95~99세.1</th>\n",
       "      <th>100세 이상.1</th>\n",
       "    </tr>\n",
       "    <tr>\n",
       "      <th>행정기관</th>\n",
       "      <th></th>\n",
       "      <th></th>\n",
       "      <th></th>\n",
       "      <th></th>\n",
       "      <th></th>\n",
       "      <th></th>\n",
       "      <th></th>\n",
       "      <th></th>\n",
       "      <th></th>\n",
       "      <th></th>\n",
       "      <th></th>\n",
       "      <th></th>\n",
       "      <th></th>\n",
       "      <th></th>\n",
       "      <th></th>\n",
       "      <th></th>\n",
       "      <th></th>\n",
       "      <th></th>\n",
       "      <th></th>\n",
       "      <th></th>\n",
       "      <th></th>\n",
       "    </tr>\n",
       "  </thead>\n",
       "  <tbody>\n",
       "    <tr>\n",
       "      <th>전국</th>\n",
       "      <td>1,125,896</td>\n",
       "      <td>1,141,102</td>\n",
       "      <td>1,524,143</td>\n",
       "      <td>1,668,412</td>\n",
       "      <td>1,506,676</td>\n",
       "      <td>1,737,973</td>\n",
       "      <td>1,963,094</td>\n",
       "      <td>2,092,175</td>\n",
       "      <td>2,257,824</td>\n",
       "      <td>2,052,553</td>\n",
       "      <td>...</td>\n",
       "      <td>1,573,948</td>\n",
       "      <td>1,182,335</td>\n",
       "      <td>1,013,184</td>\n",
       "      <td>914,270</td>\n",
       "      <td>684,870</td>\n",
       "      <td>416,098</td>\n",
       "      <td>202,997</td>\n",
       "      <td>70,111</td>\n",
       "      <td>18,637</td>\n",
       "      <td>8,695</td>\n",
       "    </tr>\n",
       "    <tr>\n",
       "      <th>서울특별시</th>\n",
       "      <td>206,464</td>\n",
       "      <td>202,614</td>\n",
       "      <td>267,567</td>\n",
       "      <td>313,860</td>\n",
       "      <td>332,516</td>\n",
       "      <td>443,742</td>\n",
       "      <td>465,389</td>\n",
       "      <td>443,392</td>\n",
       "      <td>456,192</td>\n",
       "      <td>411,429</td>\n",
       "      <td>...</td>\n",
       "      <td>351,421</td>\n",
       "      <td>260,202</td>\n",
       "      <td>203,512</td>\n",
       "      <td>155,548</td>\n",
       "      <td>105,525</td>\n",
       "      <td>65,965</td>\n",
       "      <td>33,779</td>\n",
       "      <td>12,649</td>\n",
       "      <td>3,830</td>\n",
       "      <td>2,610</td>\n",
       "    </tr>\n",
       "    <tr>\n",
       "      <th>부산광역시</th>\n",
       "      <td>63,778</td>\n",
       "      <td>65,415</td>\n",
       "      <td>92,033</td>\n",
       "      <td>110,761</td>\n",
       "      <td>109,446</td>\n",
       "      <td>123,502</td>\n",
       "      <td>131,583</td>\n",
       "      <td>132,796</td>\n",
       "      <td>151,565</td>\n",
       "      <td>150,899</td>\n",
       "      <td>...</td>\n",
       "      <td>139,838</td>\n",
       "      <td>104,284</td>\n",
       "      <td>79,464</td>\n",
       "      <td>66,807</td>\n",
       "      <td>45,992</td>\n",
       "      <td>27,898</td>\n",
       "      <td>12,863</td>\n",
       "      <td>3,911</td>\n",
       "      <td>1,160</td>\n",
       "      <td>829</td>\n",
       "    </tr>\n",
       "  </tbody>\n",
       "</table>\n",
       "<p>3 rows × 21 columns</p>\n",
       "</div>"
      ],
      "text/plain": [
       "            0~4세.1     5~9세.1   10~14세.1   15~19세.1   20~24세.1   25~29세.1  \\\n",
       "행정기관                                                                        \n",
       "전국       1,125,896  1,141,102  1,524,143  1,668,412  1,506,676  1,737,973   \n",
       "서울특별시      206,464    202,614    267,567    313,860    332,516    443,742   \n",
       "부산광역시       63,778     65,415     92,033    110,761    109,446    123,502   \n",
       "\n",
       "          30~34세.1   35~39세.1   40~44세.1   45~49세.1  ...   55~59세.1  \\\n",
       "행정기관                                                 ...              \n",
       "전국       1,963,094  2,092,175  2,257,824  2,052,553  ...  1,573,948   \n",
       "서울특별시      465,389    443,392    456,192    411,429  ...    351,421   \n",
       "부산광역시      131,583    132,796    151,565    150,899  ...    139,838   \n",
       "\n",
       "          60~64세.1   65~69세.1 70~74세.1 75~79세.1 80~84세.1 85~89세.1 90~94세.1  \\\n",
       "행정기관                                                                         \n",
       "전국       1,182,335  1,013,184  914,270  684,870  416,098  202,997   70,111   \n",
       "서울특별시      260,202    203,512  155,548  105,525   65,965   33,779   12,649   \n",
       "부산광역시      104,284     79,464   66,807   45,992   27,898   12,863    3,911   \n",
       "\n",
       "        95~99세.1 100세 이상.1  \n",
       "행정기관                        \n",
       "전국        18,637     8,695  \n",
       "서울특별시      3,830     2,610  \n",
       "부산광역시      1,160       829  \n",
       "\n",
       "[3 rows x 21 columns]"
      ]
     },
     "execution_count": 3,
     "metadata": {},
     "output_type": "execute_result"
    }
   ],
   "source": [
    "df_w = pd.read_excel(file_name, \n",
    "                     skiprows=3, index_col='행정기관', usecols='B, AB:AV')\n",
    "df_w.head(3)"
   ]
  },
  {
   "cell_type": "code",
   "execution_count": 4,
   "id": "570a48f5",
   "metadata": {},
   "outputs": [
    {
     "data": {
      "text/plain": [
       "Index(['0~4세.1', '5~9세.1', '10~14세.1', '15~19세.1', '20~24세.1', '25~29세.1',\n",
       "       '30~34세.1', '35~39세.1', '40~44세.1', '45~49세.1', '50~54세.1', '55~59세.1',\n",
       "       '60~64세.1', '65~69세.1', '70~74세.1', '75~79세.1', '80~84세.1', '85~89세.1',\n",
       "       '90~94세.1', '95~99세.1', '100세 이상.1'],\n",
       "      dtype='object')"
      ]
     },
     "execution_count": 4,
     "metadata": {},
     "output_type": "execute_result"
    }
   ],
   "source": [
    "df_w.columns"
   ]
  },
  {
   "cell_type": "code",
   "execution_count": 5,
   "id": "c88dfe42",
   "metadata": {},
   "outputs": [
    {
     "data": {
      "text/plain": [
       "Index(['0~4세', '5~9세', '10~14세', '15~19세', '20~24세', '25~29세', '30~34세',\n",
       "       '35~39세', '40~44세', '45~49세', '50~54세', '55~59세', '60~64세', '65~69세',\n",
       "       '70~74세', '75~79세', '80~84세', '85~89세', '90~94세', '95~99세', '100세 이상'],\n",
       "      dtype='object')"
      ]
     },
     "execution_count": 5,
     "metadata": {},
     "output_type": "execute_result"
    }
   ],
   "source": [
    "df_w.columns = df_m.columns # 컬럼명 통일\n",
    "df_w.columns"
   ]
  },
  {
   "cell_type": "code",
   "execution_count": 6,
   "id": "4059aed9",
   "metadata": {},
   "outputs": [
    {
     "data": {
      "text/plain": [
       "0~4세       1125896\n",
       "5~9세       1141102\n",
       "10~14세     1524143\n",
       "15~19세     1668412\n",
       "20~24세     1506676\n",
       "25~29세     1737973\n",
       "30~34세     1963094\n",
       "35~39세     2092175\n",
       "40~44세     2257824\n",
       "45~49세     2052553\n",
       "50~54세     2132120\n",
       "55~59세     1573948\n",
       "60~64세     1182335\n",
       "65~69세     1013184\n",
       "70~74세      914270\n",
       "75~79세      684870\n",
       "80~84세      416098\n",
       "85~89세      202997\n",
       "90~94세       70111\n",
       "95~99세       18637\n",
       "100세 이상       8695\n",
       "Name: 전국  , dtype: object"
      ]
     },
     "execution_count": 6,
     "metadata": {},
     "output_type": "execute_result"
    }
   ],
   "source": [
    "df_w.iloc[0] = df_w.iloc[0].str.replace(',','').astype(int) # 1,195,951 -> 1195951 (정수형)\n",
    "df_w.iloc[0]"
   ]
  },
  {
   "cell_type": "markdown",
   "id": "c8217654",
   "metadata": {},
   "source": [
    "## 데이터 시각화"
   ]
  },
  {
   "cell_type": "code",
   "execution_count": 7,
   "id": "5c2107ba",
   "metadata": {},
   "outputs": [],
   "source": [
    "import matplotlib.pyplot as plt\n",
    "import matplotlib\n",
    "# matplotlib.rcParams['font.family'] = 'Malgun Gothic' # Window\n",
    "# matplotlib.rcParams['font.family'] = 'KoPubBatang_Pro' # Apple\n",
    "matplotlib.rcParams['font.family'] = 'AppleGothic' # Apple\n",
    "matplotlib.rcParams['font.size'] = 15 # 글자 크기\n",
    "matplotlib.rcParams['axes.unicode_minus'] = False # 한글 폰트 사용 시, 마이너스 글자가 깨지는 현상 해결"
   ]
  },
  {
   "cell_type": "code",
   "execution_count": 8,
   "id": "918e4e5d",
   "metadata": {},
   "outputs": [
    {
     "data": {
      "image/png": "[encoded data removed]",
      "text/plain": [
       "<Figure size 720x504 with 1 Axes>"
      ]
     },
     "metadata": {
      "needs_background": "light"
     },
     "output_type": "display_data"
    }
   ],
   "source": [
    "plt.figure(figsize=(10, 7))\n",
    "plt.barh(df_m.columns, -df_m.iloc[0] // 1000) # 단위 : 천 명\n",
    "plt.barh(df_w.columns, df_w.iloc[0] // 1000)\n",
    "plt.title('2011년 대한민국 인구 피라미드')\n",
    "plt.savefig('2011_인구피라미드.png', dpi=100) # 인구 피라미드 사진 파일로 저장\n",
    "plt.show()"
   ]
  }
 ],
 "metadata": {
  "kernelspec": {
   "display_name": "Python 3 (ipykernel)",
   "language": "python",
   "name": "python3"
  },
  "language_info": {
   "codemirror_mode": {
    "name": "ipython",
    "version": 3
   },
   "file_extension": ".py",
   "mimetype": "text/x-python",
   "name": "python",
   "nbconvert_exporter": "python",
   "pygments_lexer": "ipython3",
   "version": "3.8.12"
  }
 },
 "nbformat": 4,
 "nbformat_minor": 5
}
