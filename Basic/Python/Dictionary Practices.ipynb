{
 "cells": [
  {
   "cell_type": "markdown",
   "id": "c34c8656",
   "metadata": {},
   "source": [
    "# 딕셔너리 응용하기"
   ]
  },
  {
   "cell_type": "markdown",
   "id": "505b7d58",
   "metadata": {},
   "source": [
    "## 1. 사전 실습"
   ]
  },
  {
   "cell_type": "markdown",
   "id": "18baf4a2",
   "metadata": {},
   "source": [
    "### 1) 단어장 만들기"
   ]
  },
  {
   "cell_type": "code",
   "execution_count": 1,
   "id": "b3a095ee",
   "metadata": {},
   "outputs": [
    {
     "name": "stdout",
     "output_type": "stream",
     "text": [
      "영-한 단어장\n",
      "{'sanitizer': '살균제', 'ambition': '야망', 'conscience': '양심', 'civilization': '문명', 'privilege': '특권', 'principles': '원칙'}\n",
      "\n",
      "한-영 단어장\n",
      "{'살균제': 'sanitizer', '야망': 'ambition', '양심': 'conscience', '문명': 'civilization', '특권': 'privilege', '원칙': 'principles'}\n"
     ]
    }
   ],
   "source": [
    "# 언어 사전의 단어와 뜻을 서로 바꿔주는 함수\n",
    "def reverse_dict(dict):\n",
    "    new_dict = {}  # 새로운 사전\n",
    "    # dict의 key와 value를 뒤집어서 new_dict에 저장\n",
    "    for key, value in dict.items():\n",
    "        new_dict[value] = key\n",
    "    return new_dict  # 변환한 새로운 사전 리턴\n",
    "\n",
    "\n",
    "# 영-한 단어장\n",
    "vocab = {\n",
    "    'sanitizer': '살균제',\n",
    "    'ambition': '야망',\n",
    "    'conscience': '양심',\n",
    "    'civilization': '문명',\n",
    "    'privilege': '특권',\n",
    "    'principles': '원칙'\n",
    "}\n",
    "\n",
    "# 기존 단어장 출력\n",
    "print(\"영-한 단어장\\n{}\\n\".format(vocab))\n",
    "\n",
    "# 변환된 단어장 출력\n",
    "reversed_vocab = reverse_dict(vocab)\n",
    "print(\"한-영 단어장\\n{}\".format(reversed_vocab))"
   ]
  },
  {
   "cell_type": "markdown",
   "id": "585bab28",
   "metadata": {},
   "source": [
    "### 2) 투표 집계하기\n",
    "- 파이썬 리스트 votes에는 성북구민들의 투표 결과가 저장되어 있습니다.  \n",
    "리스트 votes의 정보를 토대로, 사전 vote_counter에 후보별 득표수를 정리하는 것이 목표입니다."
   ]
  },
  {
   "cell_type": "code",
   "execution_count": 2,
   "id": "894c81db",
   "metadata": {},
   "outputs": [
    {
     "name": "stdout",
     "output_type": "stream",
     "text": [
      "{'김영자': 11, '강승기': 6, '최만수': 8}\n",
      "True\n",
      "True\n"
     ]
    }
   ],
   "source": [
    "# 투표 결과 리스트\n",
    "votes = ['김영자', '강승기', '최만수', '김영자', '강승기', '강승기', '최만수', '김영자', \\\n",
    "'최만수', '김영자', '최만수', '김영자', '김영자', '최만수', '최만수', '최만수', '강승기', \\\n",
    "'강승기', '김영자', '김영자', '최만수', '김영자', '김영자', '강승기', '김영자']\n",
    "\n",
    "# 후보별 득표수 사전\n",
    "vote_counter = {}\n",
    "\n",
    "# 리스트 votes를 이용해서 사전 vote_counter를 정리하기\n",
    "for name in votes:\n",
    "    if name not in vote_counter:\n",
    "        vote_counter[name] = 1\n",
    "    else:\n",
    "        vote_counter[name] += 1\n",
    "\n",
    "# 후보별 득표수 출력\n",
    "print(vote_counter)"
   ]
  },
  {
   "cell_type": "code",
   "execution_count": 3,
   "id": "e81a8448",
   "metadata": {},
   "outputs": [
    {
     "name": "stdout",
     "output_type": "stream",
     "text": [
      "True\n",
      "True\n"
     ]
    }
   ],
   "source": [
    "# 참고\n",
    "print('강승기' in vote_counter)\n",
    "print('강승기' in vote_counter.keys())"
   ]
  }
 ],
 "metadata": {
  "kernelspec": {
   "display_name": "Python 3 (ipykernel)",
   "language": "python",
   "name": "python3"
  },
  "language_info": {
   "codemirror_mode": {
    "name": "ipython",
    "version": 3
   },
   "file_extension": ".py",
   "mimetype": "text/x-python",
   "name": "python",
   "nbconvert_exporter": "python",
   "pygments_lexer": "ipython3",
   "version": "3.8.12"
  }
 },
 "nbformat": 4,
 "nbformat_minor": 5
}
