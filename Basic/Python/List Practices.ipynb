{
 "cells": [
  {
   "cell_type": "markdown",
   "id": "4fcdc8cd",
   "metadata": {},
   "source": [
    "# 리스트 응용하기"
   ]
  },
  {
   "cell_type": "markdown",
   "id": "4071dd1d",
   "metadata": {},
   "source": [
    "## 1. 리스트 실습"
   ]
  },
  {
   "cell_type": "markdown",
   "id": "ad5196be",
   "metadata": {},
   "source": [
    "### 1) 온도 단위 바꾸기"
   ]
  },
  {
   "cell_type": "code",
   "execution_count": 1,
   "id": "0a77f6bb",
   "metadata": {},
   "outputs": [
    {
     "name": "stdout",
     "output_type": "stream",
     "text": [
      "화씨 온도 리스트: [40, 15, 32, 64, -4, 11]\n",
      "섭씨 온도 리스트: [4.4, -9.4, 0.0, 17.8, -20.0, -11.7]\n"
     ]
    }
   ],
   "source": [
    "# 화씨 온도에서 섭씨 온도로 바꿔 주는 함수\n",
    "def fahrenheit_to_celsius(fahrenheit):\n",
    "    return (fahrenheit - 32) * 5 / 9\n",
    "\n",
    "\n",
    "temperature_list = [40, 15, 32, 64, -4, 11]\n",
    "print(\"화씨 온도 리스트: {}\".format(temperature_list))  # 화씨 온도 출력\n",
    "\n",
    "# 리스트의 값들을 화씨에서 섭씨로 변환하는 코드\n",
    "i = 0\n",
    "while i < len(temperature_list):\n",
    "    temperature_list[i] = round(fahrenheit_to_celsius(temperature_list[i]), 1)\n",
    "    i += 1\n",
    "print(\"섭씨 온도 리스트: {}\".format(temperature_list))  # 섭씨 온도 출력"
   ]
  },
  {
   "cell_type": "markdown",
   "id": "996ae4d8",
   "metadata": {},
   "source": [
    "### 2) 환전 서비스\n",
    "- 환율은 1달러에 1,000원, 그리고 1,000엔에 8달러라고 가정"
   ]
  },
  {
   "cell_type": "code",
   "execution_count": 2,
   "id": "4858d9b7",
   "metadata": {},
   "outputs": [
    {
     "name": "stdout",
     "output_type": "stream",
     "text": [
      "한국 화폐: [34000, 13000, 5000, 21000, 1000, 2000, 8000, 3000]\n",
      "미국 화폐: [34.0, 13.0, 5.0, 21.0, 1.0, 2.0, 8.0, 3.0]\n",
      "일본 화폐: [4250.0, 1625.0, 625.0, 2625.0, 125.0, 250.0, 1000.0, 375.0]\n"
     ]
    }
   ],
   "source": [
    "# 원화(￦)에서 달러($)로 변환하는 함수\n",
    "def krw_to_usd(krw):\n",
    "    return round(krw * (1 / 1000), 1)\n",
    "\n",
    "# 달러($)에서 엔화(￥)로 변환하는 함수\n",
    "def usd_to_jpy(usd):\n",
    "    return round(usd * (1000 / 8), 1)\n",
    "\n",
    "# 원화(￦)으로 각각 얼마인가요?\n",
    "prices = [34000, 13000, 5000, 21000, 1000, 2000, 8000, 3000]\n",
    "print(\"한국 화폐: \" + str(prices))\n",
    " \n",
    "# prices를 원화(￦)에서 달러($)로 변환하기\n",
    "# 코드를 입력하세요.\n",
    "cnt = len(prices)\n",
    "i = 0\n",
    "while i < cnt:\n",
    "    prices[i] = krw_to_usd(prices[i])\n",
    "    i += 1\n",
    "# 달러($)로 각각 얼마인가요?\n",
    "print(\"미국 화폐: \" + str(prices))\n",
    "\n",
    "# prices를 달러($)에서 엔화(￥)으로 변환하기\n",
    "# 코드를 입력하세요.\n",
    "i = 0\n",
    "while i < cnt:\n",
    "    prices[i] = usd_to_jpy(prices[i])\n",
    "    i += 1\n",
    "# 엔화(￥)으로 각각 얼마인가요?\n",
    "print(\"일본 화폐: \" + str(prices))"
   ]
  },
  {
   "cell_type": "markdown",
   "id": "b51b8a85",
   "metadata": {},
   "source": [
    "### 3) 리스트 함수 활용\n",
    "1. numbers라는 빈 리스트를 만들고 리스트를 출력한다.\n",
    "2. append를 이용해서 numbers에 1, 7, 3, 6, 5, 2, 13, 14를 순서대로 추가한다. 그 후 리스트를 출력한다.\n",
    "3. numbers 리스트의 원소들 중 홀수는 모두 제거한다. 그 후 다시 리스트를 출력한다.\n",
    "4. numbers 리스트의 인덱스 0 자리에 20이라는 수를 삽입한 후 출력한다.\n",
    "5. numbers 리스트를 정렬한 후 출력한다."
   ]
  },
  {
   "cell_type": "code",
   "execution_count": 3,
   "id": "7e6471e5",
   "metadata": {},
   "outputs": [
    {
     "name": "stdout",
     "output_type": "stream",
     "text": [
      "[]\n",
      "[1, 7, 3, 6, 5, 2, 13, 14]\n",
      "[6, 2, 14]\n",
      "[20, 6, 2, 14]\n",
      "[2, 6, 14, 20]\n"
     ]
    }
   ],
   "source": [
    "# 1. 빈 리스트 만들기\n",
    "numbers = []\n",
    "print(numbers)\n",
    "\n",
    "# 2. numbers에 값들 추가\n",
    "numbers.append(1)\n",
    "numbers.append(7)\n",
    "numbers.append(3)\n",
    "numbers.append(6)\n",
    "numbers.append(5)\n",
    "numbers.append(2)\n",
    "numbers.append(13)\n",
    "numbers.append(14)\n",
    "print(numbers)\n",
    "\n",
    "# 3. numbers에서 홀수 제거\n",
    "i = 0\n",
    "while i < len(numbers):\n",
    "    if numbers[i] % 2 == 1:\n",
    "        del numbers[i]\n",
    "    else:\n",
    "        i += 1\n",
    "print(numbers)\n",
    "\n",
    "# 4. numbers의 인덱스 0 자리에 20이라는 값 삽입\n",
    "numbers.insert(0, 20)\n",
    "print(numbers)\n",
    "\n",
    "# 5. numbers를 정렬해서 출력\n",
    "numbers.sort()\n",
    "print(numbers)"
   ]
  },
  {
   "cell_type": "markdown",
   "id": "bc7bf298",
   "metadata": {},
   "source": [
    "## 2. 리스트 심화"
   ]
  },
  {
   "cell_type": "markdown",
   "id": "09602c01",
   "metadata": {},
   "source": [
    "### 1) 리스트에서 특정 값 존재 확인"
   ]
  },
  {
   "cell_type": "code",
   "execution_count": 4,
   "id": "ae14e247",
   "metadata": {},
   "outputs": [
    {
     "name": "stdout",
     "output_type": "stream",
     "text": [
      "True\n",
      "False\n"
     ]
    }
   ],
   "source": [
    "# value가 some_list의 요소인지 확인\n",
    "def in_list(some_list, value):\n",
    "    i = 0\n",
    "    while i < len(some_list):\n",
    "        # some_list에서 value를 찾으면 True를 리턴\n",
    "        if some_list[i] == value:\n",
    "            return True\n",
    "        i = i + 1\n",
    "\n",
    "    # 만약 some_list에서 value를 발견하지 못했으면 False를 리턴\n",
    "    return False\n",
    "\n",
    "# 테스트\n",
    "primes = [2, 3, 5, 7, 11, 13, 17, 19, 23]\n",
    "print(in_list(primes, 7))\n",
    "print(in_list(primes, 12))"
   ]
  },
  {
   "cell_type": "code",
   "execution_count": 5,
   "id": "d6c7a10c",
   "metadata": {},
   "outputs": [
    {
     "name": "stdout",
     "output_type": "stream",
     "text": [
      "True\n",
      "False\n"
     ]
    }
   ],
   "source": [
    "primes = [2, 3, 5, 7, 11, 13, 17, 19, 23]\n",
    "print(7 in primes)\n",
    "print(12 in primes)"
   ]
  },
  {
   "cell_type": "code",
   "execution_count": 6,
   "id": "bc4ed791",
   "metadata": {},
   "outputs": [
    {
     "name": "stdout",
     "output_type": "stream",
     "text": [
      "False\n",
      "True\n"
     ]
    }
   ],
   "source": [
    "primes = [2, 3, 5, 7, 11, 13, 17, 19, 23]\n",
    "print(7 not in primes)\n",
    "print(12 not in primes)"
   ]
  },
  {
   "cell_type": "markdown",
   "id": "a0310b8f",
   "metadata": {},
   "source": [
    "### 2) 리스트 안의 리스트 ( Nested List )"
   ]
  },
  {
   "cell_type": "code",
   "execution_count": 7,
   "id": "96627215",
   "metadata": {},
   "outputs": [
    {
     "name": "stdout",
     "output_type": "stream",
     "text": [
      "[62, 75, 77]\n",
      "[85, 91, 89]\n",
      "62\n",
      "91\n",
      "75.0\n"
     ]
    }
   ],
   "source": [
    "# 세 번의 시험을 보는 수업\n",
    "grades = [[62, 75, 77], [78, 81, 86], [85, 91, 89]]\n",
    "\n",
    "# 첫 번째 학생의 성적\n",
    "print(grades[0])\n",
    "\n",
    "# 세 번째 학생의 성적\n",
    "print(grades[2])\n",
    "\n",
    "# 첫 번째 학생의 첫 번째 시험 성적\n",
    "print(grades[0][0])\n",
    "\n",
    "# 세 번째 학생의 두 번째 시험 성적\n",
    "print(grades[2][1])\n",
    "\n",
    "# 첫 번째 시험의 평균\n",
    "print((grades[0][0] + grades[1][0] + grades[2][0]) / 3)"
   ]
  },
  {
   "cell_type": "markdown",
   "id": "90e3e815",
   "metadata": {},
   "source": [
    "### 3) 다양한 리스트 메소드\n",
    "- 정렬하기\n",
    "- 뒤집기\n",
    "- 인덱스 찾기\n",
    "- 삭제하기"
   ]
  },
  {
   "cell_type": "code",
   "execution_count": 8,
   "id": "1fd120ef",
   "metadata": {},
   "outputs": [
    {
     "name": "stdout",
     "output_type": "stream",
     "text": [
      "[1, 3, 5, 7]\n"
     ]
    }
   ],
   "source": [
    "# sort 메소드 :  some_list.sort()는 새로운 리스트를 생성하지 않고 some_list를 정렬된 상태로 변경\n",
    "numbers = [5, 3, 7, 1]\n",
    "numbers.sort()\n",
    "print(numbers)"
   ]
  },
  {
   "cell_type": "code",
   "execution_count": 9,
   "id": "424ec7e3",
   "metadata": {},
   "outputs": [
    {
     "name": "stdout",
     "output_type": "stream",
     "text": [
      "[1, 7, 3, 5]\n"
     ]
    }
   ],
   "source": [
    "# reverse 메소드 : some_list.reverse()는 some_list의 원소들을 뒤집어진 순서로 배치\n",
    "numbers = [5, 3, 7, 1]\n",
    "numbers.reverse()\n",
    "print(numbers)"
   ]
  },
  {
   "cell_type": "code",
   "execution_count": 10,
   "id": "28fd59b3",
   "metadata": {},
   "outputs": [
    {
     "name": "stdout",
     "output_type": "stream",
     "text": [
      "1\n",
      "2\n"
     ]
    }
   ],
   "source": [
    "# index 메소드 : some_list.index(x)는some_list에서 x의 값을 갖고 있는 원소의 인덱스를 리턴\n",
    "members = [\"영훈\", \"윤수\", \"태호\", \"혜린\"]\n",
    "print(members.index(\"윤수\"))\n",
    "print(members.index(\"태호\"))"
   ]
  },
  {
   "cell_type": "code",
   "execution_count": 11,
   "id": "1124c87a",
   "metadata": {},
   "outputs": [
    {
     "name": "stdout",
     "output_type": "stream",
     "text": [
      "['딸기', '당근', '수박', '참외', '메론']\n"
     ]
    }
   ],
   "source": [
    "# remove 메소드 : some_list.remove(x)는some_list에서 첫 번째로 x의 값을 갖고 있는 원소를 삭제\n",
    "fruits = [\"딸기\", \"당근\", \"파인애플\", \"수박\", \"참외\", \"메론\"]\n",
    "fruits.remove(\"파인애플\")\n",
    "print(fruits)"
   ]
  },
  {
   "cell_type": "markdown",
   "id": "73a57d8f",
   "metadata": {},
   "source": [
    "## 3. 리스트와 문자열 실습\n",
    "- 리스트와 문자열은 인덱싱/슬라이싱/덧셈 연산/len함수 등이 동일한 방식으로 작동\n",
    "- 리스트는 데이터 수정이 가능한 Mutable한 자료형\n",
    "- 문자열은 데이터 수정 및 삭제가 불가능한 Immutable한 자료형"
   ]
  },
  {
   "cell_type": "markdown",
   "id": "9d54651e",
   "metadata": {},
   "source": [
    "### 1) 자릿수 합 구하기"
   ]
  },
  {
   "cell_type": "code",
   "execution_count": 12,
   "id": "d10419ad",
   "metadata": {},
   "outputs": [
    {
     "name": "stdout",
     "output_type": "stream",
     "text": [
      "13501\n"
     ]
    }
   ],
   "source": [
    "# 자리수 합 리턴\n",
    "def sum_digit(num):\n",
    "    total = 0\n",
    "    for digit in str(num):\n",
    "        total += int(digit)\n",
    "    return total\n",
    "        \n",
    "# sum_digit(1)부터 sum_digit(1000)까지의 합 구하기\n",
    "total_sum = 0\n",
    "for num in range(1, 1001):\n",
    "    total_sum += sum_digit(num)\n",
    "\n",
    "print(total_sum)"
   ]
  },
  {
   "cell_type": "markdown",
   "id": "265b4c31",
   "metadata": {},
   "source": [
    "### 2) 주민등록번호 가리기\n",
    "- 주민등록번호의 마지막 네 자리만 '****'로 가려 주는 보안 프로그램 만들어보세요."
   ]
  },
  {
   "cell_type": "code",
   "execution_count": 13,
   "id": "d3bb06c1",
   "metadata": {},
   "outputs": [
    {
     "name": "stdout",
     "output_type": "stream",
     "text": [
      "880720-123****\n",
      "880720123****\n",
      "930124-765****\n",
      "930124765****\n",
      "761214-235****\n",
      "761214235****\n"
     ]
    }
   ],
   "source": [
    "def mask_security_number1(security_number):\n",
    "    masked_number = security_number[:-4] + \"****\"\n",
    "    return masked_number\n",
    "\n",
    "def mask_security_number2(security_number):\n",
    "    num_list = list(security_number)\n",
    "    \n",
    "    # 마지막 네 값을 *로 대체\n",
    "    for i in range(len(num_list) - 4, len(num_list)):\n",
    "        num_list[i] = '*'\n",
    "\n",
    "    # 리스트를 문자열로 복구하여 반환\n",
    "    return ''.join(num_list)\n",
    "\n",
    "# 테스트\n",
    "print(mask_security_number1(\"880720-1234567\"))\n",
    "print(mask_security_number1(\"8807201234567\"))\n",
    "print(mask_security_number1(\"930124-7654321\"))\n",
    "print(mask_security_number2(\"9301247654321\"))\n",
    "print(mask_security_number2(\"761214-2357111\"))\n",
    "print(mask_security_number2(\"7612142357111\"))"
   ]
  },
  {
   "cell_type": "code",
   "execution_count": 14,
   "id": "fe88cfff",
   "metadata": {},
   "outputs": [
    {
     "name": "stdout",
     "output_type": "stream",
     "text": [
      "True\n",
      "False\n",
      "True\n",
      "True\n",
      "False\n",
      "False\n",
      "True\n"
     ]
    }
   ],
   "source": [
    "def is_palindrome1(word):\n",
    "    # 코드를 입력하세요.\n",
    "    for i in range(len(word)//2):\n",
    "        if word[i] != word[-(i+1)]:\n",
    "            return False\n",
    "    return True\n",
    "    \n",
    "def is_palindrome2(word):\n",
    "    # 코드를 입력하세요.\n",
    "    for left in range(len(word) // 2):\n",
    "        right = len(word) - left - 1\n",
    "        if word[left] != word[right]:\n",
    "            return False\n",
    "    return True\n",
    "    \n",
    "def is_palindrome3(word):\n",
    "    return word == word[::-1]\n",
    "\n",
    "# 테스트\n",
    "print(is_palindrome1(\"racecar\"))\n",
    "print(is_palindrome1(\"stars\"))\n",
    "print(is_palindrome2(\"토마토\"))\n",
    "print(is_palindrome2(\"kayak\"))\n",
    "print(is_palindrome2(\"hello\"))\n",
    "print(is_palindrome3(\"loooof\"))\n",
    "print(is_palindrome3(\"looool\"))"
   ]
  }
 ],
 "metadata": {
  "kernelspec": {
   "display_name": "Python 3 (ipykernel)",
   "language": "python",
   "name": "python3"
  },
  "language_info": {
   "codemirror_mode": {
    "name": "ipython",
    "version": 3
   },
   "file_extension": ".py",
   "mimetype": "text/x-python",
   "name": "python",
   "nbconvert_exporter": "python",
   "pygments_lexer": "ipython3",
   "version": "3.8.12"
  }
 },
 "nbformat": 4,
 "nbformat_minor": 5
}
