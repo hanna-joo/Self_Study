{
 "cells": [
  {
   "cell_type": "markdown",
   "id": "4f237faf",
   "metadata": {},
   "source": [
    "# 제어문(Control Statement) 응용하기"
   ]
  },
  {
   "cell_type": "markdown",
   "id": "b61bfe42",
   "metadata": {},
   "source": [
    "## 1. 제어문 심화"
   ]
  },
  {
   "cell_type": "markdown",
   "id": "608da937",
   "metadata": {},
   "source": [
    "### 1) break 문\n",
    "- while 문의 조건 부분과 상관 없이 반복문에서 나오고 싶으면, break 문을 사용합니다."
   ]
  },
  {
   "cell_type": "code",
   "execution_count": 1,
   "id": "c0a1899d",
   "metadata": {},
   "outputs": [
    {
     "name": "stdout",
     "output_type": "stream",
     "text": [
      "112\n"
     ]
    }
   ],
   "source": [
    "i = 100\n",
    "\n",
    "while True:\n",
    "    # i가 14의 배수면 반복문을 끝냄\n",
    "    if i % 14 == 0:\n",
    "        break\n",
    "    i = i + 1\n",
    "\n",
    "print(i)"
   ]
  },
  {
   "cell_type": "markdown",
   "id": "d38a293c",
   "metadata": {},
   "source": [
    "### 2) continue 문\n",
    "- 현재 진행되고 있는 수행 부분을 중단하고 바로 조건 부분을 확인하고 싶으면, continue 문을 사용합니다."
   ]
  },
  {
   "cell_type": "code",
   "execution_count": 2,
   "id": "b544ab88",
   "metadata": {},
   "outputs": [
    {
     "name": "stdout",
     "output_type": "stream",
     "text": [
      "1\n",
      "3\n",
      "5\n",
      "7\n",
      "9\n",
      "11\n",
      "13\n",
      "15\n"
     ]
    }
   ],
   "source": [
    "i = 0\n",
    "\n",
    "while i < 15:\n",
    "    i = i + 1\n",
    "\n",
    "    # i가 짝수면 print(i) 수행하지 않고 바로 조건 부분(i<15)으로 돌아감\n",
    "    if i % 2 != 1:\n",
    "        continue\n",
    "    print(i)"
   ]
  },
  {
   "cell_type": "markdown",
   "id": "0cf082f5",
   "metadata": {},
   "source": [
    "## 2. 제어문 실습\n",
    "[문제출처 : 코드잇](https://www.codeit.kr/dashboard)"
   ]
  },
  {
   "cell_type": "markdown",
   "id": "da34de05",
   "metadata": {},
   "source": [
    "### 1) 짝수만 출력\n",
    "- 1 이상 30 이하의 짝수를 모두 출력해 보세요."
   ]
  },
  {
   "cell_type": "code",
   "execution_count": 3,
   "id": "2301fc0b",
   "metadata": {},
   "outputs": [
    {
     "name": "stdout",
     "output_type": "stream",
     "text": [
      "2\n",
      "4\n",
      "6\n",
      "8\n",
      "10\n",
      "12\n",
      "14\n",
      "16\n",
      "18\n",
      "20\n",
      "22\n",
      "24\n",
      "26\n",
      "28\n",
      "30\n"
     ]
    }
   ],
   "source": [
    "x = 2\n",
    "while x <= 30 : \n",
    "    print(x)\n",
    "    x += 2"
   ]
  },
  {
   "cell_type": "markdown",
   "id": "333a5a28",
   "metadata": {},
   "source": [
    "### 2) 100 이상의 수 중 가장 작은 23 배수 출력\n",
    "- 100 이상의 자연수 중 가장 작은 23의 배수를 출력해보세요."
   ]
  },
  {
   "cell_type": "code",
   "execution_count": 4,
   "id": "fb941817",
   "metadata": {},
   "outputs": [
    {
     "name": "stdout",
     "output_type": "stream",
     "text": [
      "115\n"
     ]
    }
   ],
   "source": [
    "i = 100\n",
    "while i % 23 != 0 :\n",
    "    i += 1\n",
    "print(i)"
   ]
  },
  {
   "cell_type": "markdown",
   "id": "ede98682",
   "metadata": {},
   "source": [
    "### 3) 학점 계산기\n",
    "- 학생들에게 최종 성적을 알려 주는 '학점 계산기'를 만들려고 합니다.\n",
    "\n",
    "- 이 수업에는 50점 만점의 중간고사와 50점 만점의 기말고사가 있는데요.   \n",
    "두 시험의 점수를 합해서 최종 성적을 내는 방식입니다. 규칙은 다음과 같습니다.\n",
    "\n",
    "    + A: 90점 이상\n",
    "    + B: 80점 이상 90점 미만\n",
    "    + C: 70점 이상 80점 미만\n",
    "    + D: 60점 이상 70점 미만\n",
    "    + F: 60점 미만\n",
    "\n",
    "- print_grade 함수는 파라미터로 중간고사 점수 midterm_score와 기말고사 점수 final_score를 받고, 최종 성적을 출력합니다."
   ]
  },
  {
   "cell_type": "code",
   "execution_count": 5,
   "id": "93d7a431",
   "metadata": {},
   "outputs": [
    {
     "name": "stdout",
     "output_type": "stream",
     "text": [
      "B\n",
      "F\n",
      "D\n",
      "A\n"
     ]
    }
   ],
   "source": [
    "def print_grade(midterm_score, final_score):\n",
    "    total = midterm_score + final_score\n",
    "    if total >= 90:\n",
    "        print(\"A\")\n",
    "    elif 80 <= total < 90:\n",
    "        print(\"B\")\n",
    "    elif 70 <= total < 80:\n",
    "        print(\"C\")\n",
    "    elif 60 <= total < 70:\n",
    "        print(\"D\")\n",
    "    elif total < 60:\n",
    "        print(\"F\")\n",
    "\n",
    "\n",
    "# 테스트\n",
    "print_grade(40, 45)\n",
    "print_grade(20, 35)\n",
    "print_grade(30, 32)\n",
    "print_grade(50, 45)"
   ]
  },
  {
   "cell_type": "markdown",
   "id": "d68f098f",
   "metadata": {},
   "source": [
    "### 4) 이상한 숫자 출력 1\n",
    "- while문과 if문을 활용하여, 100 이하의 자연수 중 8의 배수이지만 12의 배수는 아닌 것을 모두 출력하세요."
   ]
  },
  {
   "cell_type": "code",
   "execution_count": 6,
   "id": "500315d6",
   "metadata": {},
   "outputs": [
    {
     "name": "stdout",
     "output_type": "stream",
     "text": [
      "8\n",
      "16\n",
      "32\n",
      "40\n",
      "56\n",
      "64\n",
      "80\n",
      "88\n"
     ]
    }
   ],
   "source": [
    "i = 1\n",
    "\n",
    "while i <= 100:\n",
    "    if i % 8 == 0 and i % 12 != 0:\n",
    "        print(i)\n",
    "    i += 1"
   ]
  },
  {
   "cell_type": "markdown",
   "id": "08503277",
   "metadata": {},
   "source": [
    "### 5) 이상한 숫자 출력 2\n",
    "- 10보다 작은 2 또는 3의 배수는 2, 3, 4, 6, 8, 9이며, 이들의 합은 32입니다.\n",
    "\n",
    "- while문과 if문을 활용하여, 1,000보다 작은 자연수 중 2 또는 3의 배수의 합을 출력하는 프로그램을 써 보세요."
   ]
  },
  {
   "cell_type": "code",
   "execution_count": 7,
   "id": "8a961e21",
   "metadata": {},
   "outputs": [
    {
     "name": "stdout",
     "output_type": "stream",
     "text": [
      "333167\n"
     ]
    }
   ],
   "source": [
    "i = 1\n",
    "result = 0\n",
    "\n",
    "while i < 1000:\n",
    "    if i % 2 == 0 or i % 3 == 0:\n",
    "        result += i\n",
    "    i += 1\n",
    "\n",
    "print(result)"
   ]
  },
  {
   "cell_type": "markdown",
   "id": "232bcf1e",
   "metadata": {},
   "source": [
    "### 6) 약수 출력\n",
    "- 정수 n의 약수는 n을 나누었을 때 나누어 떨어지는 수입니다. \n",
    "만약 정수 i가 정수 n의 약수라면, n을 i로 나누었을 때 나머지가 0이 나와야 하는 거죠.\n",
    "\n",
    "- 정수 120의 약수를 모두 출력하고, 총 몇개의 약수가 있는지 출력하는 프로그램을 써 보세요."
   ]
  },
  {
   "cell_type": "code",
   "execution_count": 8,
   "id": "f568240d",
   "metadata": {},
   "outputs": [
    {
     "name": "stdout",
     "output_type": "stream",
     "text": [
      "1\n",
      "2\n",
      "3\n",
      "4\n",
      "5\n",
      "6\n",
      "8\n",
      "10\n",
      "12\n",
      "15\n",
      "20\n",
      "24\n",
      "30\n",
      "40\n",
      "60\n",
      "120\n",
      "120의 약수는 총 16개입니다.\n"
     ]
    }
   ],
   "source": [
    "i = 1\n",
    "n = 0\n",
    "\n",
    "while i <= 120:\n",
    "    if 120 % i == 0:\n",
    "        print(i)\n",
    "        n += 1\n",
    "    i += 1\n",
    "    \n",
    "print(\"{}의 약수는 총 {}개입니다.\".format(120, n))"
   ]
  },
  {
   "cell_type": "markdown",
   "id": "f4d8e1a5",
   "metadata": {},
   "source": [
    "### 7) 은행 잔고 예측하기\n",
    "- 은행 이자율이 매년 12% 입니다.\n",
    "- 은행에 2032년 동안 저축하면 은행 잔고가 얼마가 될 지 계산하세요."
   ]
  },
  {
   "cell_type": "code",
   "execution_count": 9,
   "id": "52b80fc7",
   "metadata": {},
   "outputs": [
    {
     "name": "stdout",
     "output_type": "stream",
     "text": [
      "내 잔고는 2032년에 194798799.62734908원이 될 거야\n"
     ]
    }
   ],
   "source": [
    "# 상수 정의\n",
    "INTEREST_RATE = 0.12\n",
    "\n",
    "# 변수 정의\n",
    "year = 2020\n",
    "bank_balance = 50000000\n",
    "\n",
    "# 은행 잔고 예측\n",
    "while year < 2032:\n",
    "    bank_balance = bank_balance * (1 + INTEREST_RATE)\n",
    "    year += 1\n",
    "    \n",
    "print(\"내 잔고는 2032년에 {}원이 될 거야\".format(bank_balance))"
   ]
  },
  {
   "cell_type": "markdown",
   "id": "0dcfd0c0",
   "metadata": {},
   "source": [
    "### 8) 피보나치 수열\n",
    "- 피보나치 수열의 1번 항과 2번 항은 각각 1입니다.\n",
    "- 3번 항부터는 바로 앞 두 항의 합으로 계산됩니다.\n",
    "- 피보나치 수열은 1, 1, 2, 3, 5, 8, 13 ... 과 같이 계속됩니다.\n",
    "- 피보나치 수열의 첫 30개 항을 출력하세요."
   ]
  },
  {
   "cell_type": "code",
   "execution_count": 10,
   "id": "418e2216",
   "metadata": {},
   "outputs": [
    {
     "name": "stdout",
     "output_type": "stream",
     "text": [
      "1\n",
      "1\n",
      "2\n",
      "3\n",
      "5\n",
      "8\n",
      "13\n",
      "21\n",
      "34\n",
      "55\n",
      "89\n",
      "144\n",
      "233\n",
      "377\n",
      "610\n",
      "987\n",
      "1597\n",
      "2584\n",
      "4181\n",
      "6765\n"
     ]
    }
   ],
   "source": [
    "count = 1\n",
    "i = 1\n",
    "j = 1\n",
    "\n",
    "while count <= 20:\n",
    "    print(i)\n",
    "    i += j\n",
    "    count += 1\n",
    "    print(j)\n",
    "    j += i\n",
    "    count += 1"
   ]
  },
  {
   "cell_type": "code",
   "execution_count": 11,
   "id": "48175a15",
   "metadata": {},
   "outputs": [
    {
     "name": "stdout",
     "output_type": "stream",
     "text": [
      "1\n",
      "1\n",
      "2\n",
      "3\n",
      "5\n",
      "8\n",
      "13\n",
      "21\n",
      "34\n",
      "55\n",
      "89\n",
      "144\n",
      "233\n",
      "377\n",
      "610\n",
      "987\n",
      "1597\n",
      "2584\n",
      "4181\n",
      "6765\n"
     ]
    }
   ],
   "source": [
    "previous = 0\n",
    "current = 1\n",
    "i = 1\n",
    "\n",
    "while i <= 20:\n",
    "    print(current)\n",
    "    previous, current = current, current + previous\n",
    "    i += 1"
   ]
  },
  {
   "cell_type": "markdown",
   "id": "48c93426",
   "metadata": {},
   "source": [
    "### 9) 구구단 출력"
   ]
  },
  {
   "cell_type": "code",
   "execution_count": 12,
   "id": "b0f5ab00",
   "metadata": {},
   "outputs": [
    {
     "name": "stdout",
     "output_type": "stream",
     "text": [
      "1 * 1 = 1\n",
      "1 * 2 = 2\n",
      "1 * 3 = 3\n",
      "1 * 4 = 4\n",
      "1 * 5 = 5\n",
      "1 * 6 = 6\n",
      "1 * 7 = 7\n",
      "1 * 8 = 8\n",
      "1 * 9 = 9\n",
      "2 * 1 = 2\n",
      "2 * 2 = 4\n",
      "2 * 3 = 6\n",
      "2 * 4 = 8\n",
      "2 * 5 = 10\n",
      "2 * 6 = 12\n",
      "2 * 7 = 14\n",
      "2 * 8 = 16\n",
      "2 * 9 = 18\n",
      "3 * 1 = 3\n",
      "3 * 2 = 6\n",
      "3 * 3 = 9\n",
      "3 * 4 = 12\n",
      "3 * 5 = 15\n",
      "3 * 6 = 18\n",
      "3 * 7 = 21\n",
      "3 * 8 = 24\n",
      "3 * 9 = 27\n",
      "4 * 1 = 4\n",
      "4 * 2 = 8\n",
      "4 * 3 = 12\n",
      "4 * 4 = 16\n",
      "4 * 5 = 20\n",
      "4 * 6 = 24\n",
      "4 * 7 = 28\n",
      "4 * 8 = 32\n",
      "4 * 9 = 36\n",
      "5 * 1 = 5\n",
      "5 * 2 = 10\n",
      "5 * 3 = 15\n",
      "5 * 4 = 20\n",
      "5 * 5 = 25\n",
      "5 * 6 = 30\n",
      "5 * 7 = 35\n",
      "5 * 8 = 40\n",
      "5 * 9 = 45\n",
      "6 * 1 = 6\n",
      "6 * 2 = 12\n",
      "6 * 3 = 18\n",
      "6 * 4 = 24\n",
      "6 * 5 = 30\n",
      "6 * 6 = 36\n",
      "6 * 7 = 42\n",
      "6 * 8 = 48\n",
      "6 * 9 = 54\n",
      "7 * 1 = 7\n",
      "7 * 2 = 14\n",
      "7 * 3 = 21\n",
      "7 * 4 = 28\n",
      "7 * 5 = 35\n",
      "7 * 6 = 42\n",
      "7 * 7 = 49\n",
      "7 * 8 = 56\n",
      "7 * 9 = 63\n",
      "8 * 1 = 8\n",
      "8 * 2 = 16\n",
      "8 * 3 = 24\n",
      "8 * 4 = 32\n",
      "8 * 5 = 40\n",
      "8 * 6 = 48\n",
      "8 * 7 = 56\n",
      "8 * 8 = 64\n",
      "8 * 9 = 72\n",
      "9 * 1 = 9\n",
      "9 * 2 = 18\n",
      "9 * 3 = 27\n",
      "9 * 4 = 36\n",
      "9 * 5 = 45\n",
      "9 * 6 = 54\n",
      "9 * 7 = 63\n",
      "9 * 8 = 72\n",
      "9 * 9 = 81\n"
     ]
    }
   ],
   "source": [
    "i = 1\n",
    "\n",
    "while i <= 9:\n",
    "    j = 1\n",
    "    while j <= 9:\n",
    "        print(\"{} * {} = {}\".format(i, j, i * j))\n",
    "        j += 1\n",
    "    i += 1"
   ]
  }
 ],
 "metadata": {
  "kernelspec": {
   "display_name": "Python 3 (ipykernel)",
   "language": "python",
   "name": "python3"
  },
  "language_info": {
   "codemirror_mode": {
    "name": "ipython",
    "version": 3
   },
   "file_extension": ".py",
   "mimetype": "text/x-python",
   "name": "python",
   "nbconvert_exporter": "python",
   "pygments_lexer": "ipython3",
   "version": "3.8.12"
  }
 },
 "nbformat": 4,
 "nbformat_minor": 5
}
