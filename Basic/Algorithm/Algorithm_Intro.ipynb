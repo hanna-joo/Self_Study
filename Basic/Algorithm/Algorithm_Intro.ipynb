{
 "cells": [
  {
   "cell_type": "markdown",
   "id": "96c9c595",
   "metadata": {},
   "source": [
    "## Topic 01. 좋은 알고리즘이란?"
   ]
  },
  {
   "cell_type": "markdown",
   "id": "1ec4ab52",
   "metadata": {},
   "source": [
    "### 알고리즘이란?\n",
    "#### 1. 좋은 알고리즘의 특성\n",
    "- 정확성\n",
    "- 효율성\n",
    "\n",
    "#### 2. 컴퓨터 알고리즘\n",
    "- 컴퓨터가 어떤 문제를 해결하기 위해서 컴퓨터가 이해할 수 있는 방식으로 정리되어 있는 해결방법"
   ]
  },
  {
   "cell_type": "markdown",
   "id": "c9936c96",
   "metadata": {},
   "source": [
    "### 여러 가지 알고리즘\n",
    "#### 1. 탐색 알고리즘 : 저장된 정보들 중에서 원하는 값을 찾는 것"
   ]
  },
  {
   "cell_type": "markdown",
   "id": "f7d0715c",
   "metadata": {},
   "source": [
    "##### (1) 선형 탐색 알고리즘 (linear search algorithm)\n",
    "- 왼쪽부터 하나씩 살펴보면서 찾는 방법"
   ]
  },
  {
   "cell_type": "code",
   "execution_count": 2,
   "id": "3b1a9d15",
   "metadata": {},
   "outputs": [],
   "source": [
    "# 선형 탐색 구현하기\n",
    "def linear_search(element, some_list):\n",
    "    for idx in range(len(some_list)):\n",
    "        if element == some_list[idx]:\n",
    "            return idx\n",
    "    return None"
   ]
  },
  {
   "cell_type": "code",
   "execution_count": 3,
   "id": "e07fd422",
   "metadata": {},
   "outputs": [
    {
     "name": "stdout",
     "output_type": "stream",
     "text": [
      "0\n",
      "None\n",
      "2\n",
      "1\n",
      "4\n"
     ]
    }
   ],
   "source": [
    "print(linear_search(2, [2, 3, 5, 7, 11]))\n",
    "print(linear_search(0, [2, 3, 5, 7, 11]))\n",
    "print(linear_search(5, [2, 3, 5, 7, 11]))\n",
    "print(linear_search(3, [2, 3, 5, 7, 11]))\n",
    "print(linear_search(11, [2, 3, 5, 7, 11]))"
   ]
  },
  {
   "cell_type": "markdown",
   "id": "a3dbda71",
   "metadata": {},
   "source": [
    "##### (2) 이진 탐색 알고리즘 (binary search algorithm)\n",
    "- 반씩 제외시키면서 찾는 방법으로 **정렬된 리스트**에만 적용 가능함"
   ]
  },
  {
   "cell_type": "code",
   "execution_count": 4,
   "id": "c04ee4ac",
   "metadata": {},
   "outputs": [],
   "source": [
    "# 이진 탐색 구현하기\n",
    "def binary_search(element, some_list):\n",
    "    start = 0\n",
    "    end = len(some_list)-1\n",
    "    \n",
    "    while start <= end:\n",
    "        mid = (start+end)//2\n",
    "        if some_list[mid] == element:\n",
    "            return mid\n",
    "        elif some_list[mid] > element:\n",
    "            end = mid-1\n",
    "        else:\n",
    "            start = mid+1\n",
    "            \n",
    "    return None"
   ]
  },
  {
   "cell_type": "code",
   "execution_count": 5,
   "id": "b90e4119",
   "metadata": {},
   "outputs": [
    {
     "name": "stdout",
     "output_type": "stream",
     "text": [
      "None\n",
      "0\n",
      "None\n",
      "3\n",
      "None\n"
     ]
    }
   ],
   "source": [
    "print(binary_search(2, [1, 3, 5, 9, 10, 12]))\n",
    "print(binary_search(-1, [-1, 3, 5, 9, 10, 12]))\n",
    "print(binary_search(-3, [1, 3, 5, 9, 10, 12]))\n",
    "print(binary_search(9, [1, 3, 5, 9, 10, 12]))\n",
    "print(binary_search(15, [1, 3, 5, 9, 10, 12]))"
   ]
  }
 ],
 "metadata": {
  "kernelspec": {
   "display_name": "Python 3 (ipykernel)",
   "language": "python",
   "name": "python3"
  },
  "language_info": {
   "codemirror_mode": {
    "name": "ipython",
    "version": 3
   },
   "file_extension": ".py",
   "mimetype": "text/x-python",
   "name": "python",
   "nbconvert_exporter": "python",
   "pygments_lexer": "ipython3",
   "version": "3.8.12"
  }
 },
 "nbformat": 4,
 "nbformat_minor": 5
}
