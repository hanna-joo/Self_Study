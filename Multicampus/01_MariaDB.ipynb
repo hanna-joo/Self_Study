{
 "cells": [
  {
   "cell_type": "markdown",
   "id": "5164a0d9",
   "metadata": {},
   "source": [
    "# Linux 운영체제 기반의 Maria DB 활용\n",
    "- 기간 : 2022.05.09 ~ "
   ]
  },
  {
   "cell_type": "markdown",
   "id": "f8d7f613",
   "metadata": {},
   "source": [
    "## Linux 운영체제 사용을 위한 가상화 SW 설치\n",
    "Windows 운영체제에서 Linux 운영체제를 사용하기 위해 가상화 프로그램을 활용한다\n",
    "\n",
    "\n",
    "\n",
    "1. Oracle VM VirtualBox 6.1 버전 다운로드\n",
    "    + 리눅스, macOS, 솔라리스, 윈도우를 게스트 운영 체제로 가상화하는 x86 가상화 소프트웨어"
   ]
  },
  {
   "cell_type": "markdown",
   "id": "ca9b9be8",
   "metadata": {},
   "source": [
    "## 네트워크 세팅\n",
    "가상화 소프트웨어에 두 가지의 네트워크 생성 및 확인한다\n",
    "\n",
    "\n",
    "1. Nat-Networking\n",
    "    + 가상머신이 호스트 PC 를 통해 외부 네트워크와 통신할 때 사용되는 네트워크\n",
    "    + DHCP 지원 해제\n",
    "2. Host-only\n",
    "    + 외부와 단절된 내부 네트워크를 구축하는 것으로 구성된 가상머신들끼리만 통신할 때 사용되는 네트워크\n",
    "    + DHCP 서버 사용 해제"
   ]
  },
  {
   "cell_type": "markdown",
   "id": "2ccf4ecb",
   "metadata": {},
   "source": [
    "## 가상 시스템 가져오기\n",
    "가상화 소프트웨어에 가상 시스템을 불러온다\n",
    "\n",
    "\n",
    "1. CentOS 7 ova 파일 다운로드\n",
    "    + CentOS 란, Red Hat 제휴로 개발된 Linux계 운영 체제\n",
    "    + Red Hat 서버가 실무에서 많이 사용되고, 코드가 RHEL(Red Hat Enterprise Linux) 제품과 유사하기 때문에 해당 운영체제 사용\n",
    "2. VirtualBox 관리자 에서 가상 시스템 가져오기\n",
    "    + 가져오기가 되지 않는 경우 : BIOS 진입 > Advanced > Virtualization Technology \"Enabled\" 로 변경"
   ]
  },
  {
   "cell_type": "markdown",
   "id": "2233c43f",
   "metadata": {},
   "source": [
    "## 가상머신에 네트워크 적용\n",
    "\n",
    "\n",
    "1. 가상머신이 실행 중이라면 종료\n",
    "2. VirtualBox 관리자에서 네트워크 적용\n",
    "    + 해당 가상머신의 네트워크 어댑터 설정\n",
    "    + 어댑터1 에는 NAT 네트워크 설정\n",
    "    + 어댑터2 에는 호스트 전용 어댑터 설정"
   ]
  },
  {
   "cell_type": "markdown",
   "id": "b1ae258a",
   "metadata": {},
   "source": [
    "## 가상머신에서 네트워크 설정\n",
    "해당 가상머신을 실행 후 정확히 어떤 네트워크를 사용할 것인지 주소를 입력한다\n",
    "\n",
    "\n",
    "1. 가상머신 실행\n",
    "2. 네트워크 전원 OFF \n",
    "3. enp0s3 (NAT Networking) IPv4 설정\n",
    "    + Method \"Manual\" 로 변경\n",
    "    + Addresses(Address, Netmask, Gateway) 지정\n",
    "    + DNS 내용 추가\n",
    "4. enp0s8 (Host-only) IPv4 설정\n",
    "    + Method \"Manual\" 로 변경\n",
    "    + Addresses(Address, Netmask, Gateway) 지정\n",
    "    + DNS 내용 추가\n",
    "5. 네트워크 연결 확인\n",
    "    + 해당 가상머신의 Terminal 에서 ping 8.8.8.8 입력\n",
    "    + 결과로 ttl, time 항목이 나오는지 확인\n",
    "    + 실행 취소 또는 중단 후 빠져나오기를 원할 경우 ctrl+c"
   ]
  },
  {
   "cell_type": "markdown",
   "id": "0974a391",
   "metadata": {},
   "source": [
    "## 데이터베이스 설치\n",
    "가상머신에서 데이터베이스(MariaDB)를 설치한다\n",
    "\n",
    "\n",
    "```\n",
    "yum install mariadb-server\n",
    "```"
   ]
  },
  {
   "cell_type": "markdown",
   "id": "3bd96375",
   "metadata": {},
   "source": [
    "## 데이터베이스 서비스 실행\n",
    "가상머신을 종류 후 다시 실행해도 MariaDB 를 실행할 수 있도록 설정한다\n",
    "\n",
    "```\n",
    "systemctl enable mariadb --now\n",
    "```"
   ]
  },
  {
   "cell_type": "markdown",
   "id": "1b3cfb65",
   "metadata": {},
   "source": [
    "## 데이터베이스 접속\n",
    "MariaDB 프로그램에 접속한다  \n",
    "\n",
    "```\n",
    "mysql -h localhost -u root -p\n",
    "```\n",
    "\n",
    "```\n",
    "mysql -u root -p\n",
    "```\n",
    "\n",
    "```\n",
    "mysql -u user01 -p\n",
    "```\n",
    "\n",
    "위 코드를 실행 시 password 를 입력하라고 나오는데 없는 경우 [Enter] 키 입력한다  \n",
    "로컬호스트로 로그인할 경우 -h localhost 생략 가능하다"
   ]
  },
  {
   "cell_type": "markdown",
   "id": "8479d739",
   "metadata": {},
   "source": [
    "## Maria DB 비밀번호 설정\n",
    "데이터베이스에 비밀번호를 설정 또는 변경한다\n",
    "\n",
    "~~~\n",
    "mysql_secure_installation\n",
    "~~~"
   ]
  },
  {
   "cell_type": "markdown",
   "id": "111e27cb",
   "metadata": {},
   "source": [
    "## Maria DB 활용"
   ]
  },
  {
   "cell_type": "markdown",
   "id": "9a91d558",
   "metadata": {},
   "source": [
    "### 1. 데이터 정의 언어 (Data Define Language)\n",
    "- 데이터베이스 또는 테이블의 구조를 정의하는 언어\n",
    "- 사용 구문\n",
    "    + CREATE (생성)\n",
    "    + ALTER (수정)\n",
    "    + DROP (삭제)"
   ]
  },
  {
   "cell_type": "markdown",
   "id": "2b025a06",
   "metadata": {},
   "source": [
    "#### 1.1. CREATE 구문\n",
    "1) **데이터 베이스** 생성\n",
    "~~~sql\n",
    "CREATE DATABASE database-name;\n",
    "~~~\n",
    "\n",
    "2) 데이터 베이스 확인\n",
    "~~~sql\n",
    "SHOW DATABASES;\n",
    "~~~\n",
    "\n",
    "3) 데이터 베이스 접근\n",
    "~~~sql\n",
    "USE database-name;\n",
    "~~~\n",
    "\n",
    "4) **테이블** 생성\n",
    "- datatype : char, varchar, int\n",
    "- option : AUTO_INCREMENT, NOT NULL\n",
    "~~~sql\n",
    "CREATE TABLE table-name(\n",
    "    field-name1 data-type option,\n",
    "    field-name2 data-type option,\n",
    "    ...\n",
    "    primary key(field-name1)\n",
    "    );\n",
    "~~~\n",
    "\n",
    "5) 테이블 확인\n",
    "~~~sql\n",
    "SHOW TABLES;\n",
    "~~~\n",
    "\n",
    "6) 로컬 호스트 사용자 생성\n",
    "~~~sql\n",
    "CREATE USER user-name@localhost [IDENTIFIED BY 'password']\n",
    "~~~\n",
    "\n",
    "7) 사용자 확인\n",
    "- 사용자는 mysql 데이터베이스의 user 테이블에 저장되어 있음\n",
    "~~~sql\n",
    "USE mysql;\n",
    "SELECT User, Host, Password FROM user WHERE User='user-name';\n",
    "~~~"
   ]
  },
  {
   "cell_type": "markdown",
   "id": "3ee0f04d",
   "metadata": {},
   "source": [
    "#### 1.2. ALTER 구문\n",
    "1) 테이블에 필드 추가\n",
    "~~~sql\n",
    "ALTER TABLE table-name ADD field-name data-type [option];\n",
    "~~~\n",
    "\n",
    "2) 테이블 필드 정보 확인\n",
    "~~~sql\n",
    "DESCRIBE user;\n",
    "~~~\n",
    "\n",
    "3) 테이블 필드 제거\n",
    "~~~sql\n",
    "ALTER TABLE table-name DROP COLUMN field-name;\n",
    "~~~\n",
    "\n",
    "4) 테이블 필드 이름 및 속성 변경\n",
    "~~~sql\n",
    "ALTER TABLE table-name CHANGE old-field-name new-field-name data-type [option];\n",
    "~~~"
   ]
  },
  {
   "cell_type": "markdown",
   "id": "d7a2d76c",
   "metadata": {},
   "source": [
    "#### 1.3. DROP 구문\n",
    "\n",
    "*삭제 전후로 목록 확인하는 게 좋다*\n",
    "\n",
    "1) 테이블 삭제\n",
    "~~~sql\n",
    "DROP TABLE table-name;\n",
    "~~~\n",
    "\n",
    "2) 데이터베이스 삭제\n",
    "~~~sql\n",
    "DROP DATABASE database-name;\n",
    "~~~\n"
   ]
  },
  {
   "cell_type": "markdown",
   "id": "53a8505d",
   "metadata": {},
   "source": [
    "## Terminal 꿀팁\n",
    "- 터미널 글자 크기 확장 : [ctrl] + [shift] + [=]\n",
    "- 터미널 글자 크기 축소 : [ctrl] + [-]\n",
    "- 현재 작업중인 공간의 파일 리스트 확인 : ls\n",
    "- 현재 작업중인 사용자 확인 : whoami\n",
    "- 현재 날짜와 시간 표시 : date\n",
    "- 입력 화면 위로 올리기 : [ctrl] + [L] / clear"
   ]
  },
  {
   "cell_type": "markdown",
   "id": "716d4d31",
   "metadata": {},
   "source": [
    "## Maria DB 꿀팁\n",
    "- 데이터베이스 접근\n",
    "~~~sql\n",
    "USE databasename;\n",
    "~~~\n",
    "- 데이터베이스 확인\n",
    "~~~sql\n",
    "SHOW DATABASES;\n",
    "~~~\n",
    "- 테이블 확인\n",
    "~~~sql\n",
    "SHOW TABLES;\n",
    "~~~\n",
    "- 세미콜론(;) \n",
    "    + 구문을 마친다는 의미\n",
    "    + 세미콜론을 입력하지 않으면 종료되지 않음 (=실행되지 않음)\n",
    "- 종료 시 : quit / exit\n",
    "- 명령어는 대소문자 구별하지 않음"
   ]
  },
  {
   "cell_type": "markdown",
   "id": "59c21052",
   "metadata": {},
   "source": []
  },
  {
   "cell_type": "markdown",
   "id": "22e401e3",
   "metadata": {},
   "source": []
  },
  {
   "cell_type": "markdown",
   "id": "5b6db505",
   "metadata": {},
   "source": []
  },
  {
   "cell_type": "markdown",
   "id": "3a9382d2",
   "metadata": {},
   "source": []
  },
  {
   "cell_type": "markdown",
   "id": "e998d1fd",
   "metadata": {},
   "source": []
  },
  {
   "cell_type": "markdown",
   "id": "9bee9dcc",
   "metadata": {},
   "source": []
  },
  {
   "cell_type": "markdown",
   "id": "b5240af8",
   "metadata": {},
   "source": []
  }
 ],
 "metadata": {
  "kernelspec": {
   "display_name": "Python 3 (ipykernel)",
   "language": "python",
   "name": "python3"
  },
  "language_info": {
   "codemirror_mode": {
    "name": "ipython",
    "version": 3
   },
   "file_extension": ".py",
   "mimetype": "text/x-python",
   "name": "python",
   "nbconvert_exporter": "python",
   "pygments_lexer": "ipython3",
   "version": "3.8.12"
  }
 },
 "nbformat": 4,
 "nbformat_minor": 5
}
